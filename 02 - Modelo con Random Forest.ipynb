{
  "nbformat": 4,
  "nbformat_minor": 0,
  "metadata": {
    "colab": {
      "provenance": []
    },
    "kernelspec": {
      "name": "python3",
      "display_name": "Python 3"
    },
    "language_info": {
      "name": "python"
    }
  },
  "cells": [
    {
      "cell_type": "markdown",
      "source": [
        "# **Modelo con Random Forest**"
      ],
      "metadata": {
        "id": "aU4X_zm7lowH"
      }
    },
    {
      "cell_type": "code",
      "source": [
        "import pandas as pd\n",
        "import numpy as np\n",
        "from sklearn.model_selection import train_test_split, learning_curve, ShuffleSplit\n",
        "from sklearn.ensemble import RandomForestClassifier\n",
        "from sklearn.model_selection import GridSearchCV\n",
        "import matplotlib.pyplot as plt"
      ],
      "metadata": {
        "id": "y9CB8LWRmPvg"
      },
      "execution_count": null,
      "outputs": []
    },
    {
      "cell_type": "markdown",
      "source": [
        "## **Descarga del Dataset original**"
      ],
      "metadata": {
        "id": "uQDHUb9xxfix"
      }
    },
    {
      "cell_type": "markdown",
      "source": [
        "Para descargar el dataset a Colab, es necesario subir su Kaggle API Key personal (para crear una nueva, revise la sección Authentication en https://www.kaggle.com/docs/api).\n",
        "\n",
        "Suba a continuación el archivo `.json` generado."
      ],
      "metadata": {
        "id": "2c5ymp78xowc"
      }
    },
    {
      "cell_type": "code",
      "execution_count": null,
      "metadata": {
        "id": "TXW2q7hO-1fL",
        "outputId": "eef61c84-41a5-4a4f-c476-62e8ba3b3538",
        "colab": {
          "base_uri": "https://localhost:8080/",
          "height": 92
        }
      },
      "outputs": [
        {
          "output_type": "display_data",
          "data": {
            "text/plain": [
              "<IPython.core.display.HTML object>"
            ],
            "text/html": [
              "\n",
              "     <input type=\"file\" id=\"files-121a2d93-4ff6-44ab-88a7-dabd5f94538f\" name=\"files[]\" multiple disabled\n",
              "        style=\"border:none\" />\n",
              "     <output id=\"result-121a2d93-4ff6-44ab-88a7-dabd5f94538f\">\n",
              "      Upload widget is only available when the cell has been executed in the\n",
              "      current browser session. Please rerun this cell to enable.\n",
              "      </output>\n",
              "      <script>// Copyright 2017 Google LLC\n",
              "//\n",
              "// Licensed under the Apache License, Version 2.0 (the \"License\");\n",
              "// you may not use this file except in compliance with the License.\n",
              "// You may obtain a copy of the License at\n",
              "//\n",
              "//      http://www.apache.org/licenses/LICENSE-2.0\n",
              "//\n",
              "// Unless required by applicable law or agreed to in writing, software\n",
              "// distributed under the License is distributed on an \"AS IS\" BASIS,\n",
              "// WITHOUT WARRANTIES OR CONDITIONS OF ANY KIND, either express or implied.\n",
              "// See the License for the specific language governing permissions and\n",
              "// limitations under the License.\n",
              "\n",
              "/**\n",
              " * @fileoverview Helpers for google.colab Python module.\n",
              " */\n",
              "(function(scope) {\n",
              "function span(text, styleAttributes = {}) {\n",
              "  const element = document.createElement('span');\n",
              "  element.textContent = text;\n",
              "  for (const key of Object.keys(styleAttributes)) {\n",
              "    element.style[key] = styleAttributes[key];\n",
              "  }\n",
              "  return element;\n",
              "}\n",
              "\n",
              "// Max number of bytes which will be uploaded at a time.\n",
              "const MAX_PAYLOAD_SIZE = 100 * 1024;\n",
              "\n",
              "function _uploadFiles(inputId, outputId) {\n",
              "  const steps = uploadFilesStep(inputId, outputId);\n",
              "  const outputElement = document.getElementById(outputId);\n",
              "  // Cache steps on the outputElement to make it available for the next call\n",
              "  // to uploadFilesContinue from Python.\n",
              "  outputElement.steps = steps;\n",
              "\n",
              "  return _uploadFilesContinue(outputId);\n",
              "}\n",
              "\n",
              "// This is roughly an async generator (not supported in the browser yet),\n",
              "// where there are multiple asynchronous steps and the Python side is going\n",
              "// to poll for completion of each step.\n",
              "// This uses a Promise to block the python side on completion of each step,\n",
              "// then passes the result of the previous step as the input to the next step.\n",
              "function _uploadFilesContinue(outputId) {\n",
              "  const outputElement = document.getElementById(outputId);\n",
              "  const steps = outputElement.steps;\n",
              "\n",
              "  const next = steps.next(outputElement.lastPromiseValue);\n",
              "  return Promise.resolve(next.value.promise).then((value) => {\n",
              "    // Cache the last promise value to make it available to the next\n",
              "    // step of the generator.\n",
              "    outputElement.lastPromiseValue = value;\n",
              "    return next.value.response;\n",
              "  });\n",
              "}\n",
              "\n",
              "/**\n",
              " * Generator function which is called between each async step of the upload\n",
              " * process.\n",
              " * @param {string} inputId Element ID of the input file picker element.\n",
              " * @param {string} outputId Element ID of the output display.\n",
              " * @return {!Iterable<!Object>} Iterable of next steps.\n",
              " */\n",
              "function* uploadFilesStep(inputId, outputId) {\n",
              "  const inputElement = document.getElementById(inputId);\n",
              "  inputElement.disabled = false;\n",
              "\n",
              "  const outputElement = document.getElementById(outputId);\n",
              "  outputElement.innerHTML = '';\n",
              "\n",
              "  const pickedPromise = new Promise((resolve) => {\n",
              "    inputElement.addEventListener('change', (e) => {\n",
              "      resolve(e.target.files);\n",
              "    });\n",
              "  });\n",
              "\n",
              "  const cancel = document.createElement('button');\n",
              "  inputElement.parentElement.appendChild(cancel);\n",
              "  cancel.textContent = 'Cancel upload';\n",
              "  const cancelPromise = new Promise((resolve) => {\n",
              "    cancel.onclick = () => {\n",
              "      resolve(null);\n",
              "    };\n",
              "  });\n",
              "\n",
              "  // Wait for the user to pick the files.\n",
              "  const files = yield {\n",
              "    promise: Promise.race([pickedPromise, cancelPromise]),\n",
              "    response: {\n",
              "      action: 'starting',\n",
              "    }\n",
              "  };\n",
              "\n",
              "  cancel.remove();\n",
              "\n",
              "  // Disable the input element since further picks are not allowed.\n",
              "  inputElement.disabled = true;\n",
              "\n",
              "  if (!files) {\n",
              "    return {\n",
              "      response: {\n",
              "        action: 'complete',\n",
              "      }\n",
              "    };\n",
              "  }\n",
              "\n",
              "  for (const file of files) {\n",
              "    const li = document.createElement('li');\n",
              "    li.append(span(file.name, {fontWeight: 'bold'}));\n",
              "    li.append(span(\n",
              "        `(${file.type || 'n/a'}) - ${file.size} bytes, ` +\n",
              "        `last modified: ${\n",
              "            file.lastModifiedDate ? file.lastModifiedDate.toLocaleDateString() :\n",
              "                                    'n/a'} - `));\n",
              "    const percent = span('0% done');\n",
              "    li.appendChild(percent);\n",
              "\n",
              "    outputElement.appendChild(li);\n",
              "\n",
              "    const fileDataPromise = new Promise((resolve) => {\n",
              "      const reader = new FileReader();\n",
              "      reader.onload = (e) => {\n",
              "        resolve(e.target.result);\n",
              "      };\n",
              "      reader.readAsArrayBuffer(file);\n",
              "    });\n",
              "    // Wait for the data to be ready.\n",
              "    let fileData = yield {\n",
              "      promise: fileDataPromise,\n",
              "      response: {\n",
              "        action: 'continue',\n",
              "      }\n",
              "    };\n",
              "\n",
              "    // Use a chunked sending to avoid message size limits. See b/62115660.\n",
              "    let position = 0;\n",
              "    do {\n",
              "      const length = Math.min(fileData.byteLength - position, MAX_PAYLOAD_SIZE);\n",
              "      const chunk = new Uint8Array(fileData, position, length);\n",
              "      position += length;\n",
              "\n",
              "      const base64 = btoa(String.fromCharCode.apply(null, chunk));\n",
              "      yield {\n",
              "        response: {\n",
              "          action: 'append',\n",
              "          file: file.name,\n",
              "          data: base64,\n",
              "        },\n",
              "      };\n",
              "\n",
              "      let percentDone = fileData.byteLength === 0 ?\n",
              "          100 :\n",
              "          Math.round((position / fileData.byteLength) * 100);\n",
              "      percent.textContent = `${percentDone}% done`;\n",
              "\n",
              "    } while (position < fileData.byteLength);\n",
              "  }\n",
              "\n",
              "  // All done.\n",
              "  yield {\n",
              "    response: {\n",
              "      action: 'complete',\n",
              "    }\n",
              "  };\n",
              "}\n",
              "\n",
              "scope.google = scope.google || {};\n",
              "scope.google.colab = scope.google.colab || {};\n",
              "scope.google.colab._files = {\n",
              "  _uploadFiles,\n",
              "  _uploadFilesContinue,\n",
              "};\n",
              "})(self);\n",
              "</script> "
            ]
          },
          "metadata": {}
        },
        {
          "output_type": "stream",
          "name": "stdout",
          "text": [
            "Saving kaggle.json to kaggle.json\n"
          ]
        },
        {
          "output_type": "execute_result",
          "data": {
            "text/plain": [
              "{'kaggle.json': b'{\"username\":\"daniellujanagudelo\",\"key\":\"e0f7fc0287fd836756e720097ec0469f\"}'}"
            ]
          },
          "metadata": {},
          "execution_count": 3
        }
      ],
      "source": [
        "from google.colab import files\n",
        "files.upload()"
      ]
    },
    {
      "cell_type": "code",
      "source": [
        "!mkdir ~/.kaggle\n",
        "!mv ./kaggle.json ~/.kaggle/\n",
        "!chmod 600 ~/.kaggle/kaggle.json"
      ],
      "metadata": {
        "id": "b8_9lBL4_Uea"
      },
      "execution_count": null,
      "outputs": []
    },
    {
      "cell_type": "code",
      "source": [
        "!kaggle competitions download -c home-credit-default-risk"
      ],
      "metadata": {
        "colab": {
          "base_uri": "https://localhost:8080/"
        },
        "id": "jCyHMOIA_bna",
        "outputId": "20ea718a-350c-4ad9-9ab2-2347cc79be06"
      },
      "execution_count": null,
      "outputs": [
        {
          "output_type": "stream",
          "name": "stdout",
          "text": [
            "Downloading home-credit-default-risk.zip to /content\n",
            " 99% 682M/688M [00:08<00:00, 104MB/s]\n",
            "100% 688M/688M [00:08<00:00, 80.6MB/s]\n"
          ]
        }
      ]
    },
    {
      "cell_type": "code",
      "source": [
        "import zipfile\n",
        "zip_ref = zipfile.ZipFile('/content/home-credit-default-risk.zip', 'r')\n",
        "zip_ref.extractall('/content')\n",
        "zip_ref.close()"
      ],
      "metadata": {
        "id": "DiNeBOc7_0Ze"
      },
      "execution_count": null,
      "outputs": []
    },
    {
      "cell_type": "markdown",
      "source": [
        "## **Preprocesamiento**"
      ],
      "metadata": {
        "id": "e5nw1hs-lyoq"
      }
    },
    {
      "cell_type": "markdown",
      "source": [
        "La siguiente función realiza todo el preprocesamiento necesario a los datos, explicado en [01 - Preprocesamiento.ipynb](https://colab.research.google.com/drive/1w9a0auNVqZ2hN_urrf3rmJ-3gVfDUBx0#scrollTo=2c5ymp78xowc)"
      ],
      "metadata": {
        "id": "7EPeKnk1l3TQ"
      }
    },
    {
      "cell_type": "code",
      "source": [
        "def preprocess_data(data: pd.DataFrame, test_data: pd.DataFrame):\n",
        "    def fill_nan_with_mode(column):\n",
        "        mode = column.mode()[0]\n",
        "        return column.fillna(mode)\n",
        "    data = data.fillna(data.mean()).apply(fill_nan_with_mode, axis=0)\n",
        "    test_data = test_data.fillna(test_data.mean()).apply(fill_nan_with_mode, axis=0)\n",
        "    cat_columns = data.select_dtypes(include=[\"object\"])\n",
        "    data_encoded = pd.get_dummies(data, columns=cat_columns.columns)\n",
        "    test_data_encoded = pd.get_dummies(test_data, columns=cat_columns.columns)\n",
        "\n",
        "    return data_encoded, test_data_encoded\n",
        "\n",
        "data, test_data = preprocess_data(pd.read_csv(\"/content/application_train.csv\"), pd.read_csv(\"/content/application_test.csv\"))"
      ],
      "metadata": {
        "colab": {
          "base_uri": "https://localhost:8080/"
        },
        "id": "eLYdAWFklwNC",
        "outputId": "2200ddc2-e87f-4511-ea7c-264fc8c633a8"
      },
      "execution_count": null,
      "outputs": [
        {
          "output_type": "stream",
          "name": "stderr",
          "text": [
            "<ipython-input-7-c319868e6578>:5: FutureWarning: The default value of numeric_only in DataFrame.mean is deprecated. In a future version, it will default to False. In addition, specifying 'numeric_only=None' is deprecated. Select only valid columns or specify the value of numeric_only to silence this warning.\n",
            "  data = data.fillna(data.mean()).apply(fill_nan_with_mode, axis=0)\n",
            "<ipython-input-7-c319868e6578>:6: FutureWarning: The default value of numeric_only in DataFrame.mean is deprecated. In a future version, it will default to False. In addition, specifying 'numeric_only=None' is deprecated. Select only valid columns or specify the value of numeric_only to silence this warning.\n",
            "  test_data = test_data.fillna(test_data.mean()).apply(fill_nan_with_mode, axis=0)\n"
          ]
        }
      ]
    },
    {
      "cell_type": "markdown",
      "source": [
        "## **Primera iteración**"
      ],
      "metadata": {
        "id": "yaKK-BcPnhUe"
      }
    },
    {
      "cell_type": "markdown",
      "source": [
        "Antes de entrenar el modelo, es necesario sincronizar la data de entrenamiento y de prueba, ya que debido al preprocesamiento, pueden tener diferentes columnas."
      ],
      "metadata": {
        "id": "9LPtfDp317Ww"
      }
    },
    {
      "cell_type": "code",
      "source": [
        "X_train = data.drop(\"TARGET\", axis=1)\n",
        "y_train = data[\"TARGET\"]"
      ],
      "metadata": {
        "id": "pfejFu1IBq36"
      },
      "execution_count": null,
      "outputs": []
    },
    {
      "cell_type": "code",
      "source": [
        "for col in X_train.columns.difference(test_data.columns):\n",
        "    test_data[col] = [0] * len(test_data)\n",
        "\n",
        "test_data = test_data[X_train.columns]"
      ],
      "metadata": {
        "id": "oqIcJFoTKo_S"
      },
      "execution_count": null,
      "outputs": []
    },
    {
      "cell_type": "markdown",
      "source": [
        "Una vez `test_data_encoded` y `X_train` coinciden en columnas, podemos entrenar un modelo.\n",
        "\n",
        "Para nuestra primera iteración, decidimos utilizar `RandomForestClassifier` con todos sus parámetros por defecto."
      ],
      "metadata": {
        "id": "5qRJo9wL2RUH"
      }
    },
    {
      "cell_type": "code",
      "source": [
        "model = RandomForestClassifier(n_estimators=100, random_state=42)\n",
        "model.fit(X_train, y_train)"
      ],
      "metadata": {
        "colab": {
          "base_uri": "https://localhost:8080/",
          "height": 75
        },
        "id": "klQrmzOtCUwH",
        "outputId": "d5b805f9-40f8-4dcc-c5a1-e3347a4acf3e"
      },
      "execution_count": null,
      "outputs": [
        {
          "output_type": "execute_result",
          "data": {
            "text/plain": [
              "RandomForestClassifier(random_state=42)"
            ],
            "text/html": [
              "<style>#sk-container-id-1 {color: black;background-color: white;}#sk-container-id-1 pre{padding: 0;}#sk-container-id-1 div.sk-toggleable {background-color: white;}#sk-container-id-1 label.sk-toggleable__label {cursor: pointer;display: block;width: 100%;margin-bottom: 0;padding: 0.3em;box-sizing: border-box;text-align: center;}#sk-container-id-1 label.sk-toggleable__label-arrow:before {content: \"▸\";float: left;margin-right: 0.25em;color: #696969;}#sk-container-id-1 label.sk-toggleable__label-arrow:hover:before {color: black;}#sk-container-id-1 div.sk-estimator:hover label.sk-toggleable__label-arrow:before {color: black;}#sk-container-id-1 div.sk-toggleable__content {max-height: 0;max-width: 0;overflow: hidden;text-align: left;background-color: #f0f8ff;}#sk-container-id-1 div.sk-toggleable__content pre {margin: 0.2em;color: black;border-radius: 0.25em;background-color: #f0f8ff;}#sk-container-id-1 input.sk-toggleable__control:checked~div.sk-toggleable__content {max-height: 200px;max-width: 100%;overflow: auto;}#sk-container-id-1 input.sk-toggleable__control:checked~label.sk-toggleable__label-arrow:before {content: \"▾\";}#sk-container-id-1 div.sk-estimator input.sk-toggleable__control:checked~label.sk-toggleable__label {background-color: #d4ebff;}#sk-container-id-1 div.sk-label input.sk-toggleable__control:checked~label.sk-toggleable__label {background-color: #d4ebff;}#sk-container-id-1 input.sk-hidden--visually {border: 0;clip: rect(1px 1px 1px 1px);clip: rect(1px, 1px, 1px, 1px);height: 1px;margin: -1px;overflow: hidden;padding: 0;position: absolute;width: 1px;}#sk-container-id-1 div.sk-estimator {font-family: monospace;background-color: #f0f8ff;border: 1px dotted black;border-radius: 0.25em;box-sizing: border-box;margin-bottom: 0.5em;}#sk-container-id-1 div.sk-estimator:hover {background-color: #d4ebff;}#sk-container-id-1 div.sk-parallel-item::after {content: \"\";width: 100%;border-bottom: 1px solid gray;flex-grow: 1;}#sk-container-id-1 div.sk-label:hover label.sk-toggleable__label {background-color: #d4ebff;}#sk-container-id-1 div.sk-serial::before {content: \"\";position: absolute;border-left: 1px solid gray;box-sizing: border-box;top: 0;bottom: 0;left: 50%;z-index: 0;}#sk-container-id-1 div.sk-serial {display: flex;flex-direction: column;align-items: center;background-color: white;padding-right: 0.2em;padding-left: 0.2em;position: relative;}#sk-container-id-1 div.sk-item {position: relative;z-index: 1;}#sk-container-id-1 div.sk-parallel {display: flex;align-items: stretch;justify-content: center;background-color: white;position: relative;}#sk-container-id-1 div.sk-item::before, #sk-container-id-1 div.sk-parallel-item::before {content: \"\";position: absolute;border-left: 1px solid gray;box-sizing: border-box;top: 0;bottom: 0;left: 50%;z-index: -1;}#sk-container-id-1 div.sk-parallel-item {display: flex;flex-direction: column;z-index: 1;position: relative;background-color: white;}#sk-container-id-1 div.sk-parallel-item:first-child::after {align-self: flex-end;width: 50%;}#sk-container-id-1 div.sk-parallel-item:last-child::after {align-self: flex-start;width: 50%;}#sk-container-id-1 div.sk-parallel-item:only-child::after {width: 0;}#sk-container-id-1 div.sk-dashed-wrapped {border: 1px dashed gray;margin: 0 0.4em 0.5em 0.4em;box-sizing: border-box;padding-bottom: 0.4em;background-color: white;}#sk-container-id-1 div.sk-label label {font-family: monospace;font-weight: bold;display: inline-block;line-height: 1.2em;}#sk-container-id-1 div.sk-label-container {text-align: center;}#sk-container-id-1 div.sk-container {/* jupyter's `normalize.less` sets `[hidden] { display: none; }` but bootstrap.min.css set `[hidden] { display: none !important; }` so we also need the `!important` here to be able to override the default hidden behavior on the sphinx rendered scikit-learn.org. See: https://github.com/scikit-learn/scikit-learn/issues/21755 */display: inline-block !important;position: relative;}#sk-container-id-1 div.sk-text-repr-fallback {display: none;}</style><div id=\"sk-container-id-1\" class=\"sk-top-container\"><div class=\"sk-text-repr-fallback\"><pre>RandomForestClassifier(random_state=42)</pre><b>In a Jupyter environment, please rerun this cell to show the HTML representation or trust the notebook. <br />On GitHub, the HTML representation is unable to render, please try loading this page with nbviewer.org.</b></div><div class=\"sk-container\" hidden><div class=\"sk-item\"><div class=\"sk-estimator sk-toggleable\"><input class=\"sk-toggleable__control sk-hidden--visually\" id=\"sk-estimator-id-1\" type=\"checkbox\" checked><label for=\"sk-estimator-id-1\" class=\"sk-toggleable__label sk-toggleable__label-arrow\">RandomForestClassifier</label><div class=\"sk-toggleable__content\"><pre>RandomForestClassifier(random_state=42)</pre></div></div></div></div></div>"
            ]
          },
          "metadata": {},
          "execution_count": 13
        }
      ]
    },
    {
      "cell_type": "markdown",
      "source": [
        "Luego de entrenar el modelo, podemos realizar la predicción con los datos proveídos por la competencia de Kaggle."
      ],
      "metadata": {
        "id": "5QLVcwdD2uZk"
      }
    },
    {
      "cell_type": "code",
      "source": [
        "y_pred = model.predict_proba(test_data)"
      ],
      "metadata": {
        "id": "sdH3bQJeJJbD"
      },
      "execution_count": null,
      "outputs": []
    },
    {
      "cell_type": "markdown",
      "source": [
        "### **Generación del CSV con los resultados**"
      ],
      "metadata": {
        "id": "gf2W36Tr31Tf"
      }
    },
    {
      "cell_type": "code",
      "source": [
        "df = pd.DataFrame()"
      ],
      "metadata": {
        "id": "AZ-2KB0gSQ4r"
      },
      "execution_count": null,
      "outputs": []
    },
    {
      "cell_type": "code",
      "source": [
        "df[\"SK_ID_CURR\"] = test_data[\"SK_ID_CURR\"]\n",
        "df[\"TARGET\"] = y_pred[:, 1]\n",
        "df = df.set_index(\"SK_ID_CURR\")"
      ],
      "metadata": {
        "id": "YwdQcXHJSTIb"
      },
      "execution_count": null,
      "outputs": []
    },
    {
      "cell_type": "code",
      "source": [
        "df"
      ],
      "metadata": {
        "colab": {
          "base_uri": "https://localhost:8080/",
          "height": 455
        },
        "id": "bYBJcOPSSW_g",
        "outputId": "2e7e0a9b-12b7-43c2-9a5d-09f50bb7a164"
      },
      "execution_count": null,
      "outputs": [
        {
          "output_type": "execute_result",
          "data": {
            "text/plain": [
              "            TARGET\n",
              "SK_ID_CURR        \n",
              "100001        0.11\n",
              "100005        0.11\n",
              "100013        0.08\n",
              "100028        0.06\n",
              "100038        0.10\n",
              "...            ...\n",
              "456221        0.08\n",
              "456222        0.08\n",
              "456223        0.09\n",
              "456224        0.06\n",
              "456250        0.15\n",
              "\n",
              "[48744 rows x 1 columns]"
            ],
            "text/html": [
              "\n",
              "  <div id=\"df-4e35fc53-e6dc-4ce9-a0f5-624494e9ca11\" class=\"colab-df-container\">\n",
              "    <div>\n",
              "<style scoped>\n",
              "    .dataframe tbody tr th:only-of-type {\n",
              "        vertical-align: middle;\n",
              "    }\n",
              "\n",
              "    .dataframe tbody tr th {\n",
              "        vertical-align: top;\n",
              "    }\n",
              "\n",
              "    .dataframe thead th {\n",
              "        text-align: right;\n",
              "    }\n",
              "</style>\n",
              "<table border=\"1\" class=\"dataframe\">\n",
              "  <thead>\n",
              "    <tr style=\"text-align: right;\">\n",
              "      <th></th>\n",
              "      <th>TARGET</th>\n",
              "    </tr>\n",
              "    <tr>\n",
              "      <th>SK_ID_CURR</th>\n",
              "      <th></th>\n",
              "    </tr>\n",
              "  </thead>\n",
              "  <tbody>\n",
              "    <tr>\n",
              "      <th>100001</th>\n",
              "      <td>0.11</td>\n",
              "    </tr>\n",
              "    <tr>\n",
              "      <th>100005</th>\n",
              "      <td>0.11</td>\n",
              "    </tr>\n",
              "    <tr>\n",
              "      <th>100013</th>\n",
              "      <td>0.08</td>\n",
              "    </tr>\n",
              "    <tr>\n",
              "      <th>100028</th>\n",
              "      <td>0.06</td>\n",
              "    </tr>\n",
              "    <tr>\n",
              "      <th>100038</th>\n",
              "      <td>0.10</td>\n",
              "    </tr>\n",
              "    <tr>\n",
              "      <th>...</th>\n",
              "      <td>...</td>\n",
              "    </tr>\n",
              "    <tr>\n",
              "      <th>456221</th>\n",
              "      <td>0.08</td>\n",
              "    </tr>\n",
              "    <tr>\n",
              "      <th>456222</th>\n",
              "      <td>0.08</td>\n",
              "    </tr>\n",
              "    <tr>\n",
              "      <th>456223</th>\n",
              "      <td>0.09</td>\n",
              "    </tr>\n",
              "    <tr>\n",
              "      <th>456224</th>\n",
              "      <td>0.06</td>\n",
              "    </tr>\n",
              "    <tr>\n",
              "      <th>456250</th>\n",
              "      <td>0.15</td>\n",
              "    </tr>\n",
              "  </tbody>\n",
              "</table>\n",
              "<p>48744 rows × 1 columns</p>\n",
              "</div>\n",
              "    <div class=\"colab-df-buttons\">\n",
              "\n",
              "  <div class=\"colab-df-container\">\n",
              "    <button class=\"colab-df-convert\" onclick=\"convertToInteractive('df-4e35fc53-e6dc-4ce9-a0f5-624494e9ca11')\"\n",
              "            title=\"Convert this dataframe to an interactive table.\"\n",
              "            style=\"display:none;\">\n",
              "\n",
              "  <svg xmlns=\"http://www.w3.org/2000/svg\" height=\"24px\" viewBox=\"0 -960 960 960\">\n",
              "    <path d=\"M120-120v-720h720v720H120Zm60-500h600v-160H180v160Zm220 220h160v-160H400v160Zm0 220h160v-160H400v160ZM180-400h160v-160H180v160Zm440 0h160v-160H620v160ZM180-180h160v-160H180v160Zm440 0h160v-160H620v160Z\"/>\n",
              "  </svg>\n",
              "    </button>\n",
              "\n",
              "  <style>\n",
              "    .colab-df-container {\n",
              "      display:flex;\n",
              "      gap: 12px;\n",
              "    }\n",
              "\n",
              "    .colab-df-convert {\n",
              "      background-color: #E8F0FE;\n",
              "      border: none;\n",
              "      border-radius: 50%;\n",
              "      cursor: pointer;\n",
              "      display: none;\n",
              "      fill: #1967D2;\n",
              "      height: 32px;\n",
              "      padding: 0 0 0 0;\n",
              "      width: 32px;\n",
              "    }\n",
              "\n",
              "    .colab-df-convert:hover {\n",
              "      background-color: #E2EBFA;\n",
              "      box-shadow: 0px 1px 2px rgba(60, 64, 67, 0.3), 0px 1px 3px 1px rgba(60, 64, 67, 0.15);\n",
              "      fill: #174EA6;\n",
              "    }\n",
              "\n",
              "    .colab-df-buttons div {\n",
              "      margin-bottom: 4px;\n",
              "    }\n",
              "\n",
              "    [theme=dark] .colab-df-convert {\n",
              "      background-color: #3B4455;\n",
              "      fill: #D2E3FC;\n",
              "    }\n",
              "\n",
              "    [theme=dark] .colab-df-convert:hover {\n",
              "      background-color: #434B5C;\n",
              "      box-shadow: 0px 1px 3px 1px rgba(0, 0, 0, 0.15);\n",
              "      filter: drop-shadow(0px 1px 2px rgba(0, 0, 0, 0.3));\n",
              "      fill: #FFFFFF;\n",
              "    }\n",
              "  </style>\n",
              "\n",
              "    <script>\n",
              "      const buttonEl =\n",
              "        document.querySelector('#df-4e35fc53-e6dc-4ce9-a0f5-624494e9ca11 button.colab-df-convert');\n",
              "      buttonEl.style.display =\n",
              "        google.colab.kernel.accessAllowed ? 'block' : 'none';\n",
              "\n",
              "      async function convertToInteractive(key) {\n",
              "        const element = document.querySelector('#df-4e35fc53-e6dc-4ce9-a0f5-624494e9ca11');\n",
              "        const dataTable =\n",
              "          await google.colab.kernel.invokeFunction('convertToInteractive',\n",
              "                                                    [key], {});\n",
              "        if (!dataTable) return;\n",
              "\n",
              "        const docLinkHtml = 'Like what you see? Visit the ' +\n",
              "          '<a target=\"_blank\" href=https://colab.research.google.com/notebooks/data_table.ipynb>data table notebook</a>'\n",
              "          + ' to learn more about interactive tables.';\n",
              "        element.innerHTML = '';\n",
              "        dataTable['output_type'] = 'display_data';\n",
              "        await google.colab.output.renderOutput(dataTable, element);\n",
              "        const docLink = document.createElement('div');\n",
              "        docLink.innerHTML = docLinkHtml;\n",
              "        element.appendChild(docLink);\n",
              "      }\n",
              "    </script>\n",
              "  </div>\n",
              "\n",
              "\n",
              "<div id=\"df-ba20a305-6962-460a-9172-733a7e719dab\">\n",
              "  <button class=\"colab-df-quickchart\" onclick=\"quickchart('df-ba20a305-6962-460a-9172-733a7e719dab')\"\n",
              "            title=\"Suggest charts\"\n",
              "            style=\"display:none;\">\n",
              "\n",
              "<svg xmlns=\"http://www.w3.org/2000/svg\" height=\"24px\"viewBox=\"0 0 24 24\"\n",
              "     width=\"24px\">\n",
              "    <g>\n",
              "        <path d=\"M19 3H5c-1.1 0-2 .9-2 2v14c0 1.1.9 2 2 2h14c1.1 0 2-.9 2-2V5c0-1.1-.9-2-2-2zM9 17H7v-7h2v7zm4 0h-2V7h2v10zm4 0h-2v-4h2v4z\"/>\n",
              "    </g>\n",
              "</svg>\n",
              "  </button>\n",
              "\n",
              "<style>\n",
              "  .colab-df-quickchart {\n",
              "      --bg-color: #E8F0FE;\n",
              "      --fill-color: #1967D2;\n",
              "      --hover-bg-color: #E2EBFA;\n",
              "      --hover-fill-color: #174EA6;\n",
              "      --disabled-fill-color: #AAA;\n",
              "      --disabled-bg-color: #DDD;\n",
              "  }\n",
              "\n",
              "  [theme=dark] .colab-df-quickchart {\n",
              "      --bg-color: #3B4455;\n",
              "      --fill-color: #D2E3FC;\n",
              "      --hover-bg-color: #434B5C;\n",
              "      --hover-fill-color: #FFFFFF;\n",
              "      --disabled-bg-color: #3B4455;\n",
              "      --disabled-fill-color: #666;\n",
              "  }\n",
              "\n",
              "  .colab-df-quickchart {\n",
              "    background-color: var(--bg-color);\n",
              "    border: none;\n",
              "    border-radius: 50%;\n",
              "    cursor: pointer;\n",
              "    display: none;\n",
              "    fill: var(--fill-color);\n",
              "    height: 32px;\n",
              "    padding: 0;\n",
              "    width: 32px;\n",
              "  }\n",
              "\n",
              "  .colab-df-quickchart:hover {\n",
              "    background-color: var(--hover-bg-color);\n",
              "    box-shadow: 0 1px 2px rgba(60, 64, 67, 0.3), 0 1px 3px 1px rgba(60, 64, 67, 0.15);\n",
              "    fill: var(--button-hover-fill-color);\n",
              "  }\n",
              "\n",
              "  .colab-df-quickchart-complete:disabled,\n",
              "  .colab-df-quickchart-complete:disabled:hover {\n",
              "    background-color: var(--disabled-bg-color);\n",
              "    fill: var(--disabled-fill-color);\n",
              "    box-shadow: none;\n",
              "  }\n",
              "\n",
              "  .colab-df-spinner {\n",
              "    border: 2px solid var(--fill-color);\n",
              "    border-color: transparent;\n",
              "    border-bottom-color: var(--fill-color);\n",
              "    animation:\n",
              "      spin 1s steps(1) infinite;\n",
              "  }\n",
              "\n",
              "  @keyframes spin {\n",
              "    0% {\n",
              "      border-color: transparent;\n",
              "      border-bottom-color: var(--fill-color);\n",
              "      border-left-color: var(--fill-color);\n",
              "    }\n",
              "    20% {\n",
              "      border-color: transparent;\n",
              "      border-left-color: var(--fill-color);\n",
              "      border-top-color: var(--fill-color);\n",
              "    }\n",
              "    30% {\n",
              "      border-color: transparent;\n",
              "      border-left-color: var(--fill-color);\n",
              "      border-top-color: var(--fill-color);\n",
              "      border-right-color: var(--fill-color);\n",
              "    }\n",
              "    40% {\n",
              "      border-color: transparent;\n",
              "      border-right-color: var(--fill-color);\n",
              "      border-top-color: var(--fill-color);\n",
              "    }\n",
              "    60% {\n",
              "      border-color: transparent;\n",
              "      border-right-color: var(--fill-color);\n",
              "    }\n",
              "    80% {\n",
              "      border-color: transparent;\n",
              "      border-right-color: var(--fill-color);\n",
              "      border-bottom-color: var(--fill-color);\n",
              "    }\n",
              "    90% {\n",
              "      border-color: transparent;\n",
              "      border-bottom-color: var(--fill-color);\n",
              "    }\n",
              "  }\n",
              "</style>\n",
              "\n",
              "  <script>\n",
              "    async function quickchart(key) {\n",
              "      const quickchartButtonEl =\n",
              "        document.querySelector('#' + key + ' button');\n",
              "      quickchartButtonEl.disabled = true;  // To prevent multiple clicks.\n",
              "      quickchartButtonEl.classList.add('colab-df-spinner');\n",
              "      try {\n",
              "        const charts = await google.colab.kernel.invokeFunction(\n",
              "            'suggestCharts', [key], {});\n",
              "      } catch (error) {\n",
              "        console.error('Error during call to suggestCharts:', error);\n",
              "      }\n",
              "      quickchartButtonEl.classList.remove('colab-df-spinner');\n",
              "      quickchartButtonEl.classList.add('colab-df-quickchart-complete');\n",
              "    }\n",
              "    (() => {\n",
              "      let quickchartButtonEl =\n",
              "        document.querySelector('#df-ba20a305-6962-460a-9172-733a7e719dab button');\n",
              "      quickchartButtonEl.style.display =\n",
              "        google.colab.kernel.accessAllowed ? 'block' : 'none';\n",
              "    })();\n",
              "  </script>\n",
              "</div>\n",
              "    </div>\n",
              "  </div>\n"
            ]
          },
          "metadata": {},
          "execution_count": 17
        }
      ]
    },
    {
      "cell_type": "code",
      "source": [
        "df.to_csv(\"results.csv\")"
      ],
      "metadata": {
        "id": "TukMUNwTScZv"
      },
      "execution_count": null,
      "outputs": []
    },
    {
      "cell_type": "markdown",
      "source": [
        "Con la predicción obtenida, se consiguió un puntaje de `69.582%`\n",
        "![Screenshot 2023-10-22 171559.png](data:image/png;base64,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)"
      ],
      "metadata": {
        "id": "LFMsvYoi4MDW"
      }
    },
    {
      "cell_type": "markdown",
      "source": [
        "### **Análisis de los resultados**\n"
      ],
      "metadata": {
        "id": "ds_VXmhC27jQ"
      }
    },
    {
      "cell_type": "markdown",
      "source": [
        "Lo esperable es que el promedio en las probabilidades obtenidas sea similar al porcentaje de clientes que pagaron dentro del plazo en los datos de entrenamiento (porcentaje de 1s en `data`)."
      ],
      "metadata": {
        "id": "VEQ0JccA3H3t"
      }
    },
    {
      "cell_type": "code",
      "source": [
        "y_pred[:, 1].mean()"
      ],
      "metadata": {
        "colab": {
          "base_uri": "https://localhost:8080/"
        },
        "id": "N7nqA6EyQ6Zt",
        "outputId": "9c2e53d0-628f-4849-b42b-a101d4cf3aaa"
      },
      "execution_count": null,
      "outputs": [
        {
          "output_type": "execute_result",
          "data": {
            "text/plain": [
              "0.08538835548990645"
            ]
          },
          "metadata": {},
          "execution_count": 19
        }
      ]
    },
    {
      "cell_type": "code",
      "source": [
        "data[\"TARGET\"].mean()"
      ],
      "metadata": {
        "id": "4KMDuRFedlOX",
        "outputId": "21dea937-0251-487d-a50f-3078367d5dd3",
        "colab": {
          "base_uri": "https://localhost:8080/"
        }
      },
      "execution_count": null,
      "outputs": [
        {
          "output_type": "execute_result",
          "data": {
            "text/plain": [
              "0.08072881945686496"
            ]
          },
          "metadata": {},
          "execution_count": 20
        }
      ]
    },
    {
      "cell_type": "markdown",
      "source": [
        "Efectivamente, se puede observar que `8.54% ~ 8.07%`."
      ],
      "metadata": {
        "id": "hZaaxiDn3b3O"
      }
    },
    {
      "cell_type": "markdown",
      "source": [
        "### **Variables más significativas**"
      ],
      "metadata": {
        "id": "2PCGrmav5u1t"
      }
    },
    {
      "cell_type": "code",
      "source": [
        "combined = list(zip(model.feature_importances_, list(X_train.columns)))\n",
        "combined.sort()\n",
        "\n",
        "feature_importances, feature_names = zip(*combined)\n",
        "\n",
        "plt.figure(figsize=(10, 6))\n",
        "plt.bar(range(10), feature_importances[0:10], tick_label=feature_names[:10])\n",
        "plt.xlabel(\"Feature\")\n",
        "plt.ylabel(\"Importance\")\n",
        "plt.xticks(rotation=90)\n",
        "plt.title(\"Feature Importance\")\n",
        "plt.show()"
      ],
      "metadata": {
        "colab": {
          "base_uri": "https://localhost:8080/",
          "height": 814
        },
        "id": "mz7SG26SWB-T",
        "outputId": "f438a364-3d4e-4e76-c02e-7d796d7e8058"
      },
      "execution_count": null,
      "outputs": [
        {
          "output_type": "display_data",
          "data": {
            "text/plain": [
              "<Figure size 1000x600 with 1 Axes>"
            ],
            "image/png": "[encoded data removed]"
          },
          "metadata": {}
        }
      ]
    },
    {
      "cell_type": "markdown",
      "source": [
        "## **Mejores Hiperparámetros**"
      ],
      "metadata": {
        "id": "lOXxix-PpnCH"
      }
    },
    {
      "cell_type": "code",
      "source": [
        "rf_classifier = RandomForestClassifier()\n",
        "\n",
        "param_grid = {'n_estimators': [10, 50, 100, 200], 'max_depth': [10, 20]}\n",
        "\n",
        "grid_search = GridSearchCV(rf_classifier, param_grid, cv=5)\n",
        "grid_search.fit(X_train, y_train)"
      ],
      "metadata": {
        "colab": {
          "base_uri": "https://localhost:8080/",
          "height": 118
        },
        "id": "R8FQqhsTppsW",
        "outputId": "2c3593b5-e320-4f3c-cd33-61f269547e92"
      },
      "execution_count": null,
      "outputs": [
        {
          "output_type": "execute_result",
          "data": {
            "text/plain": [
              "GridSearchCV(cv=5, estimator=RandomForestClassifier(),\n",
              "             param_grid={'max_depth': [10, 20],\n",
              "                         'n_estimators': [10, 50, 100, 200]})"
            ],
            "text/html": [
              "<style>#sk-container-id-2 {color: black;background-color: white;}#sk-container-id-2 pre{padding: 0;}#sk-container-id-2 div.sk-toggleable {background-color: white;}#sk-container-id-2 label.sk-toggleable__label {cursor: pointer;display: block;width: 100%;margin-bottom: 0;padding: 0.3em;box-sizing: border-box;text-align: center;}#sk-container-id-2 label.sk-toggleable__label-arrow:before {content: \"▸\";float: left;margin-right: 0.25em;color: #696969;}#sk-container-id-2 label.sk-toggleable__label-arrow:hover:before {color: black;}#sk-container-id-2 div.sk-estimator:hover label.sk-toggleable__label-arrow:before {color: black;}#sk-container-id-2 div.sk-toggleable__content {max-height: 0;max-width: 0;overflow: hidden;text-align: left;background-color: #f0f8ff;}#sk-container-id-2 div.sk-toggleable__content pre {margin: 0.2em;color: black;border-radius: 0.25em;background-color: #f0f8ff;}#sk-container-id-2 input.sk-toggleable__control:checked~div.sk-toggleable__content {max-height: 200px;max-width: 100%;overflow: auto;}#sk-container-id-2 input.sk-toggleable__control:checked~label.sk-toggleable__label-arrow:before {content: \"▾\";}#sk-container-id-2 div.sk-estimator input.sk-toggleable__control:checked~label.sk-toggleable__label {background-color: #d4ebff;}#sk-container-id-2 div.sk-label input.sk-toggleable__control:checked~label.sk-toggleable__label {background-color: #d4ebff;}#sk-container-id-2 input.sk-hidden--visually {border: 0;clip: rect(1px 1px 1px 1px);clip: rect(1px, 1px, 1px, 1px);height: 1px;margin: -1px;overflow: hidden;padding: 0;position: absolute;width: 1px;}#sk-container-id-2 div.sk-estimator {font-family: monospace;background-color: #f0f8ff;border: 1px dotted black;border-radius: 0.25em;box-sizing: border-box;margin-bottom: 0.5em;}#sk-container-id-2 div.sk-estimator:hover {background-color: #d4ebff;}#sk-container-id-2 div.sk-parallel-item::after {content: \"\";width: 100%;border-bottom: 1px solid gray;flex-grow: 1;}#sk-container-id-2 div.sk-label:hover label.sk-toggleable__label {background-color: #d4ebff;}#sk-container-id-2 div.sk-serial::before {content: \"\";position: absolute;border-left: 1px solid gray;box-sizing: border-box;top: 0;bottom: 0;left: 50%;z-index: 0;}#sk-container-id-2 div.sk-serial {display: flex;flex-direction: column;align-items: center;background-color: white;padding-right: 0.2em;padding-left: 0.2em;position: relative;}#sk-container-id-2 div.sk-item {position: relative;z-index: 1;}#sk-container-id-2 div.sk-parallel {display: flex;align-items: stretch;justify-content: center;background-color: white;position: relative;}#sk-container-id-2 div.sk-item::before, #sk-container-id-2 div.sk-parallel-item::before {content: \"\";position: absolute;border-left: 1px solid gray;box-sizing: border-box;top: 0;bottom: 0;left: 50%;z-index: -1;}#sk-container-id-2 div.sk-parallel-item {display: flex;flex-direction: column;z-index: 1;position: relative;background-color: white;}#sk-container-id-2 div.sk-parallel-item:first-child::after {align-self: flex-end;width: 50%;}#sk-container-id-2 div.sk-parallel-item:last-child::after {align-self: flex-start;width: 50%;}#sk-container-id-2 div.sk-parallel-item:only-child::after {width: 0;}#sk-container-id-2 div.sk-dashed-wrapped {border: 1px dashed gray;margin: 0 0.4em 0.5em 0.4em;box-sizing: border-box;padding-bottom: 0.4em;background-color: white;}#sk-container-id-2 div.sk-label label {font-family: monospace;font-weight: bold;display: inline-block;line-height: 1.2em;}#sk-container-id-2 div.sk-label-container {text-align: center;}#sk-container-id-2 div.sk-container {/* jupyter's `normalize.less` sets `[hidden] { display: none; }` but bootstrap.min.css set `[hidden] { display: none !important; }` so we also need the `!important` here to be able to override the default hidden behavior on the sphinx rendered scikit-learn.org. See: https://github.com/scikit-learn/scikit-learn/issues/21755 */display: inline-block !important;position: relative;}#sk-container-id-2 div.sk-text-repr-fallback {display: none;}</style><div id=\"sk-container-id-2\" class=\"sk-top-container\"><div class=\"sk-text-repr-fallback\"><pre>GridSearchCV(cv=5, estimator=RandomForestClassifier(),\n",
              "             param_grid={&#x27;max_depth&#x27;: [10, 20],\n",
              "                         &#x27;n_estimators&#x27;: [10, 50, 100, 200]})</pre><b>In a Jupyter environment, please rerun this cell to show the HTML representation or trust the notebook. <br />On GitHub, the HTML representation is unable to render, please try loading this page with nbviewer.org.</b></div><div class=\"sk-container\" hidden><div class=\"sk-item sk-dashed-wrapped\"><div class=\"sk-label-container\"><div class=\"sk-label sk-toggleable\"><input class=\"sk-toggleable__control sk-hidden--visually\" id=\"sk-estimator-id-2\" type=\"checkbox\" ><label for=\"sk-estimator-id-2\" class=\"sk-toggleable__label sk-toggleable__label-arrow\">GridSearchCV</label><div class=\"sk-toggleable__content\"><pre>GridSearchCV(cv=5, estimator=RandomForestClassifier(),\n",
              "             param_grid={&#x27;max_depth&#x27;: [10, 20],\n",
              "                         &#x27;n_estimators&#x27;: [10, 50, 100, 200]})</pre></div></div></div><div class=\"sk-parallel\"><div class=\"sk-parallel-item\"><div class=\"sk-item\"><div class=\"sk-label-container\"><div class=\"sk-label sk-toggleable\"><input class=\"sk-toggleable__control sk-hidden--visually\" id=\"sk-estimator-id-3\" type=\"checkbox\" ><label for=\"sk-estimator-id-3\" class=\"sk-toggleable__label sk-toggleable__label-arrow\">estimator: RandomForestClassifier</label><div class=\"sk-toggleable__content\"><pre>RandomForestClassifier()</pre></div></div></div><div class=\"sk-serial\"><div class=\"sk-item\"><div class=\"sk-estimator sk-toggleable\"><input class=\"sk-toggleable__control sk-hidden--visually\" id=\"sk-estimator-id-4\" type=\"checkbox\" ><label for=\"sk-estimator-id-4\" class=\"sk-toggleable__label sk-toggleable__label-arrow\">RandomForestClassifier</label><div class=\"sk-toggleable__content\"><pre>RandomForestClassifier()</pre></div></div></div></div></div></div></div></div></div></div>"
            ]
          },
          "metadata": {},
          "execution_count": 24
        }
      ]
    },
    {
      "cell_type": "code",
      "source": [
        "grid_search.best_params_"
      ],
      "metadata": {
        "colab": {
          "base_uri": "https://localhost:8080/"
        },
        "id": "omiQtcKBsIJV",
        "outputId": "80efd2be-c38b-4547-8918-63612901ff4f"
      },
      "execution_count": null,
      "outputs": [
        {
          "output_type": "execute_result",
          "data": {
            "text/plain": [
              "{'max_depth': 20, 'n_estimators': 100}"
            ]
          },
          "metadata": {},
          "execution_count": 25
        }
      ]
    },
    {
      "cell_type": "markdown",
      "source": [
        "Por lo tanto, los mejores hiperparámetros (de los probados) para este modelo son `n_estimators = ` y `max_depth = `\n",
        "\n",
        "Los resultados usando estos parámetros"
      ],
      "metadata": {
        "id": "FpTF5hV34y8Y"
      }
    },
    {
      "cell_type": "markdown",
      "source": [
        "## **Predicción con los hiperparámetros encontrados**"
      ],
      "metadata": {
        "id": "QvVHD60T-RQl"
      }
    },
    {
      "cell_type": "code",
      "source": [
        "model = RandomForestClassifier(n_estimators=100, max_depth=20, random_state=42)\n",
        "model.fit(X_train, y_train)"
      ],
      "metadata": {
        "colab": {
          "base_uri": "https://localhost:8080/",
          "height": 75
        },
        "id": "Nw7JxxLL5Ynm",
        "outputId": "c0db6dd1-d070-4b52-edaa-ee35f6f991ea"
      },
      "execution_count": null,
      "outputs": [
        {
          "output_type": "execute_result",
          "data": {
            "text/plain": [
              "RandomForestClassifier(max_depth=20, random_state=42)"
            ],
            "text/html": [
              "<style>#sk-container-id-1 {color: black;background-color: white;}#sk-container-id-1 pre{padding: 0;}#sk-container-id-1 div.sk-toggleable {background-color: white;}#sk-container-id-1 label.sk-toggleable__label {cursor: pointer;display: block;width: 100%;margin-bottom: 0;padding: 0.3em;box-sizing: border-box;text-align: center;}#sk-container-id-1 label.sk-toggleable__label-arrow:before {content: \"▸\";float: left;margin-right: 0.25em;color: #696969;}#sk-container-id-1 label.sk-toggleable__label-arrow:hover:before {color: black;}#sk-container-id-1 div.sk-estimator:hover label.sk-toggleable__label-arrow:before {color: black;}#sk-container-id-1 div.sk-toggleable__content {max-height: 0;max-width: 0;overflow: hidden;text-align: left;background-color: #f0f8ff;}#sk-container-id-1 div.sk-toggleable__content pre {margin: 0.2em;color: black;border-radius: 0.25em;background-color: #f0f8ff;}#sk-container-id-1 input.sk-toggleable__control:checked~div.sk-toggleable__content {max-height: 200px;max-width: 100%;overflow: auto;}#sk-container-id-1 input.sk-toggleable__control:checked~label.sk-toggleable__label-arrow:before {content: \"▾\";}#sk-container-id-1 div.sk-estimator input.sk-toggleable__control:checked~label.sk-toggleable__label {background-color: #d4ebff;}#sk-container-id-1 div.sk-label input.sk-toggleable__control:checked~label.sk-toggleable__label {background-color: #d4ebff;}#sk-container-id-1 input.sk-hidden--visually {border: 0;clip: rect(1px 1px 1px 1px);clip: rect(1px, 1px, 1px, 1px);height: 1px;margin: -1px;overflow: hidden;padding: 0;position: absolute;width: 1px;}#sk-container-id-1 div.sk-estimator {font-family: monospace;background-color: #f0f8ff;border: 1px dotted black;border-radius: 0.25em;box-sizing: border-box;margin-bottom: 0.5em;}#sk-container-id-1 div.sk-estimator:hover {background-color: #d4ebff;}#sk-container-id-1 div.sk-parallel-item::after {content: \"\";width: 100%;border-bottom: 1px solid gray;flex-grow: 1;}#sk-container-id-1 div.sk-label:hover label.sk-toggleable__label {background-color: #d4ebff;}#sk-container-id-1 div.sk-serial::before {content: \"\";position: absolute;border-left: 1px solid gray;box-sizing: border-box;top: 0;bottom: 0;left: 50%;z-index: 0;}#sk-container-id-1 div.sk-serial {display: flex;flex-direction: column;align-items: center;background-color: white;padding-right: 0.2em;padding-left: 0.2em;position: relative;}#sk-container-id-1 div.sk-item {position: relative;z-index: 1;}#sk-container-id-1 div.sk-parallel {display: flex;align-items: stretch;justify-content: center;background-color: white;position: relative;}#sk-container-id-1 div.sk-item::before, #sk-container-id-1 div.sk-parallel-item::before {content: \"\";position: absolute;border-left: 1px solid gray;box-sizing: border-box;top: 0;bottom: 0;left: 50%;z-index: -1;}#sk-container-id-1 div.sk-parallel-item {display: flex;flex-direction: column;z-index: 1;position: relative;background-color: white;}#sk-container-id-1 div.sk-parallel-item:first-child::after {align-self: flex-end;width: 50%;}#sk-container-id-1 div.sk-parallel-item:last-child::after {align-self: flex-start;width: 50%;}#sk-container-id-1 div.sk-parallel-item:only-child::after {width: 0;}#sk-container-id-1 div.sk-dashed-wrapped {border: 1px dashed gray;margin: 0 0.4em 0.5em 0.4em;box-sizing: border-box;padding-bottom: 0.4em;background-color: white;}#sk-container-id-1 div.sk-label label {font-family: monospace;font-weight: bold;display: inline-block;line-height: 1.2em;}#sk-container-id-1 div.sk-label-container {text-align: center;}#sk-container-id-1 div.sk-container {/* jupyter's `normalize.less` sets `[hidden] { display: none; }` but bootstrap.min.css set `[hidden] { display: none !important; }` so we also need the `!important` here to be able to override the default hidden behavior on the sphinx rendered scikit-learn.org. See: https://github.com/scikit-learn/scikit-learn/issues/21755 */display: inline-block !important;position: relative;}#sk-container-id-1 div.sk-text-repr-fallback {display: none;}</style><div id=\"sk-container-id-1\" class=\"sk-top-container\"><div class=\"sk-text-repr-fallback\"><pre>RandomForestClassifier(max_depth=20, random_state=42)</pre><b>In a Jupyter environment, please rerun this cell to show the HTML representation or trust the notebook. <br />On GitHub, the HTML representation is unable to render, please try loading this page with nbviewer.org.</b></div><div class=\"sk-container\" hidden><div class=\"sk-item\"><div class=\"sk-estimator sk-toggleable\"><input class=\"sk-toggleable__control sk-hidden--visually\" id=\"sk-estimator-id-1\" type=\"checkbox\" checked><label for=\"sk-estimator-id-1\" class=\"sk-toggleable__label sk-toggleable__label-arrow\">RandomForestClassifier</label><div class=\"sk-toggleable__content\"><pre>RandomForestClassifier(max_depth=20, random_state=42)</pre></div></div></div></div></div>"
            ]
          },
          "metadata": {},
          "execution_count": 10
        }
      ]
    },
    {
      "cell_type": "code",
      "source": [
        "y_pred = model.predict_proba(test_data)"
      ],
      "metadata": {
        "id": "HcrsjtY3-bPh"
      },
      "execution_count": null,
      "outputs": []
    },
    {
      "cell_type": "code",
      "source": [
        "df = pd.DataFrame()"
      ],
      "metadata": {
        "id": "XNucwZ1Y-h99"
      },
      "execution_count": null,
      "outputs": []
    },
    {
      "cell_type": "code",
      "source": [
        "df[\"SK_ID_CURR\"] = test_data[\"SK_ID_CURR\"]\n",
        "df[\"TARGET\"] = y_pred[:, 1]\n",
        "df = df.set_index(\"SK_ID_CURR\")"
      ],
      "metadata": {
        "id": "3J8vZwim-h99"
      },
      "execution_count": null,
      "outputs": []
    },
    {
      "cell_type": "code",
      "source": [
        "df"
      ],
      "metadata": {
        "colab": {
          "base_uri": "https://localhost:8080/",
          "height": 455
        },
        "outputId": "494ff6c5-7c31-495c-9771-dd945ab8a15d",
        "id": "6M8OG5-H-h9-"
      },
      "execution_count": null,
      "outputs": [
        {
          "output_type": "execute_result",
          "data": {
            "text/plain": [
              "              TARGET\n",
              "SK_ID_CURR          \n",
              "100001      0.110253\n",
              "100005      0.081627\n",
              "100013      0.060145\n",
              "100028      0.062798\n",
              "100038      0.118201\n",
              "...              ...\n",
              "456221      0.042640\n",
              "456222      0.099744\n",
              "456223      0.053008\n",
              "456224      0.062896\n",
              "456250      0.150827\n",
              "\n",
              "[48744 rows x 1 columns]"
            ],
            "text/html": [
              "\n",
              "  <div id=\"df-5aab8c75-b3d6-4e30-a1c2-a1fc4c0a7df6\" class=\"colab-df-container\">\n",
              "    <div>\n",
              "<style scoped>\n",
              "    .dataframe tbody tr th:only-of-type {\n",
              "        vertical-align: middle;\n",
              "    }\n",
              "\n",
              "    .dataframe tbody tr th {\n",
              "        vertical-align: top;\n",
              "    }\n",
              "\n",
              "    .dataframe thead th {\n",
              "        text-align: right;\n",
              "    }\n",
              "</style>\n",
              "<table border=\"1\" class=\"dataframe\">\n",
              "  <thead>\n",
              "    <tr style=\"text-align: right;\">\n",
              "      <th></th>\n",
              "      <th>TARGET</th>\n",
              "    </tr>\n",
              "    <tr>\n",
              "      <th>SK_ID_CURR</th>\n",
              "      <th></th>\n",
              "    </tr>\n",
              "  </thead>\n",
              "  <tbody>\n",
              "    <tr>\n",
              "      <th>100001</th>\n",
              "      <td>0.110253</td>\n",
              "    </tr>\n",
              "    <tr>\n",
              "      <th>100005</th>\n",
              "      <td>0.081627</td>\n",
              "    </tr>\n",
              "    <tr>\n",
              "      <th>100013</th>\n",
              "      <td>0.060145</td>\n",
              "    </tr>\n",
              "    <tr>\n",
              "      <th>100028</th>\n",
              "      <td>0.062798</td>\n",
              "    </tr>\n",
              "    <tr>\n",
              "      <th>100038</th>\n",
              "      <td>0.118201</td>\n",
              "    </tr>\n",
              "    <tr>\n",
              "      <th>...</th>\n",
              "      <td>...</td>\n",
              "    </tr>\n",
              "    <tr>\n",
              "      <th>456221</th>\n",
              "      <td>0.042640</td>\n",
              "    </tr>\n",
              "    <tr>\n",
              "      <th>456222</th>\n",
              "      <td>0.099744</td>\n",
              "    </tr>\n",
              "    <tr>\n",
              "      <th>456223</th>\n",
              "      <td>0.053008</td>\n",
              "    </tr>\n",
              "    <tr>\n",
              "      <th>456224</th>\n",
              "      <td>0.062896</td>\n",
              "    </tr>\n",
              "    <tr>\n",
              "      <th>456250</th>\n",
              "      <td>0.150827</td>\n",
              "    </tr>\n",
              "  </tbody>\n",
              "</table>\n",
              "<p>48744 rows × 1 columns</p>\n",
              "</div>\n",
              "    <div class=\"colab-df-buttons\">\n",
              "\n",
              "  <div class=\"colab-df-container\">\n",
              "    <button class=\"colab-df-convert\" onclick=\"convertToInteractive('df-5aab8c75-b3d6-4e30-a1c2-a1fc4c0a7df6')\"\n",
              "            title=\"Convert this dataframe to an interactive table.\"\n",
              "            style=\"display:none;\">\n",
              "\n",
              "  <svg xmlns=\"http://www.w3.org/2000/svg\" height=\"24px\" viewBox=\"0 -960 960 960\">\n",
              "    <path d=\"M120-120v-720h720v720H120Zm60-500h600v-160H180v160Zm220 220h160v-160H400v160Zm0 220h160v-160H400v160ZM180-400h160v-160H180v160Zm440 0h160v-160H620v160ZM180-180h160v-160H180v160Zm440 0h160v-160H620v160Z\"/>\n",
              "  </svg>\n",
              "    </button>\n",
              "\n",
              "  <style>\n",
              "    .colab-df-container {\n",
              "      display:flex;\n",
              "      gap: 12px;\n",
              "    }\n",
              "\n",
              "    .colab-df-convert {\n",
              "      background-color: #E8F0FE;\n",
              "      border: none;\n",
              "      border-radius: 50%;\n",
              "      cursor: pointer;\n",
              "      display: none;\n",
              "      fill: #1967D2;\n",
              "      height: 32px;\n",
              "      padding: 0 0 0 0;\n",
              "      width: 32px;\n",
              "    }\n",
              "\n",
              "    .colab-df-convert:hover {\n",
              "      background-color: #E2EBFA;\n",
              "      box-shadow: 0px 1px 2px rgba(60, 64, 67, 0.3), 0px 1px 3px 1px rgba(60, 64, 67, 0.15);\n",
              "      fill: #174EA6;\n",
              "    }\n",
              "\n",
              "    .colab-df-buttons div {\n",
              "      margin-bottom: 4px;\n",
              "    }\n",
              "\n",
              "    [theme=dark] .colab-df-convert {\n",
              "      background-color: #3B4455;\n",
              "      fill: #D2E3FC;\n",
              "    }\n",
              "\n",
              "    [theme=dark] .colab-df-convert:hover {\n",
              "      background-color: #434B5C;\n",
              "      box-shadow: 0px 1px 3px 1px rgba(0, 0, 0, 0.15);\n",
              "      filter: drop-shadow(0px 1px 2px rgba(0, 0, 0, 0.3));\n",
              "      fill: #FFFFFF;\n",
              "    }\n",
              "  </style>\n",
              "\n",
              "    <script>\n",
              "      const buttonEl =\n",
              "        document.querySelector('#df-5aab8c75-b3d6-4e30-a1c2-a1fc4c0a7df6 button.colab-df-convert');\n",
              "      buttonEl.style.display =\n",
              "        google.colab.kernel.accessAllowed ? 'block' : 'none';\n",
              "\n",
              "      async function convertToInteractive(key) {\n",
              "        const element = document.querySelector('#df-5aab8c75-b3d6-4e30-a1c2-a1fc4c0a7df6');\n",
              "        const dataTable =\n",
              "          await google.colab.kernel.invokeFunction('convertToInteractive',\n",
              "                                                    [key], {});\n",
              "        if (!dataTable) return;\n",
              "\n",
              "        const docLinkHtml = 'Like what you see? Visit the ' +\n",
              "          '<a target=\"_blank\" href=https://colab.research.google.com/notebooks/data_table.ipynb>data table notebook</a>'\n",
              "          + ' to learn more about interactive tables.';\n",
              "        element.innerHTML = '';\n",
              "        dataTable['output_type'] = 'display_data';\n",
              "        await google.colab.output.renderOutput(dataTable, element);\n",
              "        const docLink = document.createElement('div');\n",
              "        docLink.innerHTML = docLinkHtml;\n",
              "        element.appendChild(docLink);\n",
              "      }\n",
              "    </script>\n",
              "  </div>\n",
              "\n",
              "\n",
              "<div id=\"df-51c5a229-049b-4655-ba49-54052d729cc7\">\n",
              "  <button class=\"colab-df-quickchart\" onclick=\"quickchart('df-51c5a229-049b-4655-ba49-54052d729cc7')\"\n",
              "            title=\"Suggest charts\"\n",
              "            style=\"display:none;\">\n",
              "\n",
              "<svg xmlns=\"http://www.w3.org/2000/svg\" height=\"24px\"viewBox=\"0 0 24 24\"\n",
              "     width=\"24px\">\n",
              "    <g>\n",
              "        <path d=\"M19 3H5c-1.1 0-2 .9-2 2v14c0 1.1.9 2 2 2h14c1.1 0 2-.9 2-2V5c0-1.1-.9-2-2-2zM9 17H7v-7h2v7zm4 0h-2V7h2v10zm4 0h-2v-4h2v4z\"/>\n",
              "    </g>\n",
              "</svg>\n",
              "  </button>\n",
              "\n",
              "<style>\n",
              "  .colab-df-quickchart {\n",
              "      --bg-color: #E8F0FE;\n",
              "      --fill-color: #1967D2;\n",
              "      --hover-bg-color: #E2EBFA;\n",
              "      --hover-fill-color: #174EA6;\n",
              "      --disabled-fill-color: #AAA;\n",
              "      --disabled-bg-color: #DDD;\n",
              "  }\n",
              "\n",
              "  [theme=dark] .colab-df-quickchart {\n",
              "      --bg-color: #3B4455;\n",
              "      --fill-color: #D2E3FC;\n",
              "      --hover-bg-color: #434B5C;\n",
              "      --hover-fill-color: #FFFFFF;\n",
              "      --disabled-bg-color: #3B4455;\n",
              "      --disabled-fill-color: #666;\n",
              "  }\n",
              "\n",
              "  .colab-df-quickchart {\n",
              "    background-color: var(--bg-color);\n",
              "    border: none;\n",
              "    border-radius: 50%;\n",
              "    cursor: pointer;\n",
              "    display: none;\n",
              "    fill: var(--fill-color);\n",
              "    height: 32px;\n",
              "    padding: 0;\n",
              "    width: 32px;\n",
              "  }\n",
              "\n",
              "  .colab-df-quickchart:hover {\n",
              "    background-color: var(--hover-bg-color);\n",
              "    box-shadow: 0 1px 2px rgba(60, 64, 67, 0.3), 0 1px 3px 1px rgba(60, 64, 67, 0.15);\n",
              "    fill: var(--button-hover-fill-color);\n",
              "  }\n",
              "\n",
              "  .colab-df-quickchart-complete:disabled,\n",
              "  .colab-df-quickchart-complete:disabled:hover {\n",
              "    background-color: var(--disabled-bg-color);\n",
              "    fill: var(--disabled-fill-color);\n",
              "    box-shadow: none;\n",
              "  }\n",
              "\n",
              "  .colab-df-spinner {\n",
              "    border: 2px solid var(--fill-color);\n",
              "    border-color: transparent;\n",
              "    border-bottom-color: var(--fill-color);\n",
              "    animation:\n",
              "      spin 1s steps(1) infinite;\n",
              "  }\n",
              "\n",
              "  @keyframes spin {\n",
              "    0% {\n",
              "      border-color: transparent;\n",
              "      border-bottom-color: var(--fill-color);\n",
              "      border-left-color: var(--fill-color);\n",
              "    }\n",
              "    20% {\n",
              "      border-color: transparent;\n",
              "      border-left-color: var(--fill-color);\n",
              "      border-top-color: var(--fill-color);\n",
              "    }\n",
              "    30% {\n",
              "      border-color: transparent;\n",
              "      border-left-color: var(--fill-color);\n",
              "      border-top-color: var(--fill-color);\n",
              "      border-right-color: var(--fill-color);\n",
              "    }\n",
              "    40% {\n",
              "      border-color: transparent;\n",
              "      border-right-color: var(--fill-color);\n",
              "      border-top-color: var(--fill-color);\n",
              "    }\n",
              "    60% {\n",
              "      border-color: transparent;\n",
              "      border-right-color: var(--fill-color);\n",
              "    }\n",
              "    80% {\n",
              "      border-color: transparent;\n",
              "      border-right-color: var(--fill-color);\n",
              "      border-bottom-color: var(--fill-color);\n",
              "    }\n",
              "    90% {\n",
              "      border-color: transparent;\n",
              "      border-bottom-color: var(--fill-color);\n",
              "    }\n",
              "  }\n",
              "</style>\n",
              "\n",
              "  <script>\n",
              "    async function quickchart(key) {\n",
              "      const quickchartButtonEl =\n",
              "        document.querySelector('#' + key + ' button');\n",
              "      quickchartButtonEl.disabled = true;  // To prevent multiple clicks.\n",
              "      quickchartButtonEl.classList.add('colab-df-spinner');\n",
              "      try {\n",
              "        const charts = await google.colab.kernel.invokeFunction(\n",
              "            'suggestCharts', [key], {});\n",
              "      } catch (error) {\n",
              "        console.error('Error during call to suggestCharts:', error);\n",
              "      }\n",
              "      quickchartButtonEl.classList.remove('colab-df-spinner');\n",
              "      quickchartButtonEl.classList.add('colab-df-quickchart-complete');\n",
              "    }\n",
              "    (() => {\n",
              "      let quickchartButtonEl =\n",
              "        document.querySelector('#df-51c5a229-049b-4655-ba49-54052d729cc7 button');\n",
              "      quickchartButtonEl.style.display =\n",
              "        google.colab.kernel.accessAllowed ? 'block' : 'none';\n",
              "    })();\n",
              "  </script>\n",
              "</div>\n",
              "    </div>\n",
              "  </div>\n"
            ]
          },
          "metadata": {},
          "execution_count": 14
        }
      ]
    },
    {
      "cell_type": "code",
      "source": [
        "df.to_csv(\"results.csv\")"
      ],
      "metadata": {
        "id": "sQXEDfrb-h9-"
      },
      "execution_count": null,
      "outputs": []
    },
    {
      "cell_type": "markdown",
      "source": [
        "### **Resultados**"
      ],
      "metadata": {
        "id": "8QkiJGTQ_7ZH"
      }
    },
    {
      "cell_type": "markdown",
      "source": [
        "Con estos parámetros, se obtuvo un puntaje `~70.46%`:"
      ],
      "metadata": {
        "id": "H5u8Ldqv_uJ9"
      }
    },
    {
      "cell_type": "markdown",
      "source": [
        "![image.png](data:image/png;base64,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)"
      ],
      "metadata": {
        "id": "BLlqGv6iLEI1"
      }
    },
    {
      "cell_type": "markdown",
      "source": [
        "## **Curva de Aprendizaje del modelo**"
      ],
      "metadata": {
        "id": "E-Y9rxWixky0"
      }
    },
    {
      "cell_type": "code",
      "source": [
        "model = RandomForestClassifier(n_estimators=100, max_depth=20, random_state=42)\n",
        "cv = ShuffleSplit(n_splits=5, test_size=0.2, random_state=42)\n",
        "\n",
        "# Generate learning curves\n",
        "res = learning_curve(\n",
        "    model, X_train, y_train, cv=cv, n_jobs=-1, train_sizes=[0.1, 0.35, 0.6, 1.0]\n",
        ")"
      ],
      "metadata": {
        "id": "czdntT32xH1x"
      },
      "execution_count": null,
      "outputs": []
    },
    {
      "cell_type": "code",
      "source": [
        "train_sizes = res[0]\n",
        "train_scores = res[1]\n",
        "test_scores = res[2]"
      ],
      "metadata": {
        "id": "GZ7cA817DBDB"
      },
      "execution_count": null,
      "outputs": []
    },
    {
      "cell_type": "code",
      "source": [
        "train_scores_mean = np.mean(train_scores, axis=1)\n",
        "train_scores_std = np.std(train_scores, axis=1)\n",
        "test_scores_mean = np.mean(test_scores, axis=1)\n",
        "test_scores_std = np.std(test_scores, axis=1)"
      ],
      "metadata": {
        "id": "dDCc-zY81bsk"
      },
      "execution_count": null,
      "outputs": []
    },
    {
      "cell_type": "code",
      "source": [
        "plt.figure(figsize=(10, 6))\n",
        "plt.fill_between(train_sizes, train_scores_mean - train_scores_std,\n",
        "                 train_scores_mean + train_scores_std, alpha=0.1, color=\"r\")\n",
        "plt.fill_between(train_sizes, test_scores_mean - test_scores_std,\n",
        "                 test_scores_mean + test_scores_std, alpha=0.1, color=\"g\")\n",
        "plt.plot(train_sizes, train_scores_mean, 'o-', color=\"r\", label=\"Training score\")\n",
        "plt.plot(train_sizes, test_scores_mean, 'o-', color=\"g\", label=\"Cross-validation score\")\n",
        "plt.xlabel(\"Training examples\")\n",
        "plt.ylabel(\"Score\")\n",
        "plt.legend(loc=\"best\")\n",
        "plt.title(\"Learning Curve (Random Forest)\")\n",
        "plt.show()"
      ],
      "metadata": {
        "colab": {
          "base_uri": "https://localhost:8080/",
          "height": 564
        },
        "id": "PCA-kFPT1Z7f",
        "outputId": "241cc03c-35ce-4ce5-f676-3925ee4742c8"
      },
      "execution_count": null,
      "outputs": [
        {
          "output_type": "display_data",
          "data": {
            "text/plain": [
              "<Figure size 1000x600 with 1 Axes>"
            ],
            "image/png": "[encoded data removed]"
          },
          "metadata": {}
        }
      ]
    },
    {
      "cell_type": "markdown",
      "source": [
        "La gráfica obtenida indica que mientras mayor es la cantidad de datos de entrenamiento, peores resultados se obtienen. Parece indicar que el modelo no está siendo capaz de captar la profundidad de los datos y la relación entre ellos. Esto se puede deber a que el modelo es muy simple, mientra que los datos de entrenamiento son más complejos."
      ],
      "metadata": {
        "id": "RCz7FSARECID"
      }
    }
  ]
}