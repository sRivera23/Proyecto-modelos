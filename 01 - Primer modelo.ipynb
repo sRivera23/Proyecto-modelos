{
  "nbformat": 4,
  "nbformat_minor": 0,
  "metadata": {
    "colab": {
      "provenance": [],
      "include_colab_link": true
    },
    "kernelspec": {
      "name": "python3",
      "display_name": "Python 3"
    },
    "language_info": {
      "name": "python"
    }
  },
  "cells": [
    {
      "cell_type": "markdown",
      "metadata": {
        "id": "view-in-github",
        "colab_type": "text"
      },
      "source": [
        "<a href=\"https://colab.research.google.com/github/sRivera23/Proyecto-modelos/blob/main/01%20-%20Primer%20modelo.ipynb\" target=\"_parent\"><img src=\"https://colab.research.google.com/assets/colab-badge.svg\" alt=\"Open In Colab\"/></a>"
      ]
    },
    {
      "cell_type": "markdown",
      "source": [
        "# **Preprocesamiento**"
      ],
      "metadata": {
        "id": "EOAzV452xXfr"
      }
    },
    {
      "cell_type": "markdown",
      "source": [
        "<a target=\"_blank\" href=\"https://colab.research.google.com/github/daniel-lujan/ml-prediction/blob/main/01%20-%20Preprocesamiento.ipynb\">\n",
        "  <img src=\"https://colab.research.google.com/assets/colab-badge.svg\" alt=\"Open In Colab\"/>\n",
        "</a>"
      ],
      "metadata": {
        "id": "pDxI4pq08X2K"
      }
    },
    {
      "cell_type": "code",
      "source": [
        "!wget --no-cache -O init.py -q https://raw.githubusercontent.com/rramosp/ai4eng.v1/main/content/init.py\n",
        "import init; init.init(force_download=False); init.get_weblink()\n",
        "from local.lib import mlutils"
      ],
      "metadata": {
        "colab": {
          "base_uri": "https://localhost:8080/",
          "height": 35
        },
        "id": "T_y7zpVxUTry",
        "outputId": "5c471388-82b1-4ab7-d382-e1e445e2c1d7"
      },
      "execution_count": null,
      "outputs": [
        {
          "output_type": "display_data",
          "data": {
            "text/plain": [
              "<IPython.core.display.HTML object>"
            ],
            "text/html": [
              "\n",
              "<meta name=\"google-signin-client_id\"\n",
              "      content=\"461673936472-kdjosv61up3ac1ajeuq6qqu72upilmls.apps.googleusercontent.com\"/>\n",
              "<script src=\"https://apis.google.com/js/client:platform.js?onload=google_button_start\"></script>\n",
              "    "
            ]
          },
          "metadata": {}
        },
        {
          "output_type": "stream",
          "name": "stdout",
          "text": [
            "replicating local resources\n"
          ]
        }
      ]
    },
    {
      "cell_type": "code",
      "source": [
        "import pandas as pd\n",
        "import numpy as np\n",
        "from sklearn.model_selection import train_test_split\n",
        "from sklearn.ensemble import RandomForestClassifier\n",
        "import matplotlib.pyplot as plt"
      ],
      "metadata": {
        "id": "nX3CFUsA_58V"
      },
      "execution_count": null,
      "outputs": []
    },
    {
      "cell_type": "markdown",
      "source": [
        "## **Descarga del Dataset original**"
      ],
      "metadata": {
        "id": "uQDHUb9xxfix"
      }
    },
    {
      "cell_type": "markdown",
      "source": [
        "Para descargar el dataset a Colab, es necesario subir su Kaggle API Key personal (para crear una nueva, revise la sección Authentication en https://www.kaggle.com/docs/api).\n",
        "\n",
        "Suba a continuación el archivo `.json` generado."
      ],
      "metadata": {
        "id": "2c5ymp78xowc"
      }
    },
    {
      "cell_type": "code",
      "execution_count": null,
      "metadata": {
        "id": "TXW2q7hO-1fL"
      },
      "outputs": [],
      "source": [
        "from google.colab import files\n",
        "files.upload()"
      ]
    },
    {
      "cell_type": "code",
      "source": [
        "!mkdir ~/.kaggle\n",
        "!mv ./kaggle.json ~/.kaggle/\n",
        "!chmod 600 ~/.kaggle/kaggle.json"
      ],
      "metadata": {
        "id": "b8_9lBL4_Uea"
      },
      "execution_count": null,
      "outputs": []
    },
    {
      "cell_type": "code",
      "source": [
        "!kaggle competitions download -c home-credit-default-risk"
      ],
      "metadata": {
        "colab": {
          "base_uri": "https://localhost:8080/"
        },
        "id": "jCyHMOIA_bna",
        "outputId": "ac5bd505-b18a-4388-d3cd-6efe17bdb5f7"
      },
      "execution_count": null,
      "outputs": [
        {
          "output_type": "stream",
          "name": "stdout",
          "text": [
            "Downloading home-credit-default-risk.zip to /content\n",
            "100% 685M/688M [00:06<00:00, 128MB/s]\n",
            "100% 688M/688M [00:07<00:00, 103MB/s]\n"
          ]
        }
      ]
    },
    {
      "cell_type": "code",
      "source": [
        "import zipfile\n",
        "zip_ref = zipfile.ZipFile('/content/home-credit-default-risk.zip', 'r')\n",
        "zip_ref.extractall('/content')\n",
        "zip_ref.close()"
      ],
      "metadata": {
        "id": "DiNeBOc7_0Ze"
      },
      "execution_count": null,
      "outputs": []
    },
    {
      "cell_type": "code",
      "source": [
        "# Cargar datos de entrenamiento y de prueba\n",
        "data = pd.read_csv(\"/content/application_train.csv\")\n",
        "test_data = pd.read_csv(\"/content/application_test.csv\")"
      ],
      "metadata": {
        "id": "kaWKdqpX_wMW"
      },
      "execution_count": null,
      "outputs": []
    },
    {
      "cell_type": "code",
      "source": [
        "data"
      ],
      "metadata": {
        "colab": {
          "base_uri": "https://localhost:8080/",
          "height": 444
        },
        "id": "n1OAcDOaAGst",
        "outputId": "b7005105-abf9-4415-9cd1-e94cd940feca"
      },
      "execution_count": null,
      "outputs": [
        {
          "output_type": "execute_result",
          "data": {
            "text/plain": [
              "        SK_ID_CURR  TARGET NAME_CONTRACT_TYPE CODE_GENDER FLAG_OWN_CAR  \\\n",
              "0           100002       1         Cash loans           M            N   \n",
              "1           100003       0         Cash loans           F            N   \n",
              "2           100004       0    Revolving loans           M            Y   \n",
              "3           100006       0         Cash loans           F            N   \n",
              "4           100007       0         Cash loans           M            N   \n",
              "...            ...     ...                ...         ...          ...   \n",
              "307506      456251       0         Cash loans           M            N   \n",
              "307507      456252       0         Cash loans           F            N   \n",
              "307508      456253       0         Cash loans           F            N   \n",
              "307509      456254       1         Cash loans           F            N   \n",
              "307510      456255       0         Cash loans           F            N   \n",
              "\n",
              "       FLAG_OWN_REALTY  CNT_CHILDREN  AMT_INCOME_TOTAL  AMT_CREDIT  \\\n",
              "0                    Y             0          202500.0    406597.5   \n",
              "1                    N             0          270000.0   1293502.5   \n",
              "2                    Y             0           67500.0    135000.0   \n",
              "3                    Y             0          135000.0    312682.5   \n",
              "4                    Y             0          121500.0    513000.0   \n",
              "...                ...           ...               ...         ...   \n",
              "307506               N             0          157500.0    254700.0   \n",
              "307507               Y             0           72000.0    269550.0   \n",
              "307508               Y             0          153000.0    677664.0   \n",
              "307509               Y             0          171000.0    370107.0   \n",
              "307510               N             0          157500.0    675000.0   \n",
              "\n",
              "        AMT_ANNUITY  ...  FLAG_DOCUMENT_18 FLAG_DOCUMENT_19 FLAG_DOCUMENT_20  \\\n",
              "0           24700.5  ...                 0                0                0   \n",
              "1           35698.5  ...                 0                0                0   \n",
              "2            6750.0  ...                 0                0                0   \n",
              "3           29686.5  ...                 0                0                0   \n",
              "4           21865.5  ...                 0                0                0   \n",
              "...             ...  ...               ...              ...              ...   \n",
              "307506      27558.0  ...                 0                0                0   \n",
              "307507      12001.5  ...                 0                0                0   \n",
              "307508      29979.0  ...                 0                0                0   \n",
              "307509      20205.0  ...                 0                0                0   \n",
              "307510      49117.5  ...                 0                0                0   \n",
              "\n",
              "       FLAG_DOCUMENT_21 AMT_REQ_CREDIT_BUREAU_HOUR AMT_REQ_CREDIT_BUREAU_DAY  \\\n",
              "0                     0                        0.0                       0.0   \n",
              "1                     0                        0.0                       0.0   \n",
              "2                     0                        0.0                       0.0   \n",
              "3                     0                        NaN                       NaN   \n",
              "4                     0                        0.0                       0.0   \n",
              "...                 ...                        ...                       ...   \n",
              "307506                0                        NaN                       NaN   \n",
              "307507                0                        NaN                       NaN   \n",
              "307508                0                        1.0                       0.0   \n",
              "307509                0                        0.0                       0.0   \n",
              "307510                0                        0.0                       0.0   \n",
              "\n",
              "        AMT_REQ_CREDIT_BUREAU_WEEK  AMT_REQ_CREDIT_BUREAU_MON  \\\n",
              "0                              0.0                        0.0   \n",
              "1                              0.0                        0.0   \n",
              "2                              0.0                        0.0   \n",
              "3                              NaN                        NaN   \n",
              "4                              0.0                        0.0   \n",
              "...                            ...                        ...   \n",
              "307506                         NaN                        NaN   \n",
              "307507                         NaN                        NaN   \n",
              "307508                         0.0                        1.0   \n",
              "307509                         0.0                        0.0   \n",
              "307510                         0.0                        2.0   \n",
              "\n",
              "        AMT_REQ_CREDIT_BUREAU_QRT  AMT_REQ_CREDIT_BUREAU_YEAR  \n",
              "0                             0.0                         1.0  \n",
              "1                             0.0                         0.0  \n",
              "2                             0.0                         0.0  \n",
              "3                             NaN                         NaN  \n",
              "4                             0.0                         0.0  \n",
              "...                           ...                         ...  \n",
              "307506                        NaN                         NaN  \n",
              "307507                        NaN                         NaN  \n",
              "307508                        0.0                         1.0  \n",
              "307509                        0.0                         0.0  \n",
              "307510                        0.0                         1.0  \n",
              "\n",
              "[307511 rows x 122 columns]"
            ],
            "text/html": [
              "\n",
              "  <div id=\"df-d1939854-9fa1-42d4-9f2b-a760e492a271\" class=\"colab-df-container\">\n",
              "    <div>\n",
              "<style scoped>\n",
              "    .dataframe tbody tr th:only-of-type {\n",
              "        vertical-align: middle;\n",
              "    }\n",
              "\n",
              "    .dataframe tbody tr th {\n",
              "        vertical-align: top;\n",
              "    }\n",
              "\n",
              "    .dataframe thead th {\n",
              "        text-align: right;\n",
              "    }\n",
              "</style>\n",
              "<table border=\"1\" class=\"dataframe\">\n",
              "  <thead>\n",
              "    <tr style=\"text-align: right;\">\n",
              "      <th></th>\n",
              "      <th>SK_ID_CURR</th>\n",
              "      <th>TARGET</th>\n",
              "      <th>NAME_CONTRACT_TYPE</th>\n",
              "      <th>CODE_GENDER</th>\n",
              "      <th>FLAG_OWN_CAR</th>\n",
              "      <th>FLAG_OWN_REALTY</th>\n",
              "      <th>CNT_CHILDREN</th>\n",
              "      <th>AMT_INCOME_TOTAL</th>\n",
              "      <th>AMT_CREDIT</th>\n",
              "      <th>AMT_ANNUITY</th>\n",
              "      <th>...</th>\n",
              "      <th>FLAG_DOCUMENT_18</th>\n",
              "      <th>FLAG_DOCUMENT_19</th>\n",
              "      <th>FLAG_DOCUMENT_20</th>\n",
              "      <th>FLAG_DOCUMENT_21</th>\n",
              "      <th>AMT_REQ_CREDIT_BUREAU_HOUR</th>\n",
              "      <th>AMT_REQ_CREDIT_BUREAU_DAY</th>\n",
              "      <th>AMT_REQ_CREDIT_BUREAU_WEEK</th>\n",
              "      <th>AMT_REQ_CREDIT_BUREAU_MON</th>\n",
              "      <th>AMT_REQ_CREDIT_BUREAU_QRT</th>\n",
              "      <th>AMT_REQ_CREDIT_BUREAU_YEAR</th>\n",
              "    </tr>\n",
              "  </thead>\n",
              "  <tbody>\n",
              "    <tr>\n",
              "      <th>0</th>\n",
              "      <td>100002</td>\n",
              "      <td>1</td>\n",
              "      <td>Cash loans</td>\n",
              "      <td>M</td>\n",
              "      <td>N</td>\n",
              "      <td>Y</td>\n",
              "      <td>0</td>\n",
              "      <td>202500.0</td>\n",
              "      <td>406597.5</td>\n",
              "      <td>24700.5</td>\n",
              "      <td>...</td>\n",
              "      <td>0</td>\n",
              "      <td>0</td>\n",
              "      <td>0</td>\n",
              "      <td>0</td>\n",
              "      <td>0.0</td>\n",
              "      <td>0.0</td>\n",
              "      <td>0.0</td>\n",
              "      <td>0.0</td>\n",
              "      <td>0.0</td>\n",
              "      <td>1.0</td>\n",
              "    </tr>\n",
              "    <tr>\n",
              "      <th>1</th>\n",
              "      <td>100003</td>\n",
              "      <td>0</td>\n",
              "      <td>Cash loans</td>\n",
              "      <td>F</td>\n",
              "      <td>N</td>\n",
              "      <td>N</td>\n",
              "      <td>0</td>\n",
              "      <td>270000.0</td>\n",
              "      <td>1293502.5</td>\n",
              "      <td>35698.5</td>\n",
              "      <td>...</td>\n",
              "      <td>0</td>\n",
              "      <td>0</td>\n",
              "      <td>0</td>\n",
              "      <td>0</td>\n",
              "      <td>0.0</td>\n",
              "      <td>0.0</td>\n",
              "      <td>0.0</td>\n",
              "      <td>0.0</td>\n",
              "      <td>0.0</td>\n",
              "      <td>0.0</td>\n",
              "    </tr>\n",
              "    <tr>\n",
              "      <th>2</th>\n",
              "      <td>100004</td>\n",
              "      <td>0</td>\n",
              "      <td>Revolving loans</td>\n",
              "      <td>M</td>\n",
              "      <td>Y</td>\n",
              "      <td>Y</td>\n",
              "      <td>0</td>\n",
              "      <td>67500.0</td>\n",
              "      <td>135000.0</td>\n",
              "      <td>6750.0</td>\n",
              "      <td>...</td>\n",
              "      <td>0</td>\n",
              "      <td>0</td>\n",
              "      <td>0</td>\n",
              "      <td>0</td>\n",
              "      <td>0.0</td>\n",
              "      <td>0.0</td>\n",
              "      <td>0.0</td>\n",
              "      <td>0.0</td>\n",
              "      <td>0.0</td>\n",
              "      <td>0.0</td>\n",
              "    </tr>\n",
              "    <tr>\n",
              "      <th>3</th>\n",
              "      <td>100006</td>\n",
              "      <td>0</td>\n",
              "      <td>Cash loans</td>\n",
              "      <td>F</td>\n",
              "      <td>N</td>\n",
              "      <td>Y</td>\n",
              "      <td>0</td>\n",
              "      <td>135000.0</td>\n",
              "      <td>312682.5</td>\n",
              "      <td>29686.5</td>\n",
              "      <td>...</td>\n",
              "      <td>0</td>\n",
              "      <td>0</td>\n",
              "      <td>0</td>\n",
              "      <td>0</td>\n",
              "      <td>NaN</td>\n",
              "      <td>NaN</td>\n",
              "      <td>NaN</td>\n",
              "      <td>NaN</td>\n",
              "      <td>NaN</td>\n",
              "      <td>NaN</td>\n",
              "    </tr>\n",
              "    <tr>\n",
              "      <th>4</th>\n",
              "      <td>100007</td>\n",
              "      <td>0</td>\n",
              "      <td>Cash loans</td>\n",
              "      <td>M</td>\n",
              "      <td>N</td>\n",
              "      <td>Y</td>\n",
              "      <td>0</td>\n",
              "      <td>121500.0</td>\n",
              "      <td>513000.0</td>\n",
              "      <td>21865.5</td>\n",
              "      <td>...</td>\n",
              "      <td>0</td>\n",
              "      <td>0</td>\n",
              "      <td>0</td>\n",
              "      <td>0</td>\n",
              "      <td>0.0</td>\n",
              "      <td>0.0</td>\n",
              "      <td>0.0</td>\n",
              "      <td>0.0</td>\n",
              "      <td>0.0</td>\n",
              "      <td>0.0</td>\n",
              "    </tr>\n",
              "    <tr>\n",
              "      <th>...</th>\n",
              "      <td>...</td>\n",
              "      <td>...</td>\n",
              "      <td>...</td>\n",
              "      <td>...</td>\n",
              "      <td>...</td>\n",
              "      <td>...</td>\n",
              "      <td>...</td>\n",
              "      <td>...</td>\n",
              "      <td>...</td>\n",
              "      <td>...</td>\n",
              "      <td>...</td>\n",
              "      <td>...</td>\n",
              "      <td>...</td>\n",
              "      <td>...</td>\n",
              "      <td>...</td>\n",
              "      <td>...</td>\n",
              "      <td>...</td>\n",
              "      <td>...</td>\n",
              "      <td>...</td>\n",
              "      <td>...</td>\n",
              "      <td>...</td>\n",
              "    </tr>\n",
              "    <tr>\n",
              "      <th>307506</th>\n",
              "      <td>456251</td>\n",
              "      <td>0</td>\n",
              "      <td>Cash loans</td>\n",
              "      <td>M</td>\n",
              "      <td>N</td>\n",
              "      <td>N</td>\n",
              "      <td>0</td>\n",
              "      <td>157500.0</td>\n",
              "      <td>254700.0</td>\n",
              "      <td>27558.0</td>\n",
              "      <td>...</td>\n",
              "      <td>0</td>\n",
              "      <td>0</td>\n",
              "      <td>0</td>\n",
              "      <td>0</td>\n",
              "      <td>NaN</td>\n",
              "      <td>NaN</td>\n",
              "      <td>NaN</td>\n",
              "      <td>NaN</td>\n",
              "      <td>NaN</td>\n",
              "      <td>NaN</td>\n",
              "    </tr>\n",
              "    <tr>\n",
              "      <th>307507</th>\n",
              "      <td>456252</td>\n",
              "      <td>0</td>\n",
              "      <td>Cash loans</td>\n",
              "      <td>F</td>\n",
              "      <td>N</td>\n",
              "      <td>Y</td>\n",
              "      <td>0</td>\n",
              "      <td>72000.0</td>\n",
              "      <td>269550.0</td>\n",
              "      <td>12001.5</td>\n",
              "      <td>...</td>\n",
              "      <td>0</td>\n",
              "      <td>0</td>\n",
              "      <td>0</td>\n",
              "      <td>0</td>\n",
              "      <td>NaN</td>\n",
              "      <td>NaN</td>\n",
              "      <td>NaN</td>\n",
              "      <td>NaN</td>\n",
              "      <td>NaN</td>\n",
              "      <td>NaN</td>\n",
              "    </tr>\n",
              "    <tr>\n",
              "      <th>307508</th>\n",
              "      <td>456253</td>\n",
              "      <td>0</td>\n",
              "      <td>Cash loans</td>\n",
              "      <td>F</td>\n",
              "      <td>N</td>\n",
              "      <td>Y</td>\n",
              "      <td>0</td>\n",
              "      <td>153000.0</td>\n",
              "      <td>677664.0</td>\n",
              "      <td>29979.0</td>\n",
              "      <td>...</td>\n",
              "      <td>0</td>\n",
              "      <td>0</td>\n",
              "      <td>0</td>\n",
              "      <td>0</td>\n",
              "      <td>1.0</td>\n",
              "      <td>0.0</td>\n",
              "      <td>0.0</td>\n",
              "      <td>1.0</td>\n",
              "      <td>0.0</td>\n",
              "      <td>1.0</td>\n",
              "    </tr>\n",
              "    <tr>\n",
              "      <th>307509</th>\n",
              "      <td>456254</td>\n",
              "      <td>1</td>\n",
              "      <td>Cash loans</td>\n",
              "      <td>F</td>\n",
              "      <td>N</td>\n",
              "      <td>Y</td>\n",
              "      <td>0</td>\n",
              "      <td>171000.0</td>\n",
              "      <td>370107.0</td>\n",
              "      <td>20205.0</td>\n",
              "      <td>...</td>\n",
              "      <td>0</td>\n",
              "      <td>0</td>\n",
              "      <td>0</td>\n",
              "      <td>0</td>\n",
              "      <td>0.0</td>\n",
              "      <td>0.0</td>\n",
              "      <td>0.0</td>\n",
              "      <td>0.0</td>\n",
              "      <td>0.0</td>\n",
              "      <td>0.0</td>\n",
              "    </tr>\n",
              "    <tr>\n",
              "      <th>307510</th>\n",
              "      <td>456255</td>\n",
              "      <td>0</td>\n",
              "      <td>Cash loans</td>\n",
              "      <td>F</td>\n",
              "      <td>N</td>\n",
              "      <td>N</td>\n",
              "      <td>0</td>\n",
              "      <td>157500.0</td>\n",
              "      <td>675000.0</td>\n",
              "      <td>49117.5</td>\n",
              "      <td>...</td>\n",
              "      <td>0</td>\n",
              "      <td>0</td>\n",
              "      <td>0</td>\n",
              "      <td>0</td>\n",
              "      <td>0.0</td>\n",
              "      <td>0.0</td>\n",
              "      <td>0.0</td>\n",
              "      <td>2.0</td>\n",
              "      <td>0.0</td>\n",
              "      <td>1.0</td>\n",
              "    </tr>\n",
              "  </tbody>\n",
              "</table>\n",
              "<p>307511 rows × 122 columns</p>\n",
              "</div>\n",
              "    <div class=\"colab-df-buttons\">\n",
              "\n",
              "  <div class=\"colab-df-container\">\n",
              "    <button class=\"colab-df-convert\" onclick=\"convertToInteractive('df-d1939854-9fa1-42d4-9f2b-a760e492a271')\"\n",
              "            title=\"Convert this dataframe to an interactive table.\"\n",
              "            style=\"display:none;\">\n",
              "\n",
              "  <svg xmlns=\"http://www.w3.org/2000/svg\" height=\"24px\" viewBox=\"0 -960 960 960\">\n",
              "    <path d=\"M120-120v-720h720v720H120Zm60-500h600v-160H180v160Zm220 220h160v-160H400v160Zm0 220h160v-160H400v160ZM180-400h160v-160H180v160Zm440 0h160v-160H620v160ZM180-180h160v-160H180v160Zm440 0h160v-160H620v160Z\"/>\n",
              "  </svg>\n",
              "    </button>\n",
              "\n",
              "  <style>\n",
              "    .colab-df-container {\n",
              "      display:flex;\n",
              "      gap: 12px;\n",
              "    }\n",
              "\n",
              "    .colab-df-convert {\n",
              "      background-color: #E8F0FE;\n",
              "      border: none;\n",
              "      border-radius: 50%;\n",
              "      cursor: pointer;\n",
              "      display: none;\n",
              "      fill: #1967D2;\n",
              "      height: 32px;\n",
              "      padding: 0 0 0 0;\n",
              "      width: 32px;\n",
              "    }\n",
              "\n",
              "    .colab-df-convert:hover {\n",
              "      background-color: #E2EBFA;\n",
              "      box-shadow: 0px 1px 2px rgba(60, 64, 67, 0.3), 0px 1px 3px 1px rgba(60, 64, 67, 0.15);\n",
              "      fill: #174EA6;\n",
              "    }\n",
              "\n",
              "    .colab-df-buttons div {\n",
              "      margin-bottom: 4px;\n",
              "    }\n",
              "\n",
              "    [theme=dark] .colab-df-convert {\n",
              "      background-color: #3B4455;\n",
              "      fill: #D2E3FC;\n",
              "    }\n",
              "\n",
              "    [theme=dark] .colab-df-convert:hover {\n",
              "      background-color: #434B5C;\n",
              "      box-shadow: 0px 1px 3px 1px rgba(0, 0, 0, 0.15);\n",
              "      filter: drop-shadow(0px 1px 2px rgba(0, 0, 0, 0.3));\n",
              "      fill: #FFFFFF;\n",
              "    }\n",
              "  </style>\n",
              "\n",
              "    <script>\n",
              "      const buttonEl =\n",
              "        document.querySelector('#df-d1939854-9fa1-42d4-9f2b-a760e492a271 button.colab-df-convert');\n",
              "      buttonEl.style.display =\n",
              "        google.colab.kernel.accessAllowed ? 'block' : 'none';\n",
              "\n",
              "      async function convertToInteractive(key) {\n",
              "        const element = document.querySelector('#df-d1939854-9fa1-42d4-9f2b-a760e492a271');\n",
              "        const dataTable =\n",
              "          await google.colab.kernel.invokeFunction('convertToInteractive',\n",
              "                                                    [key], {});\n",
              "        if (!dataTable) return;\n",
              "\n",
              "        const docLinkHtml = 'Like what you see? Visit the ' +\n",
              "          '<a target=\"_blank\" href=https://colab.research.google.com/notebooks/data_table.ipynb>data table notebook</a>'\n",
              "          + ' to learn more about interactive tables.';\n",
              "        element.innerHTML = '';\n",
              "        dataTable['output_type'] = 'display_data';\n",
              "        await google.colab.output.renderOutput(dataTable, element);\n",
              "        const docLink = document.createElement('div');\n",
              "        docLink.innerHTML = docLinkHtml;\n",
              "        element.appendChild(docLink);\n",
              "      }\n",
              "    </script>\n",
              "  </div>\n",
              "\n",
              "\n",
              "<div id=\"df-cc11eb11-de22-448a-ac0b-3b1eec1c220d\">\n",
              "  <button class=\"colab-df-quickchart\" onclick=\"quickchart('df-cc11eb11-de22-448a-ac0b-3b1eec1c220d')\"\n",
              "            title=\"Suggest charts.\"\n",
              "            style=\"display:none;\">\n",
              "\n",
              "<svg xmlns=\"http://www.w3.org/2000/svg\" height=\"24px\"viewBox=\"0 0 24 24\"\n",
              "     width=\"24px\">\n",
              "    <g>\n",
              "        <path d=\"M19 3H5c-1.1 0-2 .9-2 2v14c0 1.1.9 2 2 2h14c1.1 0 2-.9 2-2V5c0-1.1-.9-2-2-2zM9 17H7v-7h2v7zm4 0h-2V7h2v10zm4 0h-2v-4h2v4z\"/>\n",
              "    </g>\n",
              "</svg>\n",
              "  </button>\n",
              "\n",
              "<style>\n",
              "  .colab-df-quickchart {\n",
              "      --bg-color: #E8F0FE;\n",
              "      --fill-color: #1967D2;\n",
              "      --hover-bg-color: #E2EBFA;\n",
              "      --hover-fill-color: #174EA6;\n",
              "      --disabled-fill-color: #AAA;\n",
              "      --disabled-bg-color: #DDD;\n",
              "  }\n",
              "\n",
              "  [theme=dark] .colab-df-quickchart {\n",
              "      --bg-color: #3B4455;\n",
              "      --fill-color: #D2E3FC;\n",
              "      --hover-bg-color: #434B5C;\n",
              "      --hover-fill-color: #FFFFFF;\n",
              "      --disabled-bg-color: #3B4455;\n",
              "      --disabled-fill-color: #666;\n",
              "  }\n",
              "\n",
              "  .colab-df-quickchart {\n",
              "    background-color: var(--bg-color);\n",
              "    border: none;\n",
              "    border-radius: 50%;\n",
              "    cursor: pointer;\n",
              "    display: none;\n",
              "    fill: var(--fill-color);\n",
              "    height: 32px;\n",
              "    padding: 0;\n",
              "    width: 32px;\n",
              "  }\n",
              "\n",
              "  .colab-df-quickchart:hover {\n",
              "    background-color: var(--hover-bg-color);\n",
              "    box-shadow: 0 1px 2px rgba(60, 64, 67, 0.3), 0 1px 3px 1px rgba(60, 64, 67, 0.15);\n",
              "    fill: var(--button-hover-fill-color);\n",
              "  }\n",
              "\n",
              "  .colab-df-quickchart-complete:disabled,\n",
              "  .colab-df-quickchart-complete:disabled:hover {\n",
              "    background-color: var(--disabled-bg-color);\n",
              "    fill: var(--disabled-fill-color);\n",
              "    box-shadow: none;\n",
              "  }\n",
              "\n",
              "  .colab-df-spinner {\n",
              "    border: 2px solid var(--fill-color);\n",
              "    border-color: transparent;\n",
              "    border-bottom-color: var(--fill-color);\n",
              "    animation:\n",
              "      spin 1s steps(1) infinite;\n",
              "  }\n",
              "\n",
              "  @keyframes spin {\n",
              "    0% {\n",
              "      border-color: transparent;\n",
              "      border-bottom-color: var(--fill-color);\n",
              "      border-left-color: var(--fill-color);\n",
              "    }\n",
              "    20% {\n",
              "      border-color: transparent;\n",
              "      border-left-color: var(--fill-color);\n",
              "      border-top-color: var(--fill-color);\n",
              "    }\n",
              "    30% {\n",
              "      border-color: transparent;\n",
              "      border-left-color: var(--fill-color);\n",
              "      border-top-color: var(--fill-color);\n",
              "      border-right-color: var(--fill-color);\n",
              "    }\n",
              "    40% {\n",
              "      border-color: transparent;\n",
              "      border-right-color: var(--fill-color);\n",
              "      border-top-color: var(--fill-color);\n",
              "    }\n",
              "    60% {\n",
              "      border-color: transparent;\n",
              "      border-right-color: var(--fill-color);\n",
              "    }\n",
              "    80% {\n",
              "      border-color: transparent;\n",
              "      border-right-color: var(--fill-color);\n",
              "      border-bottom-color: var(--fill-color);\n",
              "    }\n",
              "    90% {\n",
              "      border-color: transparent;\n",
              "      border-bottom-color: var(--fill-color);\n",
              "    }\n",
              "  }\n",
              "</style>\n",
              "\n",
              "  <script>\n",
              "    async function quickchart(key) {\n",
              "      const quickchartButtonEl =\n",
              "        document.querySelector('#' + key + ' button');\n",
              "      quickchartButtonEl.disabled = true;  // To prevent multiple clicks.\n",
              "      quickchartButtonEl.classList.add('colab-df-spinner');\n",
              "      try {\n",
              "        const charts = await google.colab.kernel.invokeFunction(\n",
              "            'suggestCharts', [key], {});\n",
              "      } catch (error) {\n",
              "        console.error('Error during call to suggestCharts:', error);\n",
              "      }\n",
              "      quickchartButtonEl.classList.remove('colab-df-spinner');\n",
              "      quickchartButtonEl.classList.add('colab-df-quickchart-complete');\n",
              "    }\n",
              "    (() => {\n",
              "      let quickchartButtonEl =\n",
              "        document.querySelector('#df-cc11eb11-de22-448a-ac0b-3b1eec1c220d button');\n",
              "      quickchartButtonEl.style.display =\n",
              "        google.colab.kernel.accessAllowed ? 'block' : 'none';\n",
              "    })();\n",
              "  </script>\n",
              "</div>\n",
              "    </div>\n",
              "  </div>\n"
            ]
          },
          "metadata": {},
          "execution_count": 8
        }
      ]
    },
    {
      "cell_type": "markdown",
      "source": [
        "## **Rellenado de datos faltantes**"
      ],
      "metadata": {
        "id": "nmCDepRDNT9d"
      }
    },
    {
      "cell_type": "markdown",
      "source": [
        "### **Variables continuas**"
      ],
      "metadata": {
        "id": "M4E0NJ33zZdJ"
      }
    },
    {
      "cell_type": "markdown",
      "source": [
        "Primero, reemplazamos los valores faltantes en las columnas numéricas por la media de la columna.\n",
        "\n",
        "> <font color=\"blue\"><b>Nota:</b></font> Debido al tamaño del dataset y a la cantidad de columnas faltantes, esto puede tardar un poco (7 minutos aproximadamente)."
      ],
      "metadata": {
        "id": "I-w6pUIsNXS9"
      }
    },
    {
      "cell_type": "code",
      "source": [
        "data = data.fillna(data.mean())\n",
        "test_data = test_data.fillna(test_data.mean())"
      ],
      "metadata": {
        "id": "OaMc3XD4DESi"
      },
      "execution_count": null,
      "outputs": []
    },
    {
      "cell_type": "markdown",
      "source": [
        "### **Variables categóricas**"
      ],
      "metadata": {
        "id": "fus8wzBKzewg"
      }
    },
    {
      "cell_type": "markdown",
      "source": [
        "Luego, rellenamos los datos faltantes en las columnas categóricas con el valor más común encontrado para esa variable."
      ],
      "metadata": {
        "id": "llynPQgaNl2h"
      }
    },
    {
      "cell_type": "code",
      "source": [
        "def fill_nan_with_mode(column):\n",
        "    mode = column.mode()[0]\n",
        "    return column.fillna(mode)\n",
        "\n",
        "data = data.apply(fill_nan_with_mode, axis=0)\n",
        "test_data = test_data.apply(fill_nan_with_mode, axis=0)"
      ],
      "metadata": {
        "id": "AKouxQpXH7jz"
      },
      "execution_count": null,
      "outputs": []
    },
    {
      "cell_type": "markdown",
      "source": [
        "## **Transformación de variables categóricas a numéricas**"
      ],
      "metadata": {
        "id": "aUHMxuX8zlwP"
      }
    },
    {
      "cell_type": "markdown",
      "source": [
        "Una vez que no hay datos faltantes en los DataFrame, usamos One-Hot Encoding para transformar las variables categóricas en variables numéricas."
      ],
      "metadata": {
        "id": "yJMa97wdNvlk"
      }
    },
    {
      "cell_type": "code",
      "source": [
        "# Obtenemos las columnas no-numéricas\n",
        "cat_columns =data.select_dtypes(include=[\"object\"])\n",
        "cat_columns.columns"
      ],
      "metadata": {
        "id": "efh5hdEFAMsp",
        "colab": {
          "base_uri": "https://localhost:8080/"
        },
        "outputId": "b7fa98dd-c23f-4b9e-f9c2-04d754de9632"
      },
      "execution_count": null,
      "outputs": [
        {
          "output_type": "execute_result",
          "data": {
            "text/plain": [
              "Index(['NAME_CONTRACT_TYPE', 'CODE_GENDER', 'FLAG_OWN_CAR', 'FLAG_OWN_REALTY',\n",
              "       'NAME_TYPE_SUITE', 'NAME_INCOME_TYPE', 'NAME_EDUCATION_TYPE',\n",
              "       'NAME_FAMILY_STATUS', 'NAME_HOUSING_TYPE', 'OCCUPATION_TYPE',\n",
              "       'WEEKDAY_APPR_PROCESS_START', 'ORGANIZATION_TYPE', 'FONDKAPREMONT_MODE',\n",
              "       'HOUSETYPE_MODE', 'WALLSMATERIAL_MODE', 'EMERGENCYSTATE_MODE'],\n",
              "      dtype='object')"
            ]
          },
          "metadata": {},
          "execution_count": 12
        }
      ]
    },
    {
      "cell_type": "code",
      "source": [
        "# Aplicar One-Hot Encoding sobre las columnas categóricas\n",
        "data_encoded = pd.get_dummies(data, columns=cat_columns.columns)\n",
        "test_data_encoded = pd.get_dummies(test_data, columns=cat_columns.columns)"
      ],
      "metadata": {
        "id": "rDE_SiQ3A5lN"
      },
      "execution_count": null,
      "outputs": []
    },
    {
      "cell_type": "markdown",
      "source": [
        "# **Primer modelo predictivo**"
      ],
      "metadata": {
        "id": "VcKPz4xdOAHC"
      }
    },
    {
      "cell_type": "markdown",
      "source": [
        "Antes de entrenar el modelo, es necesario sincronizar la data de entrenamiento y de prueba, ya que debido al preprocesamiento, pueden tener diferentes columnas."
      ],
      "metadata": {
        "id": "9LPtfDp317Ww"
      }
    },
    {
      "cell_type": "code",
      "source": [
        "X_train = data_encoded.drop(\"TARGET\", axis=1)\n",
        "y_train = data_encoded[\"TARGET\"]"
      ],
      "metadata": {
        "id": "pfejFu1IBq36"
      },
      "execution_count": null,
      "outputs": []
    },
    {
      "cell_type": "code",
      "source": [
        "for col in X_train.columns.difference(test_data_encoded.columns):\n",
        "    test_data_encoded[col] = [0] * len(test_data_encoded)\n",
        "\n",
        "test_data_encoded = test_data_encoded[X_train.columns]"
      ],
      "metadata": {
        "id": "oqIcJFoTKo_S"
      },
      "execution_count": null,
      "outputs": []
    },
    {
      "cell_type": "markdown",
      "source": [
        "Una vez `test_data_encoded` y `X_train` coinciden en columnas, podemos entrenar un modelo.\n",
        "\n",
        "Para nuestra primera iteración, decidimos utilizar `RandomForestClassifier` con todos sus parámetros por defecto."
      ],
      "metadata": {
        "id": "5qRJo9wL2RUH"
      }
    },
    {
      "cell_type": "code",
      "source": [
        "model = RandomForestClassifier(n_estimators=100, random_state=42)\n",
        "model.fit(X_train, y_train)"
      ],
      "metadata": {
        "colab": {
          "base_uri": "https://localhost:8080/",
          "height": 75
        },
        "id": "klQrmzOtCUwH",
        "outputId": "75db6622-8277-4cc5-e662-6c1000de925f"
      },
      "execution_count": null,
      "outputs": [
        {
          "output_type": "execute_result",
          "data": {
            "text/plain": [
              "RandomForestClassifier(random_state=42)"
            ],
            "text/html": [
              "<style>#sk-container-id-1 {color: black;background-color: white;}#sk-container-id-1 pre{padding: 0;}#sk-container-id-1 div.sk-toggleable {background-color: white;}#sk-container-id-1 label.sk-toggleable__label {cursor: pointer;display: block;width: 100%;margin-bottom: 0;padding: 0.3em;box-sizing: border-box;text-align: center;}#sk-container-id-1 label.sk-toggleable__label-arrow:before {content: \"▸\";float: left;margin-right: 0.25em;color: #696969;}#sk-container-id-1 label.sk-toggleable__label-arrow:hover:before {color: black;}#sk-container-id-1 div.sk-estimator:hover label.sk-toggleable__label-arrow:before {color: black;}#sk-container-id-1 div.sk-toggleable__content {max-height: 0;max-width: 0;overflow: hidden;text-align: left;background-color: #f0f8ff;}#sk-container-id-1 div.sk-toggleable__content pre {margin: 0.2em;color: black;border-radius: 0.25em;background-color: #f0f8ff;}#sk-container-id-1 input.sk-toggleable__control:checked~div.sk-toggleable__content {max-height: 200px;max-width: 100%;overflow: auto;}#sk-container-id-1 input.sk-toggleable__control:checked~label.sk-toggleable__label-arrow:before {content: \"▾\";}#sk-container-id-1 div.sk-estimator input.sk-toggleable__control:checked~label.sk-toggleable__label {background-color: #d4ebff;}#sk-container-id-1 div.sk-label input.sk-toggleable__control:checked~label.sk-toggleable__label {background-color: #d4ebff;}#sk-container-id-1 input.sk-hidden--visually {border: 0;clip: rect(1px 1px 1px 1px);clip: rect(1px, 1px, 1px, 1px);height: 1px;margin: -1px;overflow: hidden;padding: 0;position: absolute;width: 1px;}#sk-container-id-1 div.sk-estimator {font-family: monospace;background-color: #f0f8ff;border: 1px dotted black;border-radius: 0.25em;box-sizing: border-box;margin-bottom: 0.5em;}#sk-container-id-1 div.sk-estimator:hover {background-color: #d4ebff;}#sk-container-id-1 div.sk-parallel-item::after {content: \"\";width: 100%;border-bottom: 1px solid gray;flex-grow: 1;}#sk-container-id-1 div.sk-label:hover label.sk-toggleable__label {background-color: #d4ebff;}#sk-container-id-1 div.sk-serial::before {content: \"\";position: absolute;border-left: 1px solid gray;box-sizing: border-box;top: 0;bottom: 0;left: 50%;z-index: 0;}#sk-container-id-1 div.sk-serial {display: flex;flex-direction: column;align-items: center;background-color: white;padding-right: 0.2em;padding-left: 0.2em;position: relative;}#sk-container-id-1 div.sk-item {position: relative;z-index: 1;}#sk-container-id-1 div.sk-parallel {display: flex;align-items: stretch;justify-content: center;background-color: white;position: relative;}#sk-container-id-1 div.sk-item::before, #sk-container-id-1 div.sk-parallel-item::before {content: \"\";position: absolute;border-left: 1px solid gray;box-sizing: border-box;top: 0;bottom: 0;left: 50%;z-index: -1;}#sk-container-id-1 div.sk-parallel-item {display: flex;flex-direction: column;z-index: 1;position: relative;background-color: white;}#sk-container-id-1 div.sk-parallel-item:first-child::after {align-self: flex-end;width: 50%;}#sk-container-id-1 div.sk-parallel-item:last-child::after {align-self: flex-start;width: 50%;}#sk-container-id-1 div.sk-parallel-item:only-child::after {width: 0;}#sk-container-id-1 div.sk-dashed-wrapped {border: 1px dashed gray;margin: 0 0.4em 0.5em 0.4em;box-sizing: border-box;padding-bottom: 0.4em;background-color: white;}#sk-container-id-1 div.sk-label label {font-family: monospace;font-weight: bold;display: inline-block;line-height: 1.2em;}#sk-container-id-1 div.sk-label-container {text-align: center;}#sk-container-id-1 div.sk-container {/* jupyter's `normalize.less` sets `[hidden] { display: none; }` but bootstrap.min.css set `[hidden] { display: none !important; }` so we also need the `!important` here to be able to override the default hidden behavior on the sphinx rendered scikit-learn.org. See: https://github.com/scikit-learn/scikit-learn/issues/21755 */display: inline-block !important;position: relative;}#sk-container-id-1 div.sk-text-repr-fallback {display: none;}</style><div id=\"sk-container-id-1\" class=\"sk-top-container\"><div class=\"sk-text-repr-fallback\"><pre>RandomForestClassifier(random_state=42)</pre><b>In a Jupyter environment, please rerun this cell to show the HTML representation or trust the notebook. <br />On GitHub, the HTML representation is unable to render, please try loading this page with nbviewer.org.</b></div><div class=\"sk-container\" hidden><div class=\"sk-item\"><div class=\"sk-estimator sk-toggleable\"><input class=\"sk-toggleable__control sk-hidden--visually\" id=\"sk-estimator-id-1\" type=\"checkbox\" checked><label for=\"sk-estimator-id-1\" class=\"sk-toggleable__label sk-toggleable__label-arrow\">RandomForestClassifier</label><div class=\"sk-toggleable__content\"><pre>RandomForestClassifier(random_state=42)</pre></div></div></div></div></div>"
            ]
          },
          "metadata": {},
          "execution_count": 16
        }
      ]
    },
    {
      "cell_type": "markdown",
      "source": [
        "Luego de entrenar el modelo, podemos realizar la predicción con los datos proveídos por la competencia de Kaggle."
      ],
      "metadata": {
        "id": "5QLVcwdD2uZk"
      }
    },
    {
      "cell_type": "code",
      "source": [
        "y_pred = model.predict_proba(test_data_encoded)"
      ],
      "metadata": {
        "id": "sdH3bQJeJJbD"
      },
      "execution_count": null,
      "outputs": []
    },
    {
      "cell_type": "markdown",
      "source": [
        "## **Generación del CSV con los resultados**"
      ],
      "metadata": {
        "id": "gf2W36Tr31Tf"
      }
    },
    {
      "cell_type": "code",
      "source": [
        "df = pd.DataFrame()"
      ],
      "metadata": {
        "id": "AZ-2KB0gSQ4r"
      },
      "execution_count": null,
      "outputs": []
    },
    {
      "cell_type": "code",
      "source": [
        "df[\"SK_ID_CURR\"] = test_data[\"SK_ID_CURR\"]\n",
        "df[\"TARGET\"] = y_pred[:, 1]\n",
        "df = df.set_index(\"SK_ID_CURR\")"
      ],
      "metadata": {
        "id": "YwdQcXHJSTIb"
      },
      "execution_count": null,
      "outputs": []
    },
    {
      "cell_type": "code",
      "source": [
        "df"
      ],
      "metadata": {
        "colab": {
          "base_uri": "https://localhost:8080/",
          "height": 455
        },
        "id": "bYBJcOPSSW_g",
        "outputId": "af6bb645-9b9e-4157-bb99-4dad408ae2e5"
      },
      "execution_count": null,
      "outputs": [
        {
          "output_type": "execute_result",
          "data": {
            "text/plain": [
              "            TARGET\n",
              "SK_ID_CURR        \n",
              "100001        0.11\n",
              "100005        0.11\n",
              "100013        0.08\n",
              "100028        0.06\n",
              "100038        0.10\n",
              "...            ...\n",
              "456221        0.08\n",
              "456222        0.08\n",
              "456223        0.09\n",
              "456224        0.06\n",
              "456250        0.15\n",
              "\n",
              "[48744 rows x 1 columns]"
            ],
            "text/html": [
              "\n",
              "  <div id=\"df-79a2dd2e-ac83-4b15-9b44-1e0955042001\" class=\"colab-df-container\">\n",
              "    <div>\n",
              "<style scoped>\n",
              "    .dataframe tbody tr th:only-of-type {\n",
              "        vertical-align: middle;\n",
              "    }\n",
              "\n",
              "    .dataframe tbody tr th {\n",
              "        vertical-align: top;\n",
              "    }\n",
              "\n",
              "    .dataframe thead th {\n",
              "        text-align: right;\n",
              "    }\n",
              "</style>\n",
              "<table border=\"1\" class=\"dataframe\">\n",
              "  <thead>\n",
              "    <tr style=\"text-align: right;\">\n",
              "      <th></th>\n",
              "      <th>TARGET</th>\n",
              "    </tr>\n",
              "    <tr>\n",
              "      <th>SK_ID_CURR</th>\n",
              "      <th></th>\n",
              "    </tr>\n",
              "  </thead>\n",
              "  <tbody>\n",
              "    <tr>\n",
              "      <th>100001</th>\n",
              "      <td>0.11</td>\n",
              "    </tr>\n",
              "    <tr>\n",
              "      <th>100005</th>\n",
              "      <td>0.11</td>\n",
              "    </tr>\n",
              "    <tr>\n",
              "      <th>100013</th>\n",
              "      <td>0.08</td>\n",
              "    </tr>\n",
              "    <tr>\n",
              "      <th>100028</th>\n",
              "      <td>0.06</td>\n",
              "    </tr>\n",
              "    <tr>\n",
              "      <th>100038</th>\n",
              "      <td>0.10</td>\n",
              "    </tr>\n",
              "    <tr>\n",
              "      <th>...</th>\n",
              "      <td>...</td>\n",
              "    </tr>\n",
              "    <tr>\n",
              "      <th>456221</th>\n",
              "      <td>0.08</td>\n",
              "    </tr>\n",
              "    <tr>\n",
              "      <th>456222</th>\n",
              "      <td>0.08</td>\n",
              "    </tr>\n",
              "    <tr>\n",
              "      <th>456223</th>\n",
              "      <td>0.09</td>\n",
              "    </tr>\n",
              "    <tr>\n",
              "      <th>456224</th>\n",
              "      <td>0.06</td>\n",
              "    </tr>\n",
              "    <tr>\n",
              "      <th>456250</th>\n",
              "      <td>0.15</td>\n",
              "    </tr>\n",
              "  </tbody>\n",
              "</table>\n",
              "<p>48744 rows × 1 columns</p>\n",
              "</div>\n",
              "    <div class=\"colab-df-buttons\">\n",
              "\n",
              "  <div class=\"colab-df-container\">\n",
              "    <button class=\"colab-df-convert\" onclick=\"convertToInteractive('df-79a2dd2e-ac83-4b15-9b44-1e0955042001')\"\n",
              "            title=\"Convert this dataframe to an interactive table.\"\n",
              "            style=\"display:none;\">\n",
              "\n",
              "  <svg xmlns=\"http://www.w3.org/2000/svg\" height=\"24px\" viewBox=\"0 -960 960 960\">\n",
              "    <path d=\"M120-120v-720h720v720H120Zm60-500h600v-160H180v160Zm220 220h160v-160H400v160Zm0 220h160v-160H400v160ZM180-400h160v-160H180v160Zm440 0h160v-160H620v160ZM180-180h160v-160H180v160Zm440 0h160v-160H620v160Z\"/>\n",
              "  </svg>\n",
              "    </button>\n",
              "\n",
              "  <style>\n",
              "    .colab-df-container {\n",
              "      display:flex;\n",
              "      gap: 12px;\n",
              "    }\n",
              "\n",
              "    .colab-df-convert {\n",
              "      background-color: #E8F0FE;\n",
              "      border: none;\n",
              "      border-radius: 50%;\n",
              "      cursor: pointer;\n",
              "      display: none;\n",
              "      fill: #1967D2;\n",
              "      height: 32px;\n",
              "      padding: 0 0 0 0;\n",
              "      width: 32px;\n",
              "    }\n",
              "\n",
              "    .colab-df-convert:hover {\n",
              "      background-color: #E2EBFA;\n",
              "      box-shadow: 0px 1px 2px rgba(60, 64, 67, 0.3), 0px 1px 3px 1px rgba(60, 64, 67, 0.15);\n",
              "      fill: #174EA6;\n",
              "    }\n",
              "\n",
              "    .colab-df-buttons div {\n",
              "      margin-bottom: 4px;\n",
              "    }\n",
              "\n",
              "    [theme=dark] .colab-df-convert {\n",
              "      background-color: #3B4455;\n",
              "      fill: #D2E3FC;\n",
              "    }\n",
              "\n",
              "    [theme=dark] .colab-df-convert:hover {\n",
              "      background-color: #434B5C;\n",
              "      box-shadow: 0px 1px 3px 1px rgba(0, 0, 0, 0.15);\n",
              "      filter: drop-shadow(0px 1px 2px rgba(0, 0, 0, 0.3));\n",
              "      fill: #FFFFFF;\n",
              "    }\n",
              "  </style>\n",
              "\n",
              "    <script>\n",
              "      const buttonEl =\n",
              "        document.querySelector('#df-79a2dd2e-ac83-4b15-9b44-1e0955042001 button.colab-df-convert');\n",
              "      buttonEl.style.display =\n",
              "        google.colab.kernel.accessAllowed ? 'block' : 'none';\n",
              "\n",
              "      async function convertToInteractive(key) {\n",
              "        const element = document.querySelector('#df-79a2dd2e-ac83-4b15-9b44-1e0955042001');\n",
              "        const dataTable =\n",
              "          await google.colab.kernel.invokeFunction('convertToInteractive',\n",
              "                                                    [key], {});\n",
              "        if (!dataTable) return;\n",
              "\n",
              "        const docLinkHtml = 'Like what you see? Visit the ' +\n",
              "          '<a target=\"_blank\" href=https://colab.research.google.com/notebooks/data_table.ipynb>data table notebook</a>'\n",
              "          + ' to learn more about interactive tables.';\n",
              "        element.innerHTML = '';\n",
              "        dataTable['output_type'] = 'display_data';\n",
              "        await google.colab.output.renderOutput(dataTable, element);\n",
              "        const docLink = document.createElement('div');\n",
              "        docLink.innerHTML = docLinkHtml;\n",
              "        element.appendChild(docLink);\n",
              "      }\n",
              "    </script>\n",
              "  </div>\n",
              "\n",
              "\n",
              "<div id=\"df-5b1336f9-7b32-436b-864b-dc1a3783aaa6\">\n",
              "  <button class=\"colab-df-quickchart\" onclick=\"quickchart('df-5b1336f9-7b32-436b-864b-dc1a3783aaa6')\"\n",
              "            title=\"Suggest charts.\"\n",
              "            style=\"display:none;\">\n",
              "\n",
              "<svg xmlns=\"http://www.w3.org/2000/svg\" height=\"24px\"viewBox=\"0 0 24 24\"\n",
              "     width=\"24px\">\n",
              "    <g>\n",
              "        <path d=\"M19 3H5c-1.1 0-2 .9-2 2v14c0 1.1.9 2 2 2h14c1.1 0 2-.9 2-2V5c0-1.1-.9-2-2-2zM9 17H7v-7h2v7zm4 0h-2V7h2v10zm4 0h-2v-4h2v4z\"/>\n",
              "    </g>\n",
              "</svg>\n",
              "  </button>\n",
              "\n",
              "<style>\n",
              "  .colab-df-quickchart {\n",
              "      --bg-color: #E8F0FE;\n",
              "      --fill-color: #1967D2;\n",
              "      --hover-bg-color: #E2EBFA;\n",
              "      --hover-fill-color: #174EA6;\n",
              "      --disabled-fill-color: #AAA;\n",
              "      --disabled-bg-color: #DDD;\n",
              "  }\n",
              "\n",
              "  [theme=dark] .colab-df-quickchart {\n",
              "      --bg-color: #3B4455;\n",
              "      --fill-color: #D2E3FC;\n",
              "      --hover-bg-color: #434B5C;\n",
              "      --hover-fill-color: #FFFFFF;\n",
              "      --disabled-bg-color: #3B4455;\n",
              "      --disabled-fill-color: #666;\n",
              "  }\n",
              "\n",
              "  .colab-df-quickchart {\n",
              "    background-color: var(--bg-color);\n",
              "    border: none;\n",
              "    border-radius: 50%;\n",
              "    cursor: pointer;\n",
              "    display: none;\n",
              "    fill: var(--fill-color);\n",
              "    height: 32px;\n",
              "    padding: 0;\n",
              "    width: 32px;\n",
              "  }\n",
              "\n",
              "  .colab-df-quickchart:hover {\n",
              "    background-color: var(--hover-bg-color);\n",
              "    box-shadow: 0 1px 2px rgba(60, 64, 67, 0.3), 0 1px 3px 1px rgba(60, 64, 67, 0.15);\n",
              "    fill: var(--button-hover-fill-color);\n",
              "  }\n",
              "\n",
              "  .colab-df-quickchart-complete:disabled,\n",
              "  .colab-df-quickchart-complete:disabled:hover {\n",
              "    background-color: var(--disabled-bg-color);\n",
              "    fill: var(--disabled-fill-color);\n",
              "    box-shadow: none;\n",
              "  }\n",
              "\n",
              "  .colab-df-spinner {\n",
              "    border: 2px solid var(--fill-color);\n",
              "    border-color: transparent;\n",
              "    border-bottom-color: var(--fill-color);\n",
              "    animation:\n",
              "      spin 1s steps(1) infinite;\n",
              "  }\n",
              "\n",
              "  @keyframes spin {\n",
              "    0% {\n",
              "      border-color: transparent;\n",
              "      border-bottom-color: var(--fill-color);\n",
              "      border-left-color: var(--fill-color);\n",
              "    }\n",
              "    20% {\n",
              "      border-color: transparent;\n",
              "      border-left-color: var(--fill-color);\n",
              "      border-top-color: var(--fill-color);\n",
              "    }\n",
              "    30% {\n",
              "      border-color: transparent;\n",
              "      border-left-color: var(--fill-color);\n",
              "      border-top-color: var(--fill-color);\n",
              "      border-right-color: var(--fill-color);\n",
              "    }\n",
              "    40% {\n",
              "      border-color: transparent;\n",
              "      border-right-color: var(--fill-color);\n",
              "      border-top-color: var(--fill-color);\n",
              "    }\n",
              "    60% {\n",
              "      border-color: transparent;\n",
              "      border-right-color: var(--fill-color);\n",
              "    }\n",
              "    80% {\n",
              "      border-color: transparent;\n",
              "      border-right-color: var(--fill-color);\n",
              "      border-bottom-color: var(--fill-color);\n",
              "    }\n",
              "    90% {\n",
              "      border-color: transparent;\n",
              "      border-bottom-color: var(--fill-color);\n",
              "    }\n",
              "  }\n",
              "</style>\n",
              "\n",
              "  <script>\n",
              "    async function quickchart(key) {\n",
              "      const quickchartButtonEl =\n",
              "        document.querySelector('#' + key + ' button');\n",
              "      quickchartButtonEl.disabled = true;  // To prevent multiple clicks.\n",
              "      quickchartButtonEl.classList.add('colab-df-spinner');\n",
              "      try {\n",
              "        const charts = await google.colab.kernel.invokeFunction(\n",
              "            'suggestCharts', [key], {});\n",
              "      } catch (error) {\n",
              "        console.error('Error during call to suggestCharts:', error);\n",
              "      }\n",
              "      quickchartButtonEl.classList.remove('colab-df-spinner');\n",
              "      quickchartButtonEl.classList.add('colab-df-quickchart-complete');\n",
              "    }\n",
              "    (() => {\n",
              "      let quickchartButtonEl =\n",
              "        document.querySelector('#df-5b1336f9-7b32-436b-864b-dc1a3783aaa6 button');\n",
              "      quickchartButtonEl.style.display =\n",
              "        google.colab.kernel.accessAllowed ? 'block' : 'none';\n",
              "    })();\n",
              "  </script>\n",
              "</div>\n",
              "    </div>\n",
              "  </div>\n"
            ]
          },
          "metadata": {},
          "execution_count": 22
        }
      ]
    },
    {
      "cell_type": "code",
      "source": [
        "df.to_csv(\"results.csv\")"
      ],
      "metadata": {
        "id": "TukMUNwTScZv"
      },
      "execution_count": null,
      "outputs": []
    },
    {
      "cell_type": "markdown",
      "source": [
        "Con la predicción obtenida, se consiguió un puntaje de `69.582%`\n",
        "![Screenshot 2023-10-22 171559.png](data:image/png;base64,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)"
      ],
      "metadata": {
        "id": "LFMsvYoi4MDW"
      }
    },
    {
      "cell_type": "markdown",
      "source": [
        "## **Análisis de los resultados**\n"
      ],
      "metadata": {
        "id": "ds_VXmhC27jQ"
      }
    },
    {
      "cell_type": "markdown",
      "source": [
        "Lo esperable es que el promedio en las probabilidades obtenidas sea similar al porcentaje de clientes que pagaron dentro del plazo en los datos de entrenamiento (porcentaje de 1s en `data`)."
      ],
      "metadata": {
        "id": "VEQ0JccA3H3t"
      }
    },
    {
      "cell_type": "code",
      "source": [
        "y_pred[:, 1].mean()"
      ],
      "metadata": {
        "colab": {
          "base_uri": "https://localhost:8080/"
        },
        "id": "N7nqA6EyQ6Zt",
        "outputId": "0de10d93-f38b-423a-9c0a-afc39ecdfd17"
      },
      "execution_count": null,
      "outputs": [
        {
          "output_type": "execute_result",
          "data": {
            "text/plain": [
              "0.08538835548990645"
            ]
          },
          "metadata": {},
          "execution_count": 18
        }
      ]
    },
    {
      "cell_type": "code",
      "source": [
        "data[\"TARGET\"].mean()"
      ],
      "metadata": {
        "id": "4KMDuRFedlOX",
        "outputId": "224765b4-e5c1-4233-f4e7-4c72ee4f76ca",
        "colab": {
          "base_uri": "https://localhost:8080/"
        }
      },
      "execution_count": null,
      "outputs": [
        {
          "output_type": "execute_result",
          "data": {
            "text/plain": [
              "0.08072881945686496"
            ]
          },
          "metadata": {},
          "execution_count": 19
        }
      ]
    },
    {
      "cell_type": "markdown",
      "source": [
        "Efectivamente, se puede observar que `8.54% ~ 8.07%`."
      ],
      "metadata": {
        "id": "hZaaxiDn3b3O"
      }
    },
    {
      "cell_type": "markdown",
      "source": [
        "### **Variables más significativas**"
      ],
      "metadata": {
        "id": "2PCGrmav5u1t"
      }
    },
    {
      "cell_type": "code",
      "source": [
        "combined = list(zip(model.feature_importances_, list(X_train.columns)))\n",
        "combined.sort()\n",
        "\n",
        "feature_importances, feature_names = zip(*combined)\n",
        "\n",
        "plt.figure(figsize=(10, 6))\n",
        "plt.bar(range(10), feature_importances[0:10], tick_label=feature_names[:10])\n",
        "plt.xlabel(\"Feature\")\n",
        "plt.ylabel(\"Importance\")\n",
        "plt.xticks(rotation=90)\n",
        "plt.title(\"Feature Importance\")\n",
        "plt.show()"
      ],
      "metadata": {
        "colab": {
          "base_uri": "https://localhost:8080/",
          "height": 814
        },
        "id": "mz7SG26SWB-T",
        "outputId": "8e0c9b30-f3a0-4940-c95b-f28556cdbfb4"
      },
      "execution_count": null,
      "outputs": [
        {
          "output_type": "display_data",
          "data": {
            "text/plain": [
              "<Figure size 1000x600 with 1 Axes>"
            ],
            "image/png": "[encoded data removed]"
          },
          "metadata": {}
        }
      ]
    }
  ]
}