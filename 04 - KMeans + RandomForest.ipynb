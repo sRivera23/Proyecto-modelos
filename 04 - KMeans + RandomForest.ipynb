{
  "cells": [
    {
      "cell_type": "markdown",
      "metadata": {
        "id": "u25MBP9cBMUp"
      },
      "source": [
        "# **Clustering con KMeans + RandomForest**"
      ]
    },
    {
      "cell_type": "code",
      "execution_count": null,
      "metadata": {
        "id": "y9CB8LWRmPvg"
      },
      "outputs": [],
      "source": [
        "import pandas as pd\n",
        "import numpy as np\n",
        "from sklearn.model_selection import train_test_split\n",
        "from sklearn.cluster import KMeans\n",
        "from sklearn.ensemble import RandomForestClassifier\n",
        "from sklearn.model_selection import GridSearchCV\n",
        "from sklearn.metrics import silhouette_score\n",
        "from sklearn.model_selection import ParameterGrid, learning_curve\n",
        "import matplotlib.pyplot as plt"
      ]
    },
    {
      "cell_type": "markdown",
      "metadata": {
        "id": "uQDHUb9xxfix"
      },
      "source": [
        "## **Descarga del Dataset original**"
      ]
    },
    {
      "cell_type": "markdown",
      "metadata": {
        "id": "2c5ymp78xowc"
      },
      "source": [
        "Para descargar el dataset a Colab, es necesario subir su Kaggle API Key personal (para crear una nueva, revise la sección Authentication en https://www.kaggle.com/docs/api).\n",
        "\n",
        "Suba a continuación el archivo `.json` generado."
      ]
    },
    {
      "cell_type": "code",
      "execution_count": null,
      "metadata": {
        "colab": {
          "base_uri": "https://localhost:8080/",
          "height": 92
        },
        "id": "TXW2q7hO-1fL",
        "outputId": "8a870621-0691-4d05-8f3a-5d845a16a2eb"
      },
      "outputs": [
        {
          "output_type": "display_data",
          "data": {
            "text/plain": [
              "<IPython.core.display.HTML object>"
            ],
            "text/html": [
              "\n",
              "     <input type=\"file\" id=\"files-0e6614bb-f798-44dc-90c3-6dd7583c2829\" name=\"files[]\" multiple disabled\n",
              "        style=\"border:none\" />\n",
              "     <output id=\"result-0e6614bb-f798-44dc-90c3-6dd7583c2829\">\n",
              "      Upload widget is only available when the cell has been executed in the\n",
              "      current browser session. Please rerun this cell to enable.\n",
              "      </output>\n",
              "      <script>// Copyright 2017 Google LLC\n",
              "//\n",
              "// Licensed under the Apache License, Version 2.0 (the \"License\");\n",
              "// you may not use this file except in compliance with the License.\n",
              "// You may obtain a copy of the License at\n",
              "//\n",
              "//      http://www.apache.org/licenses/LICENSE-2.0\n",
              "//\n",
              "// Unless required by applicable law or agreed to in writing, software\n",
              "// distributed under the License is distributed on an \"AS IS\" BASIS,\n",
              "// WITHOUT WARRANTIES OR CONDITIONS OF ANY KIND, either express or implied.\n",
              "// See the License for the specific language governing permissions and\n",
              "// limitations under the License.\n",
              "\n",
              "/**\n",
              " * @fileoverview Helpers for google.colab Python module.\n",
              " */\n",
              "(function(scope) {\n",
              "function span(text, styleAttributes = {}) {\n",
              "  const element = document.createElement('span');\n",
              "  element.textContent = text;\n",
              "  for (const key of Object.keys(styleAttributes)) {\n",
              "    element.style[key] = styleAttributes[key];\n",
              "  }\n",
              "  return element;\n",
              "}\n",
              "\n",
              "// Max number of bytes which will be uploaded at a time.\n",
              "const MAX_PAYLOAD_SIZE = 100 * 1024;\n",
              "\n",
              "function _uploadFiles(inputId, outputId) {\n",
              "  const steps = uploadFilesStep(inputId, outputId);\n",
              "  const outputElement = document.getElementById(outputId);\n",
              "  // Cache steps on the outputElement to make it available for the next call\n",
              "  // to uploadFilesContinue from Python.\n",
              "  outputElement.steps = steps;\n",
              "\n",
              "  return _uploadFilesContinue(outputId);\n",
              "}\n",
              "\n",
              "// This is roughly an async generator (not supported in the browser yet),\n",
              "// where there are multiple asynchronous steps and the Python side is going\n",
              "// to poll for completion of each step.\n",
              "// This uses a Promise to block the python side on completion of each step,\n",
              "// then passes the result of the previous step as the input to the next step.\n",
              "function _uploadFilesContinue(outputId) {\n",
              "  const outputElement = document.getElementById(outputId);\n",
              "  const steps = outputElement.steps;\n",
              "\n",
              "  const next = steps.next(outputElement.lastPromiseValue);\n",
              "  return Promise.resolve(next.value.promise).then((value) => {\n",
              "    // Cache the last promise value to make it available to the next\n",
              "    // step of the generator.\n",
              "    outputElement.lastPromiseValue = value;\n",
              "    return next.value.response;\n",
              "  });\n",
              "}\n",
              "\n",
              "/**\n",
              " * Generator function which is called between each async step of the upload\n",
              " * process.\n",
              " * @param {string} inputId Element ID of the input file picker element.\n",
              " * @param {string} outputId Element ID of the output display.\n",
              " * @return {!Iterable<!Object>} Iterable of next steps.\n",
              " */\n",
              "function* uploadFilesStep(inputId, outputId) {\n",
              "  const inputElement = document.getElementById(inputId);\n",
              "  inputElement.disabled = false;\n",
              "\n",
              "  const outputElement = document.getElementById(outputId);\n",
              "  outputElement.innerHTML = '';\n",
              "\n",
              "  const pickedPromise = new Promise((resolve) => {\n",
              "    inputElement.addEventListener('change', (e) => {\n",
              "      resolve(e.target.files);\n",
              "    });\n",
              "  });\n",
              "\n",
              "  const cancel = document.createElement('button');\n",
              "  inputElement.parentElement.appendChild(cancel);\n",
              "  cancel.textContent = 'Cancel upload';\n",
              "  const cancelPromise = new Promise((resolve) => {\n",
              "    cancel.onclick = () => {\n",
              "      resolve(null);\n",
              "    };\n",
              "  });\n",
              "\n",
              "  // Wait for the user to pick the files.\n",
              "  const files = yield {\n",
              "    promise: Promise.race([pickedPromise, cancelPromise]),\n",
              "    response: {\n",
              "      action: 'starting',\n",
              "    }\n",
              "  };\n",
              "\n",
              "  cancel.remove();\n",
              "\n",
              "  // Disable the input element since further picks are not allowed.\n",
              "  inputElement.disabled = true;\n",
              "\n",
              "  if (!files) {\n",
              "    return {\n",
              "      response: {\n",
              "        action: 'complete',\n",
              "      }\n",
              "    };\n",
              "  }\n",
              "\n",
              "  for (const file of files) {\n",
              "    const li = document.createElement('li');\n",
              "    li.append(span(file.name, {fontWeight: 'bold'}));\n",
              "    li.append(span(\n",
              "        `(${file.type || 'n/a'}) - ${file.size} bytes, ` +\n",
              "        `last modified: ${\n",
              "            file.lastModifiedDate ? file.lastModifiedDate.toLocaleDateString() :\n",
              "                                    'n/a'} - `));\n",
              "    const percent = span('0% done');\n",
              "    li.appendChild(percent);\n",
              "\n",
              "    outputElement.appendChild(li);\n",
              "\n",
              "    const fileDataPromise = new Promise((resolve) => {\n",
              "      const reader = new FileReader();\n",
              "      reader.onload = (e) => {\n",
              "        resolve(e.target.result);\n",
              "      };\n",
              "      reader.readAsArrayBuffer(file);\n",
              "    });\n",
              "    // Wait for the data to be ready.\n",
              "    let fileData = yield {\n",
              "      promise: fileDataPromise,\n",
              "      response: {\n",
              "        action: 'continue',\n",
              "      }\n",
              "    };\n",
              "\n",
              "    // Use a chunked sending to avoid message size limits. See b/62115660.\n",
              "    let position = 0;\n",
              "    do {\n",
              "      const length = Math.min(fileData.byteLength - position, MAX_PAYLOAD_SIZE);\n",
              "      const chunk = new Uint8Array(fileData, position, length);\n",
              "      position += length;\n",
              "\n",
              "      const base64 = btoa(String.fromCharCode.apply(null, chunk));\n",
              "      yield {\n",
              "        response: {\n",
              "          action: 'append',\n",
              "          file: file.name,\n",
              "          data: base64,\n",
              "        },\n",
              "      };\n",
              "\n",
              "      let percentDone = fileData.byteLength === 0 ?\n",
              "          100 :\n",
              "          Math.round((position / fileData.byteLength) * 100);\n",
              "      percent.textContent = `${percentDone}% done`;\n",
              "\n",
              "    } while (position < fileData.byteLength);\n",
              "  }\n",
              "\n",
              "  // All done.\n",
              "  yield {\n",
              "    response: {\n",
              "      action: 'complete',\n",
              "    }\n",
              "  };\n",
              "}\n",
              "\n",
              "scope.google = scope.google || {};\n",
              "scope.google.colab = scope.google.colab || {};\n",
              "scope.google.colab._files = {\n",
              "  _uploadFiles,\n",
              "  _uploadFilesContinue,\n",
              "};\n",
              "})(self);\n",
              "</script> "
            ]
          },
          "metadata": {}
        },
        {
          "output_type": "stream",
          "name": "stdout",
          "text": [
            "Saving kaggle.json to kaggle.json\n"
          ]
        },
        {
          "output_type": "execute_result",
          "data": {
            "text/plain": [
              "{'kaggle.json': b'{\"username\":\"daniellujanagudelo\",\"key\":\"e0f7fc0287fd836756e720097ec0469f\"}'}"
            ]
          },
          "metadata": {},
          "execution_count": 3
        }
      ],
      "source": [
        "from google.colab import files\n",
        "files.upload()"
      ]
    },
    {
      "cell_type": "code",
      "execution_count": null,
      "metadata": {
        "id": "b8_9lBL4_Uea"
      },
      "outputs": [],
      "source": [
        "!mkdir ~/.kaggle\n",
        "!mv ./kaggle.json ~/.kaggle/\n",
        "!chmod 600 ~/.kaggle/kaggle.json"
      ]
    },
    {
      "cell_type": "code",
      "execution_count": null,
      "metadata": {
        "colab": {
          "base_uri": "https://localhost:8080/"
        },
        "id": "jCyHMOIA_bna",
        "outputId": "9fdf434e-45e6-49b8-bdc4-c0a09f9c8c36"
      },
      "outputs": [
        {
          "output_type": "stream",
          "name": "stdout",
          "text": [
            "Downloading home-credit-default-risk.zip to /content\n",
            " 96% 663M/688M [00:03<00:00, 233MB/s]\n",
            "100% 688M/688M [00:03<00:00, 198MB/s]\n"
          ]
        }
      ],
      "source": [
        "!kaggle competitions download -c home-credit-default-risk"
      ]
    },
    {
      "cell_type": "code",
      "execution_count": null,
      "metadata": {
        "id": "DiNeBOc7_0Ze"
      },
      "outputs": [],
      "source": [
        "import zipfile\n",
        "zip_ref = zipfile.ZipFile('/content/home-credit-default-risk.zip', 'r')\n",
        "zip_ref.extractall('/content')\n",
        "zip_ref.close()"
      ]
    },
    {
      "cell_type": "markdown",
      "metadata": {
        "id": "e5nw1hs-lyoq"
      },
      "source": [
        "## **Preprocesamiento**"
      ]
    },
    {
      "cell_type": "markdown",
      "metadata": {
        "id": "7EPeKnk1l3TQ"
      },
      "source": [
        "La siguiente función realiza todo el preprocesamiento necesario a los datos, explicado en [01 - Preprocesamiento.ipynb](https://colab.research.google.com/drive/1w9a0auNVqZ2hN_urrf3rmJ-3gVfDUBx0#scrollTo=2c5ymp78xowc)"
      ]
    },
    {
      "cell_type": "code",
      "execution_count": null,
      "metadata": {
        "colab": {
          "base_uri": "https://localhost:8080/"
        },
        "id": "eLYdAWFklwNC",
        "outputId": "53edfe72-4820-4c6a-86ac-9df45bcee5b3"
      },
      "outputs": [
        {
          "output_type": "stream",
          "name": "stderr",
          "text": [
            "<ipython-input-7-c319868e6578>:5: FutureWarning: The default value of numeric_only in DataFrame.mean is deprecated. In a future version, it will default to False. In addition, specifying 'numeric_only=None' is deprecated. Select only valid columns or specify the value of numeric_only to silence this warning.\n",
            "  data = data.fillna(data.mean()).apply(fill_nan_with_mode, axis=0)\n",
            "<ipython-input-7-c319868e6578>:6: FutureWarning: The default value of numeric_only in DataFrame.mean is deprecated. In a future version, it will default to False. In addition, specifying 'numeric_only=None' is deprecated. Select only valid columns or specify the value of numeric_only to silence this warning.\n",
            "  test_data = test_data.fillna(test_data.mean()).apply(fill_nan_with_mode, axis=0)\n"
          ]
        }
      ],
      "source": [
        "def preprocess_data(data: pd.DataFrame, test_data: pd.DataFrame):\n",
        "    def fill_nan_with_mode(column):\n",
        "        mode = column.mode()[0]\n",
        "        return column.fillna(mode)\n",
        "    data = data.fillna(data.mean()).apply(fill_nan_with_mode, axis=0)\n",
        "    test_data = test_data.fillna(test_data.mean()).apply(fill_nan_with_mode, axis=0)\n",
        "    cat_columns = data.select_dtypes(include=[\"object\"])\n",
        "    data_encoded = pd.get_dummies(data, columns=cat_columns.columns)\n",
        "    test_data_encoded = pd.get_dummies(test_data, columns=cat_columns.columns)\n",
        "\n",
        "    return data_encoded, test_data_encoded\n",
        "\n",
        "data, test_data = preprocess_data(pd.read_csv(\"/content/application_train.csv\"), pd.read_csv(\"/content/application_test.csv\"))"
      ]
    },
    {
      "cell_type": "code",
      "execution_count": null,
      "metadata": {
        "id": "qTaKsP3YDiGt"
      },
      "outputs": [],
      "source": [
        "X_train = data.drop(\"TARGET\", axis=1)\n",
        "y_train = data[\"TARGET\"]\n",
        "for col in X_train.columns.difference(test_data.columns):\n",
        "    test_data[col] = [0] * len(test_data)\n",
        "\n",
        "test_data = test_data[X_train.columns]"
      ]
    },
    {
      "cell_type": "markdown",
      "metadata": {
        "id": "bWSEQ8ycCL2D"
      },
      "source": [
        "## **Clustering**"
      ]
    },
    {
      "cell_type": "markdown",
      "metadata": {
        "id": "i17zrdxoJEZS"
      },
      "source": [
        "### **Mejores hiperparámetros para KMeans**"
      ]
    },
    {
      "cell_type": "code",
      "execution_count": null,
      "metadata": {
        "id": "Unhszs47JNe4",
        "colab": {
          "base_uri": "https://localhost:8080/"
        },
        "outputId": "63458044-7ef6-44cc-f871-aaffde0b2571"
      },
      "outputs": [
        {
          "output_type": "stream",
          "name": "stderr",
          "text": [
            "/usr/local/lib/python3.10/dist-packages/sklearn/cluster/_kmeans.py:870: FutureWarning: The default value of `n_init` will change from 10 to 'auto' in 1.4. Set the value of `n_init` explicitly to suppress the warning\n",
            "  warnings.warn(\n",
            "/usr/local/lib/python3.10/dist-packages/sklearn/cluster/_kmeans.py:870: FutureWarning: The default value of `n_init` will change from 10 to 'auto' in 1.4. Set the value of `n_init` explicitly to suppress the warning\n",
            "  warnings.warn(\n"
          ]
        }
      ],
      "source": [
        "param_grid = {'n_clusters': [6, 12, 20]}\n",
        "\n",
        "results = []\n",
        "\n",
        "for params in ParameterGrid(param_grid):\n",
        "    kmeans = KMeans(**params)\n",
        "    kmeans.fit(X_train)\n",
        "\n",
        "    score = silhouette_score(X_train, kmeans.labels_)\n",
        "\n",
        "    results.append({'params': params, 'score': score})\n",
        "\n",
        "best_params = max(results, key=lambda x: x['score'])['params']"
      ]
    },
    {
      "cell_type": "code",
      "source": [
        "best_params"
      ],
      "metadata": {
        "id": "vM4a3XLdR4WT",
        "colab": {
          "base_uri": "https://localhost:8080/"
        },
        "outputId": "e7843dbb-63bb-4a4a-fe9b-e14bce7e8cad"
      },
      "execution_count": null,
      "outputs": [
        {
          "output_type": "execute_result",
          "data": {
            "text/plain": [
              "{'n_clusters': 6}"
            ]
          },
          "metadata": {},
          "execution_count": 10
        }
      ]
    },
    {
      "cell_type": "markdown",
      "source": [
        "### **Clustering con el mejor número de clusters**"
      ],
      "metadata": {
        "id": "2vvVpilGSAIw"
      }
    },
    {
      "cell_type": "code",
      "execution_count": null,
      "metadata": {
        "id": "L85OK-EoCCP4",
        "colab": {
          "base_uri": "https://localhost:8080/"
        },
        "outputId": "ea8b9741-ff21-48bb-8cc3-d56f876e0e55"
      },
      "outputs": [
        {
          "output_type": "stream",
          "name": "stderr",
          "text": [
            "/usr/local/lib/python3.10/dist-packages/sklearn/cluster/_kmeans.py:870: FutureWarning: The default value of `n_init` will change from 10 to 'auto' in 1.4. Set the value of `n_init` explicitly to suppress the warning\n",
            "  warnings.warn(\n"
          ]
        }
      ],
      "source": [
        "kmeans = KMeans(n_clusters=6, random_state=42)\n",
        "\n",
        "kmeans.fit(X_train)\n",
        "train_labels = kmeans.labels_"
      ]
    },
    {
      "cell_type": "code",
      "execution_count": null,
      "metadata": {
        "id": "n9rC4jHCITiC",
        "colab": {
          "base_uri": "https://localhost:8080/"
        },
        "outputId": "22e5e939-311c-41af-fb6a-3e9e1efe2a5f"
      },
      "outputs": [
        {
          "output_type": "stream",
          "name": "stderr",
          "text": [
            "/usr/local/lib/python3.10/dist-packages/sklearn/cluster/_kmeans.py:870: FutureWarning: The default value of `n_init` will change from 10 to 'auto' in 1.4. Set the value of `n_init` explicitly to suppress the warning\n",
            "  warnings.warn(\n"
          ]
        }
      ],
      "source": [
        "kmeans = KMeans(n_clusters=6, random_state=42)\n",
        "\n",
        "kmeans.fit(test_data)\n",
        "test_labels = kmeans.labels_"
      ]
    },
    {
      "cell_type": "markdown",
      "metadata": {
        "id": "S5ZyopYeFAyA"
      },
      "source": [
        "Ahora, vamos a añadir una nueva columna con el número de cluster al que pertenece cada registro en el dataset."
      ]
    },
    {
      "cell_type": "code",
      "execution_count": null,
      "metadata": {
        "id": "ttT_xLl7E8lv"
      },
      "outputs": [],
      "source": [
        "X_train[\"cluster_number\"] = train_labels\n",
        "test_data[\"cluster_number\"] = test_labels"
      ]
    },
    {
      "cell_type": "markdown",
      "metadata": {
        "id": "RlciwfsfIanH"
      },
      "source": [
        "## **Predicción con RandomForestClassifier**"
      ]
    },
    {
      "cell_type": "markdown",
      "metadata": {
        "id": "fldtRafsF8b7"
      },
      "source": [
        "Luego, entrenamos el modelo con el nuevo dataset"
      ]
    },
    {
      "cell_type": "markdown",
      "source": [
        "> Se usaron los mejores hiperparámetros para RandomForestClassifier obtenidos en [02 - Modelo con Random Forest.ipynb](https://colab.research.google.com/drive/1ZFj3-y84ePRhsnzHP2dSzKhrRsDT0vCz#scrollTo=y9CB8LWRmPvg)"
      ],
      "metadata": {
        "id": "q0wnlACQSIit"
      }
    },
    {
      "cell_type": "code",
      "execution_count": null,
      "metadata": {
        "colab": {
          "base_uri": "https://localhost:8080/",
          "height": 75
        },
        "id": "nUqf-maoFjD9",
        "outputId": "ec372ebb-68bf-4957-f320-5915c2fbb63d"
      },
      "outputs": [
        {
          "output_type": "execute_result",
          "data": {
            "text/plain": [
              "RandomForestClassifier(max_depth=20, random_state=42)"
            ],
            "text/html": [
              "<style>#sk-container-id-1 {color: black;background-color: white;}#sk-container-id-1 pre{padding: 0;}#sk-container-id-1 div.sk-toggleable {background-color: white;}#sk-container-id-1 label.sk-toggleable__label {cursor: pointer;display: block;width: 100%;margin-bottom: 0;padding: 0.3em;box-sizing: border-box;text-align: center;}#sk-container-id-1 label.sk-toggleable__label-arrow:before {content: \"▸\";float: left;margin-right: 0.25em;color: #696969;}#sk-container-id-1 label.sk-toggleable__label-arrow:hover:before {color: black;}#sk-container-id-1 div.sk-estimator:hover label.sk-toggleable__label-arrow:before {color: black;}#sk-container-id-1 div.sk-toggleable__content {max-height: 0;max-width: 0;overflow: hidden;text-align: left;background-color: #f0f8ff;}#sk-container-id-1 div.sk-toggleable__content pre {margin: 0.2em;color: black;border-radius: 0.25em;background-color: #f0f8ff;}#sk-container-id-1 input.sk-toggleable__control:checked~div.sk-toggleable__content {max-height: 200px;max-width: 100%;overflow: auto;}#sk-container-id-1 input.sk-toggleable__control:checked~label.sk-toggleable__label-arrow:before {content: \"▾\";}#sk-container-id-1 div.sk-estimator input.sk-toggleable__control:checked~label.sk-toggleable__label {background-color: #d4ebff;}#sk-container-id-1 div.sk-label input.sk-toggleable__control:checked~label.sk-toggleable__label {background-color: #d4ebff;}#sk-container-id-1 input.sk-hidden--visually {border: 0;clip: rect(1px 1px 1px 1px);clip: rect(1px, 1px, 1px, 1px);height: 1px;margin: -1px;overflow: hidden;padding: 0;position: absolute;width: 1px;}#sk-container-id-1 div.sk-estimator {font-family: monospace;background-color: #f0f8ff;border: 1px dotted black;border-radius: 0.25em;box-sizing: border-box;margin-bottom: 0.5em;}#sk-container-id-1 div.sk-estimator:hover {background-color: #d4ebff;}#sk-container-id-1 div.sk-parallel-item::after {content: \"\";width: 100%;border-bottom: 1px solid gray;flex-grow: 1;}#sk-container-id-1 div.sk-label:hover label.sk-toggleable__label {background-color: #d4ebff;}#sk-container-id-1 div.sk-serial::before {content: \"\";position: absolute;border-left: 1px solid gray;box-sizing: border-box;top: 0;bottom: 0;left: 50%;z-index: 0;}#sk-container-id-1 div.sk-serial {display: flex;flex-direction: column;align-items: center;background-color: white;padding-right: 0.2em;padding-left: 0.2em;position: relative;}#sk-container-id-1 div.sk-item {position: relative;z-index: 1;}#sk-container-id-1 div.sk-parallel {display: flex;align-items: stretch;justify-content: center;background-color: white;position: relative;}#sk-container-id-1 div.sk-item::before, #sk-container-id-1 div.sk-parallel-item::before {content: \"\";position: absolute;border-left: 1px solid gray;box-sizing: border-box;top: 0;bottom: 0;left: 50%;z-index: -1;}#sk-container-id-1 div.sk-parallel-item {display: flex;flex-direction: column;z-index: 1;position: relative;background-color: white;}#sk-container-id-1 div.sk-parallel-item:first-child::after {align-self: flex-end;width: 50%;}#sk-container-id-1 div.sk-parallel-item:last-child::after {align-self: flex-start;width: 50%;}#sk-container-id-1 div.sk-parallel-item:only-child::after {width: 0;}#sk-container-id-1 div.sk-dashed-wrapped {border: 1px dashed gray;margin: 0 0.4em 0.5em 0.4em;box-sizing: border-box;padding-bottom: 0.4em;background-color: white;}#sk-container-id-1 div.sk-label label {font-family: monospace;font-weight: bold;display: inline-block;line-height: 1.2em;}#sk-container-id-1 div.sk-label-container {text-align: center;}#sk-container-id-1 div.sk-container {/* jupyter's `normalize.less` sets `[hidden] { display: none; }` but bootstrap.min.css set `[hidden] { display: none !important; }` so we also need the `!important` here to be able to override the default hidden behavior on the sphinx rendered scikit-learn.org. See: https://github.com/scikit-learn/scikit-learn/issues/21755 */display: inline-block !important;position: relative;}#sk-container-id-1 div.sk-text-repr-fallback {display: none;}</style><div id=\"sk-container-id-1\" class=\"sk-top-container\"><div class=\"sk-text-repr-fallback\"><pre>RandomForestClassifier(max_depth=20, random_state=42)</pre><b>In a Jupyter environment, please rerun this cell to show the HTML representation or trust the notebook. <br />On GitHub, the HTML representation is unable to render, please try loading this page with nbviewer.org.</b></div><div class=\"sk-container\" hidden><div class=\"sk-item\"><div class=\"sk-estimator sk-toggleable\"><input class=\"sk-toggleable__control sk-hidden--visually\" id=\"sk-estimator-id-1\" type=\"checkbox\" checked><label for=\"sk-estimator-id-1\" class=\"sk-toggleable__label sk-toggleable__label-arrow\">RandomForestClassifier</label><div class=\"sk-toggleable__content\"><pre>RandomForestClassifier(max_depth=20, random_state=42)</pre></div></div></div></div></div>"
            ]
          },
          "metadata": {},
          "execution_count": 16
        }
      ],
      "source": [
        "model = RandomForestClassifier(n_estimators=100, max_depth=20, random_state=42)\n",
        "model.fit(X_train, y_train)"
      ]
    },
    {
      "cell_type": "code",
      "execution_count": null,
      "metadata": {
        "id": "Hs_U_mGPHfqU"
      },
      "outputs": [],
      "source": [
        "y_pred = model.predict_proba(test_data)"
      ]
    },
    {
      "cell_type": "code",
      "execution_count": null,
      "metadata": {
        "id": "iq8G-HZzHhSq"
      },
      "outputs": [],
      "source": [
        "df = pd.DataFrame()\n",
        "df[\"SK_ID_CURR\"] = test_data[\"SK_ID_CURR\"]\n",
        "df[\"TARGET\"] = y_pred[:, 1]\n",
        "df = df.set_index(\"SK_ID_CURR\")\n",
        "df.to_csv(\"results.csv\")"
      ]
    },
    {
      "cell_type": "markdown",
      "source": [
        "## **Resultados**"
      ],
      "metadata": {
        "id": "6usH5JGkZk0n"
      }
    },
    {
      "cell_type": "markdown",
      "source": [
        "Usando clustering con KMeans y un modelo de RandomForest, se obtuvieron los siguientes resultados:"
      ],
      "metadata": {
        "id": "FMzJZX-3ZnVK"
      }
    },
    {
      "cell_type": "markdown",
      "source": [
        "![image.png](data:image/png;base64,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)"
      ],
      "metadata": {
        "id": "D1tnV3HfZfzu"
      }
    },
    {
      "cell_type": "markdown",
      "source": [
        "## **Curva de Aprendizaje**"
      ],
      "metadata": {
        "id": "cuUaMs79ZyZL"
      }
    },
    {
      "cell_type": "markdown",
      "source": [
        "## **Curva de aprendizaje**"
      ],
      "metadata": {
        "id": "MXN265WOOr1u"
      }
    },
    {
      "cell_type": "code",
      "source": [
        "res = learning_curve(\n",
        "    model, X_train, y_train, cv=4, n_jobs=-1, train_sizes=[0.1, 0.35, 0.6, 1.0]\n",
        ")"
      ],
      "metadata": {
        "id": "9uoOQBLhOuEr"
      },
      "execution_count": null,
      "outputs": []
    },
    {
      "cell_type": "code",
      "source": [
        "train_sizes = res[0]\n",
        "train_scores = res[1]\n",
        "test_scores = res[2]"
      ],
      "metadata": {
        "id": "GZ7cA817DBDB"
      },
      "execution_count": null,
      "outputs": []
    },
    {
      "cell_type": "code",
      "source": [
        "train_scores_mean = np.mean(train_scores, axis=1)\n",
        "train_scores_std = np.std(train_scores, axis=1)\n",
        "test_scores_mean = np.mean(test_scores, axis=1)\n",
        "test_scores_std = np.std(test_scores, axis=1)"
      ],
      "metadata": {
        "id": "dDCc-zY81bsk"
      },
      "execution_count": null,
      "outputs": []
    },
    {
      "cell_type": "code",
      "source": [
        "plt.figure(figsize=(10, 6))\n",
        "plt.fill_between(train_sizes, train_scores_mean - train_scores_std,\n",
        "                 train_scores_mean + train_scores_std, alpha=0.1, color=\"r\")\n",
        "plt.fill_between(train_sizes, test_scores_mean - test_scores_std,\n",
        "                 test_scores_mean + test_scores_std, alpha=0.1, color=\"g\")\n",
        "plt.plot(train_sizes, train_scores_mean, 'o-', color=\"r\", label=\"Training score\")\n",
        "plt.plot(train_sizes, test_scores_mean, 'o-', color=\"g\", label=\"Cross-validation score\")\n",
        "plt.xlabel(\"Training examples\")\n",
        "plt.ylabel(\"Score\")\n",
        "plt.legend(loc=\"best\")\n",
        "plt.title(\"Learning Curve (KMeans + Random Forest)\")\n",
        "plt.show()"
      ],
      "metadata": {
        "colab": {
          "base_uri": "https://localhost:8080/",
          "height": 564
        },
        "id": "PCA-kFPT1Z7f",
        "outputId": "ad8ac7b9-e26b-4e64-f9eb-06412bb38be7"
      },
      "execution_count": null,
      "outputs": [
        {
          "output_type": "display_data",
          "data": {
            "text/plain": [
              "<Figure size 1000x600 with 1 Axes>"
            ],
            "image/png": "[encoded data removed]"
          },
          "metadata": {}
        }
      ]
    }
  ],
  "metadata": {
    "colab": {
      "provenance": []
    },
    "kernelspec": {
      "display_name": "Python 3",
      "name": "python3"
    },
    "language_info": {
      "name": "python"
    }
  },
  "nbformat": 4,
  "nbformat_minor": 0
}