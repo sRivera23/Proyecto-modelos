{
  "nbformat": 4,
  "nbformat_minor": 0,
  "metadata": {
    "colab": {
      "provenance": []
    },
    "kernelspec": {
      "name": "python3",
      "display_name": "Python 3"
    },
    "language_info": {
      "name": "python"
    }
  },
  "cells": [
    {
      "cell_type": "markdown",
      "source": [
        "[![Open In Colab](https://colab.research.google.com/assets/colab-badge.svg)](https://colab.research.google.com/drive/1b7FXhQ5UZVuHTOPIjJgbiHZ6yCyGzed1#scrollTo=uEubXu6r7WxL)"
      ],
      "metadata": {
        "id": "uEubXu6r7WxL"
      }
    },
    {
      "cell_type": "markdown",
      "source": [
        "# **Modelo con Logistic Regression**"
      ],
      "metadata": {
        "id": "aU4X_zm7lowH"
      }
    },
    {
      "cell_type": "code",
      "source": [
        "import pandas as pd\n",
        "import numpy as np\n",
        "from sklearn.model_selection import learning_curve, ShuffleSplit\n",
        "from sklearn.linear_model import LogisticRegression\n",
        "from sklearn.model_selection import GridSearchCV\n",
        "import matplotlib.pyplot as plt"
      ],
      "metadata": {
        "id": "y9CB8LWRmPvg"
      },
      "execution_count": null,
      "outputs": []
    },
    {
      "cell_type": "markdown",
      "source": [
        "## **Descarga del Dataset original**"
      ],
      "metadata": {
        "id": "uQDHUb9xxfix"
      }
    },
    {
      "cell_type": "markdown",
      "source": [
        "Para descargar el dataset a Colab, es necesario subir su Kaggle API Key personal (para crear una nueva, revise la sección Authentication en https://www.kaggle.com/docs/api).\n",
        "\n",
        "Suba a continuación el archivo `.json` generado."
      ],
      "metadata": {
        "id": "2c5ymp78xowc"
      }
    },
    {
      "cell_type": "code",
      "execution_count": null,
      "metadata": {
        "id": "TXW2q7hO-1fL",
        "outputId": "d3b903dd-c618-4a6f-e49b-5d96444cba27",
        "colab": {
          "base_uri": "https://localhost:8080/",
          "height": 92
        }
      },
      "outputs": [
        {
          "output_type": "display_data",
          "data": {
            "text/plain": [
              "<IPython.core.display.HTML object>"
            ],
            "text/html": [
              "\n",
              "     <input type=\"file\" id=\"files-b57538b2-8b7e-46c4-8ed3-f38c0242f9c7\" name=\"files[]\" multiple disabled\n",
              "        style=\"border:none\" />\n",
              "     <output id=\"result-b57538b2-8b7e-46c4-8ed3-f38c0242f9c7\">\n",
              "      Upload widget is only available when the cell has been executed in the\n",
              "      current browser session. Please rerun this cell to enable.\n",
              "      </output>\n",
              "      <script>// Copyright 2017 Google LLC\n",
              "//\n",
              "// Licensed under the Apache License, Version 2.0 (the \"License\");\n",
              "// you may not use this file except in compliance with the License.\n",
              "// You may obtain a copy of the License at\n",
              "//\n",
              "//      http://www.apache.org/licenses/LICENSE-2.0\n",
              "//\n",
              "// Unless required by applicable law or agreed to in writing, software\n",
              "// distributed under the License is distributed on an \"AS IS\" BASIS,\n",
              "// WITHOUT WARRANTIES OR CONDITIONS OF ANY KIND, either express or implied.\n",
              "// See the License for the specific language governing permissions and\n",
              "// limitations under the License.\n",
              "\n",
              "/**\n",
              " * @fileoverview Helpers for google.colab Python module.\n",
              " */\n",
              "(function(scope) {\n",
              "function span(text, styleAttributes = {}) {\n",
              "  const element = document.createElement('span');\n",
              "  element.textContent = text;\n",
              "  for (const key of Object.keys(styleAttributes)) {\n",
              "    element.style[key] = styleAttributes[key];\n",
              "  }\n",
              "  return element;\n",
              "}\n",
              "\n",
              "// Max number of bytes which will be uploaded at a time.\n",
              "const MAX_PAYLOAD_SIZE = 100 * 1024;\n",
              "\n",
              "function _uploadFiles(inputId, outputId) {\n",
              "  const steps = uploadFilesStep(inputId, outputId);\n",
              "  const outputElement = document.getElementById(outputId);\n",
              "  // Cache steps on the outputElement to make it available for the next call\n",
              "  // to uploadFilesContinue from Python.\n",
              "  outputElement.steps = steps;\n",
              "\n",
              "  return _uploadFilesContinue(outputId);\n",
              "}\n",
              "\n",
              "// This is roughly an async generator (not supported in the browser yet),\n",
              "// where there are multiple asynchronous steps and the Python side is going\n",
              "// to poll for completion of each step.\n",
              "// This uses a Promise to block the python side on completion of each step,\n",
              "// then passes the result of the previous step as the input to the next step.\n",
              "function _uploadFilesContinue(outputId) {\n",
              "  const outputElement = document.getElementById(outputId);\n",
              "  const steps = outputElement.steps;\n",
              "\n",
              "  const next = steps.next(outputElement.lastPromiseValue);\n",
              "  return Promise.resolve(next.value.promise).then((value) => {\n",
              "    // Cache the last promise value to make it available to the next\n",
              "    // step of the generator.\n",
              "    outputElement.lastPromiseValue = value;\n",
              "    return next.value.response;\n",
              "  });\n",
              "}\n",
              "\n",
              "/**\n",
              " * Generator function which is called between each async step of the upload\n",
              " * process.\n",
              " * @param {string} inputId Element ID of the input file picker element.\n",
              " * @param {string} outputId Element ID of the output display.\n",
              " * @return {!Iterable<!Object>} Iterable of next steps.\n",
              " */\n",
              "function* uploadFilesStep(inputId, outputId) {\n",
              "  const inputElement = document.getElementById(inputId);\n",
              "  inputElement.disabled = false;\n",
              "\n",
              "  const outputElement = document.getElementById(outputId);\n",
              "  outputElement.innerHTML = '';\n",
              "\n",
              "  const pickedPromise = new Promise((resolve) => {\n",
              "    inputElement.addEventListener('change', (e) => {\n",
              "      resolve(e.target.files);\n",
              "    });\n",
              "  });\n",
              "\n",
              "  const cancel = document.createElement('button');\n",
              "  inputElement.parentElement.appendChild(cancel);\n",
              "  cancel.textContent = 'Cancel upload';\n",
              "  const cancelPromise = new Promise((resolve) => {\n",
              "    cancel.onclick = () => {\n",
              "      resolve(null);\n",
              "    };\n",
              "  });\n",
              "\n",
              "  // Wait for the user to pick the files.\n",
              "  const files = yield {\n",
              "    promise: Promise.race([pickedPromise, cancelPromise]),\n",
              "    response: {\n",
              "      action: 'starting',\n",
              "    }\n",
              "  };\n",
              "\n",
              "  cancel.remove();\n",
              "\n",
              "  // Disable the input element since further picks are not allowed.\n",
              "  inputElement.disabled = true;\n",
              "\n",
              "  if (!files) {\n",
              "    return {\n",
              "      response: {\n",
              "        action: 'complete',\n",
              "      }\n",
              "    };\n",
              "  }\n",
              "\n",
              "  for (const file of files) {\n",
              "    const li = document.createElement('li');\n",
              "    li.append(span(file.name, {fontWeight: 'bold'}));\n",
              "    li.append(span(\n",
              "        `(${file.type || 'n/a'}) - ${file.size} bytes, ` +\n",
              "        `last modified: ${\n",
              "            file.lastModifiedDate ? file.lastModifiedDate.toLocaleDateString() :\n",
              "                                    'n/a'} - `));\n",
              "    const percent = span('0% done');\n",
              "    li.appendChild(percent);\n",
              "\n",
              "    outputElement.appendChild(li);\n",
              "\n",
              "    const fileDataPromise = new Promise((resolve) => {\n",
              "      const reader = new FileReader();\n",
              "      reader.onload = (e) => {\n",
              "        resolve(e.target.result);\n",
              "      };\n",
              "      reader.readAsArrayBuffer(file);\n",
              "    });\n",
              "    // Wait for the data to be ready.\n",
              "    let fileData = yield {\n",
              "      promise: fileDataPromise,\n",
              "      response: {\n",
              "        action: 'continue',\n",
              "      }\n",
              "    };\n",
              "\n",
              "    // Use a chunked sending to avoid message size limits. See b/62115660.\n",
              "    let position = 0;\n",
              "    do {\n",
              "      const length = Math.min(fileData.byteLength - position, MAX_PAYLOAD_SIZE);\n",
              "      const chunk = new Uint8Array(fileData, position, length);\n",
              "      position += length;\n",
              "\n",
              "      const base64 = btoa(String.fromCharCode.apply(null, chunk));\n",
              "      yield {\n",
              "        response: {\n",
              "          action: 'append',\n",
              "          file: file.name,\n",
              "          data: base64,\n",
              "        },\n",
              "      };\n",
              "\n",
              "      let percentDone = fileData.byteLength === 0 ?\n",
              "          100 :\n",
              "          Math.round((position / fileData.byteLength) * 100);\n",
              "      percent.textContent = `${percentDone}% done`;\n",
              "\n",
              "    } while (position < fileData.byteLength);\n",
              "  }\n",
              "\n",
              "  // All done.\n",
              "  yield {\n",
              "    response: {\n",
              "      action: 'complete',\n",
              "    }\n",
              "  };\n",
              "}\n",
              "\n",
              "scope.google = scope.google || {};\n",
              "scope.google.colab = scope.google.colab || {};\n",
              "scope.google.colab._files = {\n",
              "  _uploadFiles,\n",
              "  _uploadFilesContinue,\n",
              "};\n",
              "})(self);\n",
              "</script> "
            ]
          },
          "metadata": {}
        },
        {
          "output_type": "stream",
          "name": "stdout",
          "text": [
            "Saving kaggle.json to kaggle.json\n"
          ]
        },
        {
          "output_type": "execute_result",
          "data": {
            "text/plain": [
              "{'kaggle.json': b'{\"username\":\"daniellujanagudelo\",\"key\":\"e0f7fc0287fd836756e720097ec0469f\"}'}"
            ]
          },
          "metadata": {},
          "execution_count": 3
        }
      ],
      "source": [
        "from google.colab import files\n",
        "files.upload()"
      ]
    },
    {
      "cell_type": "code",
      "source": [
        "!mkdir ~/.kaggle\n",
        "!mv ./kaggle.json ~/.kaggle/\n",
        "!chmod 600 ~/.kaggle/kaggle.json"
      ],
      "metadata": {
        "id": "b8_9lBL4_Uea"
      },
      "execution_count": null,
      "outputs": []
    },
    {
      "cell_type": "code",
      "source": [
        "!kaggle competitions download -c home-credit-default-risk"
      ],
      "metadata": {
        "colab": {
          "base_uri": "https://localhost:8080/"
        },
        "id": "jCyHMOIA_bna",
        "outputId": "0061a161-581e-4ede-b69c-41894278944e"
      },
      "execution_count": null,
      "outputs": [
        {
          "output_type": "stream",
          "name": "stdout",
          "text": [
            "Downloading home-credit-default-risk.zip to /content\n",
            " 99% 681M/688M [00:08<00:00, 82.8MB/s]\n",
            "100% 688M/688M [00:08<00:00, 85.1MB/s]\n"
          ]
        }
      ]
    },
    {
      "cell_type": "code",
      "source": [
        "import zipfile\n",
        "zip_ref = zipfile.ZipFile('/content/home-credit-default-risk.zip', 'r')\n",
        "zip_ref.extractall('/content')\n",
        "zip_ref.close()"
      ],
      "metadata": {
        "id": "DiNeBOc7_0Ze"
      },
      "execution_count": null,
      "outputs": []
    },
    {
      "cell_type": "markdown",
      "source": [
        "## **Preprocesamiento**"
      ],
      "metadata": {
        "id": "e5nw1hs-lyoq"
      }
    },
    {
      "cell_type": "markdown",
      "source": [
        "La siguiente función realiza todo el preprocesamiento necesario a los datos, explicado en [01 - Preprocesamiento.ipynb](https://colab.research.google.com/drive/1w9a0auNVqZ2hN_urrf3rmJ-3gVfDUBx0#scrollTo=2c5ymp78xowc)"
      ],
      "metadata": {
        "id": "7EPeKnk1l3TQ"
      }
    },
    {
      "cell_type": "code",
      "source": [
        "def preprocess_data(data: pd.DataFrame, test_data: pd.DataFrame):\n",
        "    def fill_nan_with_mode(column):\n",
        "        mode = column.mode()[0]\n",
        "        return column.fillna(mode)\n",
        "    data = data.fillna(data.mean()).apply(fill_nan_with_mode, axis=0)\n",
        "    test_data = test_data.fillna(test_data.mean()).apply(fill_nan_with_mode, axis=0)\n",
        "    cat_columns = data.select_dtypes(include=[\"object\"])\n",
        "    data_encoded = pd.get_dummies(data, columns=cat_columns.columns)\n",
        "    test_data_encoded = pd.get_dummies(test_data, columns=cat_columns.columns)\n",
        "\n",
        "    return data_encoded, test_data_encoded\n",
        "\n",
        "data, test_data = preprocess_data(pd.read_csv(\"/content/application_train.csv\"), pd.read_csv(\"/content/application_test.csv\"))"
      ],
      "metadata": {
        "colab": {
          "base_uri": "https://localhost:8080/"
        },
        "id": "eLYdAWFklwNC",
        "outputId": "0eae6a7c-3659-468c-d5ce-c2441bde3d6c"
      },
      "execution_count": null,
      "outputs": [
        {
          "output_type": "stream",
          "name": "stderr",
          "text": [
            "<ipython-input-7-c319868e6578>:5: FutureWarning: The default value of numeric_only in DataFrame.mean is deprecated. In a future version, it will default to False. In addition, specifying 'numeric_only=None' is deprecated. Select only valid columns or specify the value of numeric_only to silence this warning.\n",
            "  data = data.fillna(data.mean()).apply(fill_nan_with_mode, axis=0)\n",
            "<ipython-input-7-c319868e6578>:6: FutureWarning: The default value of numeric_only in DataFrame.mean is deprecated. In a future version, it will default to False. In addition, specifying 'numeric_only=None' is deprecated. Select only valid columns or specify the value of numeric_only to silence this warning.\n",
            "  test_data = test_data.fillna(test_data.mean()).apply(fill_nan_with_mode, axis=0)\n"
          ]
        }
      ]
    },
    {
      "cell_type": "markdown",
      "source": [
        "## **Predicción con parámetros por defectos**"
      ],
      "metadata": {
        "id": "uoJWcAZr8Q03"
      }
    },
    {
      "cell_type": "code",
      "source": [
        "X_train = data.drop(\"TARGET\", axis=1)\n",
        "y_train = data[\"TARGET\"]\n",
        "for col in X_train.columns.difference(test_data.columns):\n",
        "    test_data[col] = [0] * len(test_data)\n",
        "\n",
        "test_data = test_data[X_train.columns]"
      ],
      "metadata": {
        "id": "kkZOcbVA8jQM"
      },
      "execution_count": null,
      "outputs": []
    },
    {
      "cell_type": "code",
      "source": [
        "model = LogisticRegression()\n",
        "\n",
        "model.fit(X_train, y_train)"
      ],
      "metadata": {
        "colab": {
          "base_uri": "https://localhost:8080/",
          "height": 222
        },
        "id": "1dS_ECie8WGw",
        "outputId": "b16fa041-086c-440c-e076-4269d6074cc8"
      },
      "execution_count": null,
      "outputs": [
        {
          "output_type": "stream",
          "name": "stderr",
          "text": [
            "/usr/local/lib/python3.10/dist-packages/sklearn/linear_model/_logistic.py:458: ConvergenceWarning: lbfgs failed to converge (status=1):\n",
            "STOP: TOTAL NO. of ITERATIONS REACHED LIMIT.\n",
            "\n",
            "Increase the number of iterations (max_iter) or scale the data as shown in:\n",
            "    https://scikit-learn.org/stable/modules/preprocessing.html\n",
            "Please also refer to the documentation for alternative solver options:\n",
            "    https://scikit-learn.org/stable/modules/linear_model.html#logistic-regression\n",
            "  n_iter_i = _check_optimize_result(\n"
          ]
        },
        {
          "output_type": "execute_result",
          "data": {
            "text/plain": [
              "LogisticRegression()"
            ],
            "text/html": [
              "<style>#sk-container-id-1 {color: black;background-color: white;}#sk-container-id-1 pre{padding: 0;}#sk-container-id-1 div.sk-toggleable {background-color: white;}#sk-container-id-1 label.sk-toggleable__label {cursor: pointer;display: block;width: 100%;margin-bottom: 0;padding: 0.3em;box-sizing: border-box;text-align: center;}#sk-container-id-1 label.sk-toggleable__label-arrow:before {content: \"▸\";float: left;margin-right: 0.25em;color: #696969;}#sk-container-id-1 label.sk-toggleable__label-arrow:hover:before {color: black;}#sk-container-id-1 div.sk-estimator:hover label.sk-toggleable__label-arrow:before {color: black;}#sk-container-id-1 div.sk-toggleable__content {max-height: 0;max-width: 0;overflow: hidden;text-align: left;background-color: #f0f8ff;}#sk-container-id-1 div.sk-toggleable__content pre {margin: 0.2em;color: black;border-radius: 0.25em;background-color: #f0f8ff;}#sk-container-id-1 input.sk-toggleable__control:checked~div.sk-toggleable__content {max-height: 200px;max-width: 100%;overflow: auto;}#sk-container-id-1 input.sk-toggleable__control:checked~label.sk-toggleable__label-arrow:before {content: \"▾\";}#sk-container-id-1 div.sk-estimator input.sk-toggleable__control:checked~label.sk-toggleable__label {background-color: #d4ebff;}#sk-container-id-1 div.sk-label input.sk-toggleable__control:checked~label.sk-toggleable__label {background-color: #d4ebff;}#sk-container-id-1 input.sk-hidden--visually {border: 0;clip: rect(1px 1px 1px 1px);clip: rect(1px, 1px, 1px, 1px);height: 1px;margin: -1px;overflow: hidden;padding: 0;position: absolute;width: 1px;}#sk-container-id-1 div.sk-estimator {font-family: monospace;background-color: #f0f8ff;border: 1px dotted black;border-radius: 0.25em;box-sizing: border-box;margin-bottom: 0.5em;}#sk-container-id-1 div.sk-estimator:hover {background-color: #d4ebff;}#sk-container-id-1 div.sk-parallel-item::after {content: \"\";width: 100%;border-bottom: 1px solid gray;flex-grow: 1;}#sk-container-id-1 div.sk-label:hover label.sk-toggleable__label {background-color: #d4ebff;}#sk-container-id-1 div.sk-serial::before {content: \"\";position: absolute;border-left: 1px solid gray;box-sizing: border-box;top: 0;bottom: 0;left: 50%;z-index: 0;}#sk-container-id-1 div.sk-serial {display: flex;flex-direction: column;align-items: center;background-color: white;padding-right: 0.2em;padding-left: 0.2em;position: relative;}#sk-container-id-1 div.sk-item {position: relative;z-index: 1;}#sk-container-id-1 div.sk-parallel {display: flex;align-items: stretch;justify-content: center;background-color: white;position: relative;}#sk-container-id-1 div.sk-item::before, #sk-container-id-1 div.sk-parallel-item::before {content: \"\";position: absolute;border-left: 1px solid gray;box-sizing: border-box;top: 0;bottom: 0;left: 50%;z-index: -1;}#sk-container-id-1 div.sk-parallel-item {display: flex;flex-direction: column;z-index: 1;position: relative;background-color: white;}#sk-container-id-1 div.sk-parallel-item:first-child::after {align-self: flex-end;width: 50%;}#sk-container-id-1 div.sk-parallel-item:last-child::after {align-self: flex-start;width: 50%;}#sk-container-id-1 div.sk-parallel-item:only-child::after {width: 0;}#sk-container-id-1 div.sk-dashed-wrapped {border: 1px dashed gray;margin: 0 0.4em 0.5em 0.4em;box-sizing: border-box;padding-bottom: 0.4em;background-color: white;}#sk-container-id-1 div.sk-label label {font-family: monospace;font-weight: bold;display: inline-block;line-height: 1.2em;}#sk-container-id-1 div.sk-label-container {text-align: center;}#sk-container-id-1 div.sk-container {/* jupyter's `normalize.less` sets `[hidden] { display: none; }` but bootstrap.min.css set `[hidden] { display: none !important; }` so we also need the `!important` here to be able to override the default hidden behavior on the sphinx rendered scikit-learn.org. See: https://github.com/scikit-learn/scikit-learn/issues/21755 */display: inline-block !important;position: relative;}#sk-container-id-1 div.sk-text-repr-fallback {display: none;}</style><div id=\"sk-container-id-1\" class=\"sk-top-container\"><div class=\"sk-text-repr-fallback\"><pre>LogisticRegression()</pre><b>In a Jupyter environment, please rerun this cell to show the HTML representation or trust the notebook. <br />On GitHub, the HTML representation is unable to render, please try loading this page with nbviewer.org.</b></div><div class=\"sk-container\" hidden><div class=\"sk-item\"><div class=\"sk-estimator sk-toggleable\"><input class=\"sk-toggleable__control sk-hidden--visually\" id=\"sk-estimator-id-1\" type=\"checkbox\" checked><label for=\"sk-estimator-id-1\" class=\"sk-toggleable__label sk-toggleable__label-arrow\">LogisticRegression</label><div class=\"sk-toggleable__content\"><pre>LogisticRegression()</pre></div></div></div></div></div>"
            ]
          },
          "metadata": {},
          "execution_count": 9
        }
      ]
    },
    {
      "cell_type": "code",
      "source": [
        "y_pred = model.predict_proba(test_data)"
      ],
      "metadata": {
        "id": "vCSIwcZF-F3C"
      },
      "execution_count": null,
      "outputs": []
    },
    {
      "cell_type": "code",
      "source": [
        "df = pd.DataFrame()\n",
        "df[\"SK_ID_CURR\"] = test_data[\"SK_ID_CURR\"]\n",
        "df[\"TARGET\"] = y_pred[:, 1]\n",
        "df = df.set_index(\"SK_ID_CURR\")\n",
        "df.to_csv(\"results.csv\")"
      ],
      "metadata": {
        "id": "zIfZ8vK0OMuW"
      },
      "execution_count": null,
      "outputs": []
    },
    {
      "cell_type": "markdown",
      "source": [
        "Se obtuvo un puntaje `~61.84%`"
      ],
      "metadata": {
        "id": "c34D05ZvNql1"
      }
    },
    {
      "cell_type": "markdown",
      "source": [
        "![image.png](data:image/png;base64,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)"
      ],
      "metadata": {
        "id": "EUxqLvECN5Zi"
      }
    },
    {
      "cell_type": "markdown",
      "source": [
        "## **Búsqueda de mejores hiperparámetros**"
      ],
      "metadata": {
        "id": "juonySQC7LUe"
      }
    },
    {
      "cell_type": "code",
      "source": [
        "model = LogisticRegression()\n",
        "\n",
        "param_grid = {\n",
        "    'C': [0.1, 1.0],\n",
        "    'penalty': ['l1', 'l2', 'elasticnet']\n",
        "}\n",
        "\n",
        "grid_search = GridSearchCV(model, param_grid, cv=3, scoring='accuracy')\n",
        "\n",
        "grid_search.fit(X_train, y_train)"
      ],
      "metadata": {
        "id": "z589ovd36t--"
      },
      "execution_count": null,
      "outputs": []
    },
    {
      "cell_type": "code",
      "source": [
        "grid_search.best_params_"
      ],
      "metadata": {
        "id": "o9bw-WGj7_KI",
        "colab": {
          "base_uri": "https://localhost:8080/"
        },
        "outputId": "7e1ca58c-e09d-4504-80b3-6a574170e990"
      },
      "execution_count": null,
      "outputs": [
        {
          "output_type": "execute_result",
          "data": {
            "text/plain": [
              "{'C': 0.1, 'penalty': 'l2'}"
            ]
          },
          "metadata": {},
          "execution_count": 18
        }
      ]
    },
    {
      "cell_type": "markdown",
      "source": [
        "Por lo tanto, los mejores hiperparámetros (de los probados) para este modelo son `C = 0.1` y `penalty = \"l2\"`"
      ],
      "metadata": {
        "id": "zYZdRz198DDA"
      }
    },
    {
      "cell_type": "markdown",
      "source": [
        "## **Resultados con los mejores hiperparámetros**"
      ],
      "metadata": {
        "id": "2xPKHnYuOAKa"
      }
    },
    {
      "cell_type": "code",
      "source": [
        "model = LogisticRegression(C=grid_search.best_params_[\"C\"], penalty=grid_search.best_params_[\"penalty\"])\n",
        "\n",
        "model.fit(X_train, y_train)"
      ],
      "metadata": {
        "colab": {
          "base_uri": "https://localhost:8080/",
          "height": 222
        },
        "id": "oqg_1QkrHk5o",
        "outputId": "158aef3e-fba8-4258-f332-7805504ebc20"
      },
      "execution_count": null,
      "outputs": [
        {
          "output_type": "stream",
          "name": "stderr",
          "text": [
            "/usr/local/lib/python3.10/dist-packages/sklearn/linear_model/_logistic.py:458: ConvergenceWarning: lbfgs failed to converge (status=1):\n",
            "STOP: TOTAL NO. of ITERATIONS REACHED LIMIT.\n",
            "\n",
            "Increase the number of iterations (max_iter) or scale the data as shown in:\n",
            "    https://scikit-learn.org/stable/modules/preprocessing.html\n",
            "Please also refer to the documentation for alternative solver options:\n",
            "    https://scikit-learn.org/stable/modules/linear_model.html#logistic-regression\n",
            "  n_iter_i = _check_optimize_result(\n"
          ]
        },
        {
          "output_type": "execute_result",
          "data": {
            "text/plain": [
              "LogisticRegression(C=0.1)"
            ],
            "text/html": [
              "<style>#sk-container-id-6 {color: black;background-color: white;}#sk-container-id-6 pre{padding: 0;}#sk-container-id-6 div.sk-toggleable {background-color: white;}#sk-container-id-6 label.sk-toggleable__label {cursor: pointer;display: block;width: 100%;margin-bottom: 0;padding: 0.3em;box-sizing: border-box;text-align: center;}#sk-container-id-6 label.sk-toggleable__label-arrow:before {content: \"▸\";float: left;margin-right: 0.25em;color: #696969;}#sk-container-id-6 label.sk-toggleable__label-arrow:hover:before {color: black;}#sk-container-id-6 div.sk-estimator:hover label.sk-toggleable__label-arrow:before {color: black;}#sk-container-id-6 div.sk-toggleable__content {max-height: 0;max-width: 0;overflow: hidden;text-align: left;background-color: #f0f8ff;}#sk-container-id-6 div.sk-toggleable__content pre {margin: 0.2em;color: black;border-radius: 0.25em;background-color: #f0f8ff;}#sk-container-id-6 input.sk-toggleable__control:checked~div.sk-toggleable__content {max-height: 200px;max-width: 100%;overflow: auto;}#sk-container-id-6 input.sk-toggleable__control:checked~label.sk-toggleable__label-arrow:before {content: \"▾\";}#sk-container-id-6 div.sk-estimator input.sk-toggleable__control:checked~label.sk-toggleable__label {background-color: #d4ebff;}#sk-container-id-6 div.sk-label input.sk-toggleable__control:checked~label.sk-toggleable__label {background-color: #d4ebff;}#sk-container-id-6 input.sk-hidden--visually {border: 0;clip: rect(1px 1px 1px 1px);clip: rect(1px, 1px, 1px, 1px);height: 1px;margin: -1px;overflow: hidden;padding: 0;position: absolute;width: 1px;}#sk-container-id-6 div.sk-estimator {font-family: monospace;background-color: #f0f8ff;border: 1px dotted black;border-radius: 0.25em;box-sizing: border-box;margin-bottom: 0.5em;}#sk-container-id-6 div.sk-estimator:hover {background-color: #d4ebff;}#sk-container-id-6 div.sk-parallel-item::after {content: \"\";width: 100%;border-bottom: 1px solid gray;flex-grow: 1;}#sk-container-id-6 div.sk-label:hover label.sk-toggleable__label {background-color: #d4ebff;}#sk-container-id-6 div.sk-serial::before {content: \"\";position: absolute;border-left: 1px solid gray;box-sizing: border-box;top: 0;bottom: 0;left: 50%;z-index: 0;}#sk-container-id-6 div.sk-serial {display: flex;flex-direction: column;align-items: center;background-color: white;padding-right: 0.2em;padding-left: 0.2em;position: relative;}#sk-container-id-6 div.sk-item {position: relative;z-index: 1;}#sk-container-id-6 div.sk-parallel {display: flex;align-items: stretch;justify-content: center;background-color: white;position: relative;}#sk-container-id-6 div.sk-item::before, #sk-container-id-6 div.sk-parallel-item::before {content: \"\";position: absolute;border-left: 1px solid gray;box-sizing: border-box;top: 0;bottom: 0;left: 50%;z-index: -1;}#sk-container-id-6 div.sk-parallel-item {display: flex;flex-direction: column;z-index: 1;position: relative;background-color: white;}#sk-container-id-6 div.sk-parallel-item:first-child::after {align-self: flex-end;width: 50%;}#sk-container-id-6 div.sk-parallel-item:last-child::after {align-self: flex-start;width: 50%;}#sk-container-id-6 div.sk-parallel-item:only-child::after {width: 0;}#sk-container-id-6 div.sk-dashed-wrapped {border: 1px dashed gray;margin: 0 0.4em 0.5em 0.4em;box-sizing: border-box;padding-bottom: 0.4em;background-color: white;}#sk-container-id-6 div.sk-label label {font-family: monospace;font-weight: bold;display: inline-block;line-height: 1.2em;}#sk-container-id-6 div.sk-label-container {text-align: center;}#sk-container-id-6 div.sk-container {/* jupyter's `normalize.less` sets `[hidden] { display: none; }` but bootstrap.min.css set `[hidden] { display: none !important; }` so we also need the `!important` here to be able to override the default hidden behavior on the sphinx rendered scikit-learn.org. See: https://github.com/scikit-learn/scikit-learn/issues/21755 */display: inline-block !important;position: relative;}#sk-container-id-6 div.sk-text-repr-fallback {display: none;}</style><div id=\"sk-container-id-6\" class=\"sk-top-container\"><div class=\"sk-text-repr-fallback\"><pre>LogisticRegression(C=0.1)</pre><b>In a Jupyter environment, please rerun this cell to show the HTML representation or trust the notebook. <br />On GitHub, the HTML representation is unable to render, please try loading this page with nbviewer.org.</b></div><div class=\"sk-container\" hidden><div class=\"sk-item\"><div class=\"sk-estimator sk-toggleable\"><input class=\"sk-toggleable__control sk-hidden--visually\" id=\"sk-estimator-id-14\" type=\"checkbox\" checked><label for=\"sk-estimator-id-14\" class=\"sk-toggleable__label sk-toggleable__label-arrow\">LogisticRegression</label><div class=\"sk-toggleable__content\"><pre>LogisticRegression(C=0.1)</pre></div></div></div></div></div>"
            ]
          },
          "metadata": {},
          "execution_count": 20
        }
      ]
    },
    {
      "cell_type": "code",
      "source": [
        "y_pred = model.predict_proba(test_data)"
      ],
      "metadata": {
        "id": "N8mnSG-RLmdO"
      },
      "execution_count": null,
      "outputs": []
    },
    {
      "cell_type": "code",
      "source": [
        "df = pd.DataFrame()\n",
        "df[\"SK_ID_CURR\"] = test_data[\"SK_ID_CURR\"]\n",
        "df[\"TARGET\"] = y_pred[:, 1]\n",
        "df = df.set_index(\"SK_ID_CURR\")\n",
        "df"
      ],
      "metadata": {
        "colab": {
          "base_uri": "https://localhost:8080/",
          "height": 455
        },
        "id": "jCq-1m23L0Ig",
        "outputId": "969e64d4-0802-47bb-92bd-e16d2882c767"
      },
      "execution_count": null,
      "outputs": [
        {
          "output_type": "execute_result",
          "data": {
            "text/plain": [
              "              TARGET\n",
              "SK_ID_CURR          \n",
              "100001      0.096774\n",
              "100005      0.102988\n",
              "100013      0.062967\n",
              "100028      0.030570\n",
              "100038      0.075737\n",
              "...              ...\n",
              "456221      0.058587\n",
              "456222      0.130008\n",
              "456223      0.077000\n",
              "456224      0.069796\n",
              "456250      0.085637\n",
              "\n",
              "[48744 rows x 1 columns]"
            ],
            "text/html": [
              "\n",
              "  <div id=\"df-69f50d04-43f2-4801-a99d-8b73f39bfbaf\" class=\"colab-df-container\">\n",
              "    <div>\n",
              "<style scoped>\n",
              "    .dataframe tbody tr th:only-of-type {\n",
              "        vertical-align: middle;\n",
              "    }\n",
              "\n",
              "    .dataframe tbody tr th {\n",
              "        vertical-align: top;\n",
              "    }\n",
              "\n",
              "    .dataframe thead th {\n",
              "        text-align: right;\n",
              "    }\n",
              "</style>\n",
              "<table border=\"1\" class=\"dataframe\">\n",
              "  <thead>\n",
              "    <tr style=\"text-align: right;\">\n",
              "      <th></th>\n",
              "      <th>TARGET</th>\n",
              "    </tr>\n",
              "    <tr>\n",
              "      <th>SK_ID_CURR</th>\n",
              "      <th></th>\n",
              "    </tr>\n",
              "  </thead>\n",
              "  <tbody>\n",
              "    <tr>\n",
              "      <th>100001</th>\n",
              "      <td>0.096774</td>\n",
              "    </tr>\n",
              "    <tr>\n",
              "      <th>100005</th>\n",
              "      <td>0.102988</td>\n",
              "    </tr>\n",
              "    <tr>\n",
              "      <th>100013</th>\n",
              "      <td>0.062967</td>\n",
              "    </tr>\n",
              "    <tr>\n",
              "      <th>100028</th>\n",
              "      <td>0.030570</td>\n",
              "    </tr>\n",
              "    <tr>\n",
              "      <th>100038</th>\n",
              "      <td>0.075737</td>\n",
              "    </tr>\n",
              "    <tr>\n",
              "      <th>...</th>\n",
              "      <td>...</td>\n",
              "    </tr>\n",
              "    <tr>\n",
              "      <th>456221</th>\n",
              "      <td>0.058587</td>\n",
              "    </tr>\n",
              "    <tr>\n",
              "      <th>456222</th>\n",
              "      <td>0.130008</td>\n",
              "    </tr>\n",
              "    <tr>\n",
              "      <th>456223</th>\n",
              "      <td>0.077000</td>\n",
              "    </tr>\n",
              "    <tr>\n",
              "      <th>456224</th>\n",
              "      <td>0.069796</td>\n",
              "    </tr>\n",
              "    <tr>\n",
              "      <th>456250</th>\n",
              "      <td>0.085637</td>\n",
              "    </tr>\n",
              "  </tbody>\n",
              "</table>\n",
              "<p>48744 rows × 1 columns</p>\n",
              "</div>\n",
              "    <div class=\"colab-df-buttons\">\n",
              "\n",
              "  <div class=\"colab-df-container\">\n",
              "    <button class=\"colab-df-convert\" onclick=\"convertToInteractive('df-69f50d04-43f2-4801-a99d-8b73f39bfbaf')\"\n",
              "            title=\"Convert this dataframe to an interactive table.\"\n",
              "            style=\"display:none;\">\n",
              "\n",
              "  <svg xmlns=\"http://www.w3.org/2000/svg\" height=\"24px\" viewBox=\"0 -960 960 960\">\n",
              "    <path d=\"M120-120v-720h720v720H120Zm60-500h600v-160H180v160Zm220 220h160v-160H400v160Zm0 220h160v-160H400v160ZM180-400h160v-160H180v160Zm440 0h160v-160H620v160ZM180-180h160v-160H180v160Zm440 0h160v-160H620v160Z\"/>\n",
              "  </svg>\n",
              "    </button>\n",
              "\n",
              "  <style>\n",
              "    .colab-df-container {\n",
              "      display:flex;\n",
              "      gap: 12px;\n",
              "    }\n",
              "\n",
              "    .colab-df-convert {\n",
              "      background-color: #E8F0FE;\n",
              "      border: none;\n",
              "      border-radius: 50%;\n",
              "      cursor: pointer;\n",
              "      display: none;\n",
              "      fill: #1967D2;\n",
              "      height: 32px;\n",
              "      padding: 0 0 0 0;\n",
              "      width: 32px;\n",
              "    }\n",
              "\n",
              "    .colab-df-convert:hover {\n",
              "      background-color: #E2EBFA;\n",
              "      box-shadow: 0px 1px 2px rgba(60, 64, 67, 0.3), 0px 1px 3px 1px rgba(60, 64, 67, 0.15);\n",
              "      fill: #174EA6;\n",
              "    }\n",
              "\n",
              "    .colab-df-buttons div {\n",
              "      margin-bottom: 4px;\n",
              "    }\n",
              "\n",
              "    [theme=dark] .colab-df-convert {\n",
              "      background-color: #3B4455;\n",
              "      fill: #D2E3FC;\n",
              "    }\n",
              "\n",
              "    [theme=dark] .colab-df-convert:hover {\n",
              "      background-color: #434B5C;\n",
              "      box-shadow: 0px 1px 3px 1px rgba(0, 0, 0, 0.15);\n",
              "      filter: drop-shadow(0px 1px 2px rgba(0, 0, 0, 0.3));\n",
              "      fill: #FFFFFF;\n",
              "    }\n",
              "  </style>\n",
              "\n",
              "    <script>\n",
              "      const buttonEl =\n",
              "        document.querySelector('#df-69f50d04-43f2-4801-a99d-8b73f39bfbaf button.colab-df-convert');\n",
              "      buttonEl.style.display =\n",
              "        google.colab.kernel.accessAllowed ? 'block' : 'none';\n",
              "\n",
              "      async function convertToInteractive(key) {\n",
              "        const element = document.querySelector('#df-69f50d04-43f2-4801-a99d-8b73f39bfbaf');\n",
              "        const dataTable =\n",
              "          await google.colab.kernel.invokeFunction('convertToInteractive',\n",
              "                                                    [key], {});\n",
              "        if (!dataTable) return;\n",
              "\n",
              "        const docLinkHtml = 'Like what you see? Visit the ' +\n",
              "          '<a target=\"_blank\" href=https://colab.research.google.com/notebooks/data_table.ipynb>data table notebook</a>'\n",
              "          + ' to learn more about interactive tables.';\n",
              "        element.innerHTML = '';\n",
              "        dataTable['output_type'] = 'display_data';\n",
              "        await google.colab.output.renderOutput(dataTable, element);\n",
              "        const docLink = document.createElement('div');\n",
              "        docLink.innerHTML = docLinkHtml;\n",
              "        element.appendChild(docLink);\n",
              "      }\n",
              "    </script>\n",
              "  </div>\n",
              "\n",
              "\n",
              "<div id=\"df-154fd85e-e52a-4d0c-8c0f-0b9c2c5bcd4e\">\n",
              "  <button class=\"colab-df-quickchart\" onclick=\"quickchart('df-154fd85e-e52a-4d0c-8c0f-0b9c2c5bcd4e')\"\n",
              "            title=\"Suggest charts\"\n",
              "            style=\"display:none;\">\n",
              "\n",
              "<svg xmlns=\"http://www.w3.org/2000/svg\" height=\"24px\"viewBox=\"0 0 24 24\"\n",
              "     width=\"24px\">\n",
              "    <g>\n",
              "        <path d=\"M19 3H5c-1.1 0-2 .9-2 2v14c0 1.1.9 2 2 2h14c1.1 0 2-.9 2-2V5c0-1.1-.9-2-2-2zM9 17H7v-7h2v7zm4 0h-2V7h2v10zm4 0h-2v-4h2v4z\"/>\n",
              "    </g>\n",
              "</svg>\n",
              "  </button>\n",
              "\n",
              "<style>\n",
              "  .colab-df-quickchart {\n",
              "      --bg-color: #E8F0FE;\n",
              "      --fill-color: #1967D2;\n",
              "      --hover-bg-color: #E2EBFA;\n",
              "      --hover-fill-color: #174EA6;\n",
              "      --disabled-fill-color: #AAA;\n",
              "      --disabled-bg-color: #DDD;\n",
              "  }\n",
              "\n",
              "  [theme=dark] .colab-df-quickchart {\n",
              "      --bg-color: #3B4455;\n",
              "      --fill-color: #D2E3FC;\n",
              "      --hover-bg-color: #434B5C;\n",
              "      --hover-fill-color: #FFFFFF;\n",
              "      --disabled-bg-color: #3B4455;\n",
              "      --disabled-fill-color: #666;\n",
              "  }\n",
              "\n",
              "  .colab-df-quickchart {\n",
              "    background-color: var(--bg-color);\n",
              "    border: none;\n",
              "    border-radius: 50%;\n",
              "    cursor: pointer;\n",
              "    display: none;\n",
              "    fill: var(--fill-color);\n",
              "    height: 32px;\n",
              "    padding: 0;\n",
              "    width: 32px;\n",
              "  }\n",
              "\n",
              "  .colab-df-quickchart:hover {\n",
              "    background-color: var(--hover-bg-color);\n",
              "    box-shadow: 0 1px 2px rgba(60, 64, 67, 0.3), 0 1px 3px 1px rgba(60, 64, 67, 0.15);\n",
              "    fill: var(--button-hover-fill-color);\n",
              "  }\n",
              "\n",
              "  .colab-df-quickchart-complete:disabled,\n",
              "  .colab-df-quickchart-complete:disabled:hover {\n",
              "    background-color: var(--disabled-bg-color);\n",
              "    fill: var(--disabled-fill-color);\n",
              "    box-shadow: none;\n",
              "  }\n",
              "\n",
              "  .colab-df-spinner {\n",
              "    border: 2px solid var(--fill-color);\n",
              "    border-color: transparent;\n",
              "    border-bottom-color: var(--fill-color);\n",
              "    animation:\n",
              "      spin 1s steps(1) infinite;\n",
              "  }\n",
              "\n",
              "  @keyframes spin {\n",
              "    0% {\n",
              "      border-color: transparent;\n",
              "      border-bottom-color: var(--fill-color);\n",
              "      border-left-color: var(--fill-color);\n",
              "    }\n",
              "    20% {\n",
              "      border-color: transparent;\n",
              "      border-left-color: var(--fill-color);\n",
              "      border-top-color: var(--fill-color);\n",
              "    }\n",
              "    30% {\n",
              "      border-color: transparent;\n",
              "      border-left-color: var(--fill-color);\n",
              "      border-top-color: var(--fill-color);\n",
              "      border-right-color: var(--fill-color);\n",
              "    }\n",
              "    40% {\n",
              "      border-color: transparent;\n",
              "      border-right-color: var(--fill-color);\n",
              "      border-top-color: var(--fill-color);\n",
              "    }\n",
              "    60% {\n",
              "      border-color: transparent;\n",
              "      border-right-color: var(--fill-color);\n",
              "    }\n",
              "    80% {\n",
              "      border-color: transparent;\n",
              "      border-right-color: var(--fill-color);\n",
              "      border-bottom-color: var(--fill-color);\n",
              "    }\n",
              "    90% {\n",
              "      border-color: transparent;\n",
              "      border-bottom-color: var(--fill-color);\n",
              "    }\n",
              "  }\n",
              "</style>\n",
              "\n",
              "  <script>\n",
              "    async function quickchart(key) {\n",
              "      const quickchartButtonEl =\n",
              "        document.querySelector('#' + key + ' button');\n",
              "      quickchartButtonEl.disabled = true;  // To prevent multiple clicks.\n",
              "      quickchartButtonEl.classList.add('colab-df-spinner');\n",
              "      try {\n",
              "        const charts = await google.colab.kernel.invokeFunction(\n",
              "            'suggestCharts', [key], {});\n",
              "      } catch (error) {\n",
              "        console.error('Error during call to suggestCharts:', error);\n",
              "      }\n",
              "      quickchartButtonEl.classList.remove('colab-df-spinner');\n",
              "      quickchartButtonEl.classList.add('colab-df-quickchart-complete');\n",
              "    }\n",
              "    (() => {\n",
              "      let quickchartButtonEl =\n",
              "        document.querySelector('#df-154fd85e-e52a-4d0c-8c0f-0b9c2c5bcd4e button');\n",
              "      quickchartButtonEl.style.display =\n",
              "        google.colab.kernel.accessAllowed ? 'block' : 'none';\n",
              "    })();\n",
              "  </script>\n",
              "</div>\n",
              "    </div>\n",
              "  </div>\n"
            ]
          },
          "metadata": {},
          "execution_count": 26
        }
      ]
    },
    {
      "cell_type": "code",
      "source": [
        "df.to_csv(\"results.csv\")"
      ],
      "metadata": {
        "id": "NscfYGhrNFAC"
      },
      "execution_count": null,
      "outputs": []
    },
    {
      "cell_type": "markdown",
      "source": [
        "A pesar de realizar la predicción con los mejores parámetros hayados, el puntaje obtenido no fue mejor"
      ],
      "metadata": {
        "id": "7QcPlYGhOgVb"
      }
    },
    {
      "cell_type": "markdown",
      "source": [
        "![image.png](data:image/png;base64,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)"
      ],
      "metadata": {
        "id": "NYYVSU6KOm6r"
      }
    },
    {
      "cell_type": "markdown",
      "source": [
        "## **Curva de aprendizaje**"
      ],
      "metadata": {
        "id": "MXN265WOOr1u"
      }
    },
    {
      "cell_type": "code",
      "source": [
        "model = LogisticRegression(C=grid_search.best_params_[\"C\"], penalty=grid_search.best_params_[\"penalty\"])\n",
        "cv = ShuffleSplit(n_splits=5, test_size=0.2, random_state=42)\n",
        "\n",
        "# Generate learning curves\n",
        "res = learning_curve(\n",
        "    model, X_train, y_train, cv=cv, n_jobs=-1, train_sizes=[0.1, 0.35, 0.6, 1.0]\n",
        ")"
      ],
      "metadata": {
        "id": "9uoOQBLhOuEr"
      },
      "execution_count": null,
      "outputs": []
    },
    {
      "cell_type": "code",
      "source": [
        "train_sizes = res[0]\n",
        "train_scores = res[1]\n",
        "test_scores = res[2]"
      ],
      "metadata": {
        "id": "GZ7cA817DBDB"
      },
      "execution_count": null,
      "outputs": []
    },
    {
      "cell_type": "code",
      "source": [
        "train_scores_mean = np.mean(train_scores, axis=1)\n",
        "train_scores_std = np.std(train_scores, axis=1)\n",
        "test_scores_mean = np.mean(test_scores, axis=1)\n",
        "test_scores_std = np.std(test_scores, axis=1)"
      ],
      "metadata": {
        "id": "dDCc-zY81bsk"
      },
      "execution_count": null,
      "outputs": []
    },
    {
      "cell_type": "code",
      "source": [
        "plt.figure(figsize=(10, 6))\n",
        "plt.fill_between(train_sizes, train_scores_mean - train_scores_std,\n",
        "                 train_scores_mean + train_scores_std, alpha=0.1, color=\"r\")\n",
        "plt.fill_between(train_sizes, test_scores_mean - test_scores_std,\n",
        "                 test_scores_mean + test_scores_std, alpha=0.1, color=\"g\")\n",
        "plt.plot(train_sizes, train_scores_mean, 'o-', color=\"r\", label=\"Training score\")\n",
        "plt.plot(train_sizes, test_scores_mean, 'o-', color=\"g\", label=\"Cross-validation score\")\n",
        "plt.xlabel(\"Training examples\")\n",
        "plt.ylabel(\"Score\")\n",
        "plt.legend(loc=\"best\")\n",
        "plt.title(\"Learning Curve (Logistic Regression)\")\n",
        "plt.show()"
      ],
      "metadata": {
        "colab": {
          "base_uri": "https://localhost:8080/",
          "height": 564
        },
        "id": "PCA-kFPT1Z7f",
        "outputId": "bd2311fe-e445-41c3-ad5c-dd8cbf07de8b"
      },
      "execution_count": null,
      "outputs": [
        {
          "output_type": "display_data",
          "data": {
            "text/plain": [
              "<Figure size 1000x600 with 1 Axes>"
            ],
            "image/png": "[encoded data removed]"
          },
          "metadata": {}
        }
      ]
    }
  ]
}