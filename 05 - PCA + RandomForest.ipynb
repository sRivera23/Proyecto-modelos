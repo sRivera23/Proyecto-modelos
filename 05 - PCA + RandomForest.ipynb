{
  "nbformat": 4,
  "nbformat_minor": 0,
  "metadata": {
    "colab": {
      "provenance": []
    },
    "kernelspec": {
      "name": "python3",
      "display_name": "Python 3"
    },
    "language_info": {
      "name": "python"
    }
  },
  "cells": [
    {
      "cell_type": "markdown",
      "metadata": {
        "id": "u25MBP9cBMUp"
      },
      "source": [
        "# **Clustering con PCA + RandomForest**"
      ]
    },
    {
      "cell_type": "code",
      "execution_count": null,
      "metadata": {
        "id": "y9CB8LWRmPvg"
      },
      "outputs": [],
      "source": [
        "import pandas as pd\n",
        "import numpy as np\n",
        "from sklearn.model_selection import train_test_split\n",
        "from sklearn.cluster import KMeans\n",
        "from sklearn.ensemble import RandomForestClassifier\n",
        "from sklearn.model_selection import GridSearchCV, learning_curve\n",
        "from sklearn.metrics import silhouette_score\n",
        "from sklearn.model_selection import ParameterGrid\n",
        "import matplotlib.pyplot as plt\n",
        "from sklearn.pipeline import Pipeline\n",
        "from sklearn.decomposition import PCA\n",
        "from sklearn.metrics import accuracy_score\n"
      ]
    },
    {
      "cell_type": "markdown",
      "metadata": {
        "id": "uQDHUb9xxfix"
      },
      "source": [
        "## **Descarga del Dataset original**"
      ]
    },
    {
      "cell_type": "markdown",
      "metadata": {
        "id": "2c5ymp78xowc"
      },
      "source": [
        "Para descargar el dataset a Colab, es necesario subir su Kaggle API Key personal (para crear una nueva, revise la sección Authentication en https://www.kaggle.com/docs/api).\n",
        "\n",
        "Suba a continuación el archivo `.json` generado."
      ]
    },
    {
      "cell_type": "code",
      "execution_count": null,
      "metadata": {
        "colab": {
          "base_uri": "https://localhost:8080/",
          "height": 92
        },
        "id": "TXW2q7hO-1fL",
        "outputId": "56cf2f9a-9dfc-4fed-dd0c-21e52d96ee8f"
      },
      "outputs": [
        {
          "output_type": "display_data",
          "data": {
            "text/plain": [
              "<IPython.core.display.HTML object>"
            ],
            "text/html": [
              "\n",
              "     <input type=\"file\" id=\"files-d4096a2b-7627-4593-a03b-10e5bcc08e1f\" name=\"files[]\" multiple disabled\n",
              "        style=\"border:none\" />\n",
              "     <output id=\"result-d4096a2b-7627-4593-a03b-10e5bcc08e1f\">\n",
              "      Upload widget is only available when the cell has been executed in the\n",
              "      current browser session. Please rerun this cell to enable.\n",
              "      </output>\n",
              "      <script>// Copyright 2017 Google LLC\n",
              "//\n",
              "// Licensed under the Apache License, Version 2.0 (the \"License\");\n",
              "// you may not use this file except in compliance with the License.\n",
              "// You may obtain a copy of the License at\n",
              "//\n",
              "//      http://www.apache.org/licenses/LICENSE-2.0\n",
              "//\n",
              "// Unless required by applicable law or agreed to in writing, software\n",
              "// distributed under the License is distributed on an \"AS IS\" BASIS,\n",
              "// WITHOUT WARRANTIES OR CONDITIONS OF ANY KIND, either express or implied.\n",
              "// See the License for the specific language governing permissions and\n",
              "// limitations under the License.\n",
              "\n",
              "/**\n",
              " * @fileoverview Helpers for google.colab Python module.\n",
              " */\n",
              "(function(scope) {\n",
              "function span(text, styleAttributes = {}) {\n",
              "  const element = document.createElement('span');\n",
              "  element.textContent = text;\n",
              "  for (const key of Object.keys(styleAttributes)) {\n",
              "    element.style[key] = styleAttributes[key];\n",
              "  }\n",
              "  return element;\n",
              "}\n",
              "\n",
              "// Max number of bytes which will be uploaded at a time.\n",
              "const MAX_PAYLOAD_SIZE = 100 * 1024;\n",
              "\n",
              "function _uploadFiles(inputId, outputId) {\n",
              "  const steps = uploadFilesStep(inputId, outputId);\n",
              "  const outputElement = document.getElementById(outputId);\n",
              "  // Cache steps on the outputElement to make it available for the next call\n",
              "  // to uploadFilesContinue from Python.\n",
              "  outputElement.steps = steps;\n",
              "\n",
              "  return _uploadFilesContinue(outputId);\n",
              "}\n",
              "\n",
              "// This is roughly an async generator (not supported in the browser yet),\n",
              "// where there are multiple asynchronous steps and the Python side is going\n",
              "// to poll for completion of each step.\n",
              "// This uses a Promise to block the python side on completion of each step,\n",
              "// then passes the result of the previous step as the input to the next step.\n",
              "function _uploadFilesContinue(outputId) {\n",
              "  const outputElement = document.getElementById(outputId);\n",
              "  const steps = outputElement.steps;\n",
              "\n",
              "  const next = steps.next(outputElement.lastPromiseValue);\n",
              "  return Promise.resolve(next.value.promise).then((value) => {\n",
              "    // Cache the last promise value to make it available to the next\n",
              "    // step of the generator.\n",
              "    outputElement.lastPromiseValue = value;\n",
              "    return next.value.response;\n",
              "  });\n",
              "}\n",
              "\n",
              "/**\n",
              " * Generator function which is called between each async step of the upload\n",
              " * process.\n",
              " * @param {string} inputId Element ID of the input file picker element.\n",
              " * @param {string} outputId Element ID of the output display.\n",
              " * @return {!Iterable<!Object>} Iterable of next steps.\n",
              " */\n",
              "function* uploadFilesStep(inputId, outputId) {\n",
              "  const inputElement = document.getElementById(inputId);\n",
              "  inputElement.disabled = false;\n",
              "\n",
              "  const outputElement = document.getElementById(outputId);\n",
              "  outputElement.innerHTML = '';\n",
              "\n",
              "  const pickedPromise = new Promise((resolve) => {\n",
              "    inputElement.addEventListener('change', (e) => {\n",
              "      resolve(e.target.files);\n",
              "    });\n",
              "  });\n",
              "\n",
              "  const cancel = document.createElement('button');\n",
              "  inputElement.parentElement.appendChild(cancel);\n",
              "  cancel.textContent = 'Cancel upload';\n",
              "  const cancelPromise = new Promise((resolve) => {\n",
              "    cancel.onclick = () => {\n",
              "      resolve(null);\n",
              "    };\n",
              "  });\n",
              "\n",
              "  // Wait for the user to pick the files.\n",
              "  const files = yield {\n",
              "    promise: Promise.race([pickedPromise, cancelPromise]),\n",
              "    response: {\n",
              "      action: 'starting',\n",
              "    }\n",
              "  };\n",
              "\n",
              "  cancel.remove();\n",
              "\n",
              "  // Disable the input element since further picks are not allowed.\n",
              "  inputElement.disabled = true;\n",
              "\n",
              "  if (!files) {\n",
              "    return {\n",
              "      response: {\n",
              "        action: 'complete',\n",
              "      }\n",
              "    };\n",
              "  }\n",
              "\n",
              "  for (const file of files) {\n",
              "    const li = document.createElement('li');\n",
              "    li.append(span(file.name, {fontWeight: 'bold'}));\n",
              "    li.append(span(\n",
              "        `(${file.type || 'n/a'}) - ${file.size} bytes, ` +\n",
              "        `last modified: ${\n",
              "            file.lastModifiedDate ? file.lastModifiedDate.toLocaleDateString() :\n",
              "                                    'n/a'} - `));\n",
              "    const percent = span('0% done');\n",
              "    li.appendChild(percent);\n",
              "\n",
              "    outputElement.appendChild(li);\n",
              "\n",
              "    const fileDataPromise = new Promise((resolve) => {\n",
              "      const reader = new FileReader();\n",
              "      reader.onload = (e) => {\n",
              "        resolve(e.target.result);\n",
              "      };\n",
              "      reader.readAsArrayBuffer(file);\n",
              "    });\n",
              "    // Wait for the data to be ready.\n",
              "    let fileData = yield {\n",
              "      promise: fileDataPromise,\n",
              "      response: {\n",
              "        action: 'continue',\n",
              "      }\n",
              "    };\n",
              "\n",
              "    // Use a chunked sending to avoid message size limits. See b/62115660.\n",
              "    let position = 0;\n",
              "    do {\n",
              "      const length = Math.min(fileData.byteLength - position, MAX_PAYLOAD_SIZE);\n",
              "      const chunk = new Uint8Array(fileData, position, length);\n",
              "      position += length;\n",
              "\n",
              "      const base64 = btoa(String.fromCharCode.apply(null, chunk));\n",
              "      yield {\n",
              "        response: {\n",
              "          action: 'append',\n",
              "          file: file.name,\n",
              "          data: base64,\n",
              "        },\n",
              "      };\n",
              "\n",
              "      let percentDone = fileData.byteLength === 0 ?\n",
              "          100 :\n",
              "          Math.round((position / fileData.byteLength) * 100);\n",
              "      percent.textContent = `${percentDone}% done`;\n",
              "\n",
              "    } while (position < fileData.byteLength);\n",
              "  }\n",
              "\n",
              "  // All done.\n",
              "  yield {\n",
              "    response: {\n",
              "      action: 'complete',\n",
              "    }\n",
              "  };\n",
              "}\n",
              "\n",
              "scope.google = scope.google || {};\n",
              "scope.google.colab = scope.google.colab || {};\n",
              "scope.google.colab._files = {\n",
              "  _uploadFiles,\n",
              "  _uploadFilesContinue,\n",
              "};\n",
              "})(self);\n",
              "</script> "
            ]
          },
          "metadata": {}
        },
        {
          "output_type": "stream",
          "name": "stdout",
          "text": [
            "Saving kaggle.json to kaggle.json\n"
          ]
        },
        {
          "output_type": "execute_result",
          "data": {
            "text/plain": [
              "{'kaggle.json': b'{\"username\":\"daniellujanagudelo\",\"key\":\"e0f7fc0287fd836756e720097ec0469f\"}'}"
            ]
          },
          "metadata": {},
          "execution_count": 2
        }
      ],
      "source": [
        "from google.colab import files\n",
        "files.upload()"
      ]
    },
    {
      "cell_type": "code",
      "execution_count": null,
      "metadata": {
        "id": "b8_9lBL4_Uea"
      },
      "outputs": [],
      "source": [
        "!mkdir ~/.kaggle\n",
        "!mv ./kaggle.json ~/.kaggle/\n",
        "!chmod 600 ~/.kaggle/kaggle.json"
      ]
    },
    {
      "cell_type": "code",
      "execution_count": null,
      "metadata": {
        "colab": {
          "base_uri": "https://localhost:8080/"
        },
        "id": "jCyHMOIA_bna",
        "outputId": "825c37f6-e162-41a8-9457-16210a119536"
      },
      "outputs": [
        {
          "output_type": "stream",
          "name": "stdout",
          "text": [
            "Downloading home-credit-default-risk.zip to /content\n",
            " 99% 681M/688M [00:07<00:00, 95.9MB/s]\n",
            "100% 688M/688M [00:07<00:00, 101MB/s] \n"
          ]
        }
      ],
      "source": [
        "!kaggle competitions download -c home-credit-default-risk"
      ]
    },
    {
      "cell_type": "code",
      "execution_count": null,
      "metadata": {
        "id": "DiNeBOc7_0Ze"
      },
      "outputs": [],
      "source": [
        "import zipfile\n",
        "zip_ref = zipfile.ZipFile('/content/home-credit-default-risk.zip', 'r')\n",
        "zip_ref.extractall('/content')\n",
        "zip_ref.close()"
      ]
    },
    {
      "cell_type": "markdown",
      "metadata": {
        "id": "e5nw1hs-lyoq"
      },
      "source": [
        "## **Preprocesamiento**"
      ]
    },
    {
      "cell_type": "markdown",
      "metadata": {
        "id": "7EPeKnk1l3TQ"
      },
      "source": [
        "La siguiente función realiza todo el preprocesamiento necesario a los datos, explicado en [01 - Preprocesamiento.ipynb](https://colab.research.google.com/drive/1w9a0auNVqZ2hN_urrf3rmJ-3gVfDUBx0#scrollTo=2c5ymp78xowc)"
      ]
    },
    {
      "cell_type": "code",
      "execution_count": null,
      "metadata": {
        "colab": {
          "base_uri": "https://localhost:8080/"
        },
        "id": "eLYdAWFklwNC",
        "outputId": "5c3af2fa-e9d7-4320-eec5-563b194c232d"
      },
      "outputs": [
        {
          "output_type": "stream",
          "name": "stderr",
          "text": [
            "<ipython-input-6-c319868e6578>:5: FutureWarning: The default value of numeric_only in DataFrame.mean is deprecated. In a future version, it will default to False. In addition, specifying 'numeric_only=None' is deprecated. Select only valid columns or specify the value of numeric_only to silence this warning.\n",
            "  data = data.fillna(data.mean()).apply(fill_nan_with_mode, axis=0)\n",
            "<ipython-input-6-c319868e6578>:6: FutureWarning: The default value of numeric_only in DataFrame.mean is deprecated. In a future version, it will default to False. In addition, specifying 'numeric_only=None' is deprecated. Select only valid columns or specify the value of numeric_only to silence this warning.\n",
            "  test_data = test_data.fillna(test_data.mean()).apply(fill_nan_with_mode, axis=0)\n"
          ]
        }
      ],
      "source": [
        "def preprocess_data(data: pd.DataFrame, test_data: pd.DataFrame):\n",
        "    def fill_nan_with_mode(column):\n",
        "        mode = column.mode()[0]\n",
        "        return column.fillna(mode)\n",
        "    data = data.fillna(data.mean()).apply(fill_nan_with_mode, axis=0)\n",
        "    test_data = test_data.fillna(test_data.mean()).apply(fill_nan_with_mode, axis=0)\n",
        "    cat_columns = data.select_dtypes(include=[\"object\"])\n",
        "    data_encoded = pd.get_dummies(data, columns=cat_columns.columns)\n",
        "    test_data_encoded = pd.get_dummies(test_data, columns=cat_columns.columns)\n",
        "\n",
        "    return data_encoded, test_data_encoded\n",
        "\n",
        "data, test_data = preprocess_data(pd.read_csv(\"/content/application_train.csv\"), pd.read_csv(\"/content/application_test.csv\"))"
      ]
    },
    {
      "cell_type": "code",
      "execution_count": null,
      "metadata": {
        "id": "qTaKsP3YDiGt"
      },
      "outputs": [],
      "source": [
        "X_train = data.drop(\"TARGET\", axis=1)\n",
        "y_train = data[\"TARGET\"]\n",
        "for col in X_train.columns.difference(test_data.columns):\n",
        "    test_data[col] = [0] * len(test_data)\n",
        "\n",
        "test_data = test_data[X_train.columns]"
      ]
    },
    {
      "cell_type": "markdown",
      "source": [
        "## **Reducción de dimensionalidad usando PCA**"
      ],
      "metadata": {
        "id": "4OwBcTThWlJ-"
      }
    },
    {
      "cell_type": "markdown",
      "source": [
        "### **Mejores parámetros para PCA**"
      ],
      "metadata": {
        "id": "7xDUOYJ5W_6H"
      }
    },
    {
      "cell_type": "code",
      "source": [
        "pipeline = Pipeline([\n",
        "    ('pca', PCA()),\n",
        "    ('classifier', RandomForestClassifier())\n",
        "])\n",
        "\n",
        "param_grid = {\n",
        "    'pca__n_components': [5, 10, 20],\n",
        "    'classifier__n_estimators': [100], # Obtenido de 02 - Modelo con Random Forest.ipynb\n",
        "    'classifier__max_depth': [20] # Obtenido de 02 - Modelo con Random Forest.ipynb\n",
        "}\n",
        "\n",
        "grid_search = GridSearchCV(pipeline, param_grid=param_grid, cv=2, scoring='accuracy')\n",
        "\n",
        "grid_search.fit(X_train, y_train)"
      ],
      "metadata": {
        "id": "C-l1xET2WoWy",
        "colab": {
          "base_uri": "https://localhost:8080/",
          "height": 152
        },
        "outputId": "789feba4-b051-4624-de09-b098e23b1536"
      },
      "execution_count": null,
      "outputs": [
        {
          "output_type": "execute_result",
          "data": {
            "text/plain": [
              "GridSearchCV(cv=2,\n",
              "             estimator=Pipeline(steps=[('pca', PCA()),\n",
              "                                       ('classifier',\n",
              "                                        RandomForestClassifier())]),\n",
              "             param_grid={'classifier__max_depth': [20],\n",
              "                         'classifier__n_estimators': [100],\n",
              "                         'pca__n_components': [5, 10, 20]},\n",
              "             scoring='accuracy')"
            ],
            "text/html": [
              "<style>#sk-container-id-1 {color: black;background-color: white;}#sk-container-id-1 pre{padding: 0;}#sk-container-id-1 div.sk-toggleable {background-color: white;}#sk-container-id-1 label.sk-toggleable__label {cursor: pointer;display: block;width: 100%;margin-bottom: 0;padding: 0.3em;box-sizing: border-box;text-align: center;}#sk-container-id-1 label.sk-toggleable__label-arrow:before {content: \"▸\";float: left;margin-right: 0.25em;color: #696969;}#sk-container-id-1 label.sk-toggleable__label-arrow:hover:before {color: black;}#sk-container-id-1 div.sk-estimator:hover label.sk-toggleable__label-arrow:before {color: black;}#sk-container-id-1 div.sk-toggleable__content {max-height: 0;max-width: 0;overflow: hidden;text-align: left;background-color: #f0f8ff;}#sk-container-id-1 div.sk-toggleable__content pre {margin: 0.2em;color: black;border-radius: 0.25em;background-color: #f0f8ff;}#sk-container-id-1 input.sk-toggleable__control:checked~div.sk-toggleable__content {max-height: 200px;max-width: 100%;overflow: auto;}#sk-container-id-1 input.sk-toggleable__control:checked~label.sk-toggleable__label-arrow:before {content: \"▾\";}#sk-container-id-1 div.sk-estimator input.sk-toggleable__control:checked~label.sk-toggleable__label {background-color: #d4ebff;}#sk-container-id-1 div.sk-label input.sk-toggleable__control:checked~label.sk-toggleable__label {background-color: #d4ebff;}#sk-container-id-1 input.sk-hidden--visually {border: 0;clip: rect(1px 1px 1px 1px);clip: rect(1px, 1px, 1px, 1px);height: 1px;margin: -1px;overflow: hidden;padding: 0;position: absolute;width: 1px;}#sk-container-id-1 div.sk-estimator {font-family: monospace;background-color: #f0f8ff;border: 1px dotted black;border-radius: 0.25em;box-sizing: border-box;margin-bottom: 0.5em;}#sk-container-id-1 div.sk-estimator:hover {background-color: #d4ebff;}#sk-container-id-1 div.sk-parallel-item::after {content: \"\";width: 100%;border-bottom: 1px solid gray;flex-grow: 1;}#sk-container-id-1 div.sk-label:hover label.sk-toggleable__label {background-color: #d4ebff;}#sk-container-id-1 div.sk-serial::before {content: \"\";position: absolute;border-left: 1px solid gray;box-sizing: border-box;top: 0;bottom: 0;left: 50%;z-index: 0;}#sk-container-id-1 div.sk-serial {display: flex;flex-direction: column;align-items: center;background-color: white;padding-right: 0.2em;padding-left: 0.2em;position: relative;}#sk-container-id-1 div.sk-item {position: relative;z-index: 1;}#sk-container-id-1 div.sk-parallel {display: flex;align-items: stretch;justify-content: center;background-color: white;position: relative;}#sk-container-id-1 div.sk-item::before, #sk-container-id-1 div.sk-parallel-item::before {content: \"\";position: absolute;border-left: 1px solid gray;box-sizing: border-box;top: 0;bottom: 0;left: 50%;z-index: -1;}#sk-container-id-1 div.sk-parallel-item {display: flex;flex-direction: column;z-index: 1;position: relative;background-color: white;}#sk-container-id-1 div.sk-parallel-item:first-child::after {align-self: flex-end;width: 50%;}#sk-container-id-1 div.sk-parallel-item:last-child::after {align-self: flex-start;width: 50%;}#sk-container-id-1 div.sk-parallel-item:only-child::after {width: 0;}#sk-container-id-1 div.sk-dashed-wrapped {border: 1px dashed gray;margin: 0 0.4em 0.5em 0.4em;box-sizing: border-box;padding-bottom: 0.4em;background-color: white;}#sk-container-id-1 div.sk-label label {font-family: monospace;font-weight: bold;display: inline-block;line-height: 1.2em;}#sk-container-id-1 div.sk-label-container {text-align: center;}#sk-container-id-1 div.sk-container {/* jupyter's `normalize.less` sets `[hidden] { display: none; }` but bootstrap.min.css set `[hidden] { display: none !important; }` so we also need the `!important` here to be able to override the default hidden behavior on the sphinx rendered scikit-learn.org. See: https://github.com/scikit-learn/scikit-learn/issues/21755 */display: inline-block !important;position: relative;}#sk-container-id-1 div.sk-text-repr-fallback {display: none;}</style><div id=\"sk-container-id-1\" class=\"sk-top-container\"><div class=\"sk-text-repr-fallback\"><pre>GridSearchCV(cv=2,\n",
              "             estimator=Pipeline(steps=[(&#x27;pca&#x27;, PCA()),\n",
              "                                       (&#x27;classifier&#x27;,\n",
              "                                        RandomForestClassifier())]),\n",
              "             param_grid={&#x27;classifier__max_depth&#x27;: [20],\n",
              "                         &#x27;classifier__n_estimators&#x27;: [100],\n",
              "                         &#x27;pca__n_components&#x27;: [5, 10, 20]},\n",
              "             scoring=&#x27;accuracy&#x27;)</pre><b>In a Jupyter environment, please rerun this cell to show the HTML representation or trust the notebook. <br />On GitHub, the HTML representation is unable to render, please try loading this page with nbviewer.org.</b></div><div class=\"sk-container\" hidden><div class=\"sk-item sk-dashed-wrapped\"><div class=\"sk-label-container\"><div class=\"sk-label sk-toggleable\"><input class=\"sk-toggleable__control sk-hidden--visually\" id=\"sk-estimator-id-1\" type=\"checkbox\" ><label for=\"sk-estimator-id-1\" class=\"sk-toggleable__label sk-toggleable__label-arrow\">GridSearchCV</label><div class=\"sk-toggleable__content\"><pre>GridSearchCV(cv=2,\n",
              "             estimator=Pipeline(steps=[(&#x27;pca&#x27;, PCA()),\n",
              "                                       (&#x27;classifier&#x27;,\n",
              "                                        RandomForestClassifier())]),\n",
              "             param_grid={&#x27;classifier__max_depth&#x27;: [20],\n",
              "                         &#x27;classifier__n_estimators&#x27;: [100],\n",
              "                         &#x27;pca__n_components&#x27;: [5, 10, 20]},\n",
              "             scoring=&#x27;accuracy&#x27;)</pre></div></div></div><div class=\"sk-parallel\"><div class=\"sk-parallel-item\"><div class=\"sk-item\"><div class=\"sk-label-container\"><div class=\"sk-label sk-toggleable\"><input class=\"sk-toggleable__control sk-hidden--visually\" id=\"sk-estimator-id-2\" type=\"checkbox\" ><label for=\"sk-estimator-id-2\" class=\"sk-toggleable__label sk-toggleable__label-arrow\">estimator: Pipeline</label><div class=\"sk-toggleable__content\"><pre>Pipeline(steps=[(&#x27;pca&#x27;, PCA()), (&#x27;classifier&#x27;, RandomForestClassifier())])</pre></div></div></div><div class=\"sk-serial\"><div class=\"sk-item\"><div class=\"sk-serial\"><div class=\"sk-item\"><div class=\"sk-estimator sk-toggleable\"><input class=\"sk-toggleable__control sk-hidden--visually\" id=\"sk-estimator-id-3\" type=\"checkbox\" ><label for=\"sk-estimator-id-3\" class=\"sk-toggleable__label sk-toggleable__label-arrow\">PCA</label><div class=\"sk-toggleable__content\"><pre>PCA()</pre></div></div></div><div class=\"sk-item\"><div class=\"sk-estimator sk-toggleable\"><input class=\"sk-toggleable__control sk-hidden--visually\" id=\"sk-estimator-id-4\" type=\"checkbox\" ><label for=\"sk-estimator-id-4\" class=\"sk-toggleable__label sk-toggleable__label-arrow\">RandomForestClassifier</label><div class=\"sk-toggleable__content\"><pre>RandomForestClassifier()</pre></div></div></div></div></div></div></div></div></div></div></div></div>"
            ]
          },
          "metadata": {},
          "execution_count": 8
        }
      ]
    },
    {
      "cell_type": "code",
      "source": [
        "grid_search.best_params_"
      ],
      "metadata": {
        "id": "nEphT9RQXK4T",
        "colab": {
          "base_uri": "https://localhost:8080/"
        },
        "outputId": "1526b15a-59e0-48c4-ed4c-692e89771b31"
      },
      "execution_count": null,
      "outputs": [
        {
          "output_type": "execute_result",
          "data": {
            "text/plain": [
              "{'classifier__max_depth': 20,\n",
              " 'classifier__n_estimators': 100,\n",
              " 'pca__n_components': 20}"
            ]
          },
          "metadata": {},
          "execution_count": 9
        }
      ]
    },
    {
      "cell_type": "markdown",
      "source": [
        "## **Predicción con el mejor modelo**"
      ],
      "metadata": {
        "id": "vezg8kpQXYMh"
      }
    },
    {
      "cell_type": "code",
      "source": [
        "y_pred = grid_search.best_estimator_.predict_proba(test_data)"
      ],
      "metadata": {
        "id": "NfUwGdncXU3s"
      },
      "execution_count": null,
      "outputs": []
    },
    {
      "cell_type": "code",
      "source": [
        "y_pred"
      ],
      "metadata": {
        "colab": {
          "base_uri": "https://localhost:8080/"
        },
        "id": "D9bitmFuiN_9",
        "outputId": "c7376c26-de83-41f4-8f8b-b834e43c1742"
      },
      "execution_count": null,
      "outputs": [
        {
          "output_type": "execute_result",
          "data": {
            "text/plain": [
              "array([[0.94663901, 0.05336099],\n",
              "       [0.83663856, 0.16336144],\n",
              "       [0.89932821, 0.10067179],\n",
              "       ...,\n",
              "       [0.86631808, 0.13368192],\n",
              "       [0.85993819, 0.14006181],\n",
              "       [0.77351215, 0.22648785]])"
            ]
          },
          "metadata": {},
          "execution_count": 14
        }
      ]
    },
    {
      "cell_type": "code",
      "source": [
        "df = pd.DataFrame()\n",
        "df[\"SK_ID_CURR\"] = test_data[\"SK_ID_CURR\"]\n",
        "df[\"TARGET\"] = y_pred[:, 1]\n",
        "df = df.set_index(\"SK_ID_CURR\")\n",
        "df.to_csv(\"results.csv\")"
      ],
      "metadata": {
        "id": "IMhewTJwiIlG"
      },
      "execution_count": null,
      "outputs": []
    },
    {
      "cell_type": "markdown",
      "source": [
        "## **Resultados**"
      ],
      "metadata": {
        "id": "_7OwUEekidNj"
      }
    },
    {
      "cell_type": "markdown",
      "source": [
        "![image.png](data:image/png;base64,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)"
      ],
      "metadata": {
        "id": "2cYFThAZirDf"
      }
    },
    {
      "cell_type": "markdown",
      "source": [
        "## **Curva de aprendizaje**"
      ],
      "metadata": {
        "id": "ROFB59ooit0F"
      }
    },
    {
      "cell_type": "code",
      "source": [
        "train_sizes, train_scores, test_scores = learning_curve(\n",
        "    grid_search.best_estimator_, X_train, y_train, cv=2, n_jobs=-1, train_sizes=[0.1, 0.35, 0.6, 1.0]\n",
        ")"
      ],
      "metadata": {
        "id": "9uoOQBLhOuEr"
      },
      "execution_count": null,
      "outputs": []
    },
    {
      "cell_type": "code",
      "source": [
        "train_scores_mean = np.mean(train_scores, axis=1)\n",
        "train_scores_std = np.std(train_scores, axis=1)\n",
        "test_scores_mean = np.mean(test_scores, axis=1)\n",
        "test_scores_std = np.std(test_scores, axis=1)"
      ],
      "metadata": {
        "id": "dDCc-zY81bsk"
      },
      "execution_count": null,
      "outputs": []
    },
    {
      "cell_type": "code",
      "source": [
        "plt.figure(figsize=(10, 6))\n",
        "plt.fill_between(train_sizes, train_scores_mean - train_scores_std,\n",
        "                 train_scores_mean + train_scores_std, alpha=0.1, color=\"r\")\n",
        "plt.fill_between(train_sizes, test_scores_mean - test_scores_std,\n",
        "                 test_scores_mean + test_scores_std, alpha=0.1, color=\"g\")\n",
        "plt.plot(train_sizes, train_scores_mean, 'o-', color=\"r\", label=\"Training score\")\n",
        "plt.plot(train_sizes, test_scores_mean, 'o-', color=\"g\", label=\"Cross-validation score\")\n",
        "plt.xlabel(\"Training examples\")\n",
        "plt.ylabel(\"Score\")\n",
        "plt.legend(loc=\"best\")\n",
        "plt.title(\"Learning Curve (PCA + RandomForest)\")\n",
        "plt.show()"
      ],
      "metadata": {
        "colab": {
          "base_uri": "https://localhost:8080/",
          "height": 564
        },
        "id": "PCA-kFPT1Z7f",
        "outputId": "813506e2-8b6b-46f7-e0a6-18cbe8e894ca"
      },
      "execution_count": null,
      "outputs": [
        {
          "output_type": "display_data",
          "data": {
            "text/plain": [
              "<Figure size 1000x600 with 1 Axes>"
            ],
            "image/png": "[encoded data removed]"
          },
          "metadata": {}
        }
      ]
    }
  ]
}